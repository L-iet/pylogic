{
 "cells": [
  {
   "cell_type": "code",
   "execution_count": 28,
   "metadata": {},
   "outputs": [],
   "source": [
    "from pylogic.assumptions_context import AssumptionsContext, conclude\n",
    "from pylogic.proposition.proposition import Proposition\n",
    "from pylogic.structures.set_ import SeqSet\n",
    "from pylogic.theories.numbers import Naturals\n",
    "from pylogic.proposition.quantified.forall import ForallInSet\n",
    "from pylogic.variable import Variable\n",
    "from pylogic.expressions.prod import Prod\n",
    "from pylogic.expressions.mod import Mod\n",
    "from pylogic.proposition.not_ import Not, neg\n",
    "from pylogic.proposition.ordering.greaterthan import GreaterThan\n",
    "from pylogic.proposition.ordering.greaterorequal import GreaterOrEqual\n",
    "from pylogic.constant import Constant\n",
    "\n",
    "zero = Constant(0)\n",
    "one = Constant(1)"
   ]
  },
  {
   "cell_type": "code",
   "execution_count": 29,
   "metadata": {},
   "outputs": [],
   "source": [
    "def disp_prop_list(props):\n",
    "    for a in props:\n",
    "        display(a)"
   ]
  },
  {
   "cell_type": "code",
   "execution_count": null,
   "metadata": {},
   "outputs": [
    {
     "name": "stdout",
     "output_type": "stream",
     "text": [
      "here\n"
     ]
    },
    {
     "data": {
      "text/plain": [
       "True"
      ]
     },
     "metadata": {},
     "output_type": "display_data"
    },
    {
     "data": {
      "text/latex": [
       "$$\\forall m \\in \\mathbb{N}: \\forall u \\in \\text{FiniteSequences}: \\left(\\forall n \\in \\mathbb{N}: {u}_{n} \\in \\mathbb{N}\\wedge \\forall k \\in \\mathbb{N}: {u}_{k} \\text{ is prime } \\rightarrow \\left(\\exists q \\in \\mathbb{N}: \\left(q \\text{ is prime }\\wedge q \\not \\in \\{ u_n \\}\\right)\\right)\\right)$$"
      ],
      "text/plain": [
       "ForallInSet(Variable(m, deps=()), Set_Naturals, ForallInSet(Variable(u, deps=()), Set_AllFiniteSequences, Implies(And(ForallInSet(Variable(n, deps=()), Set_Naturals, IsContainedIn(u_(n), Naturals)), ForallInSet(Variable(k, deps=()), Set_Naturals, Prime(u_(k)))), ExistsInSet(Variable(q, deps=()), Set_Naturals, And(Prime(q), Not(IsContainedIn(q, {u})))))))"
      ]
     },
     "execution_count": 30,
     "metadata": {},
     "output_type": "execute_result"
    }
   ],
   "source": [
    "\n",
    "\n",
    "with AssumptionsContext() as ctx:\n",
    "    m = ctx.var('m')\n",
    "    m.is_in(Naturals).assume()\n",
    "    u = ctx.var('u', sequence=True, finite=True, natural=True, positive=True, length=m)\n",
    "    u_set = SeqSet(u)\n",
    "    u_set_is_subset_naturals = u_set.is_subset_of(Naturals).by_inspection()\n",
    "\n",
    "    k = Variable('k')\n",
    "    all_elements_prime = ForallInSet(k, Naturals, Naturals.prime(u[k])).assume()\n",
    "\n",
    "    product_u = Prod(u)\n",
    "\n",
    "    N = product_u + 1\n",
    "    # proving N > 1:\n",
    "    # since N is (a positive number) + 1, N > 1\n",
    "    n_gt_1 = Naturals.theorems.order_theorems.add_positive_gt_parts(product_u, one)(GreaterThan(product_u, zero).by_inspection(), GreaterThan(one, zero).by_inspection())[1]\n",
    "\n",
    "    # all u_k > 1\n",
    "    all_elements_gt_1 = all_elements_prime.definition.extract_conjuncts()[0]\n",
    "\n",
    "    # forall t in {u_n}: N mod t = 1\n",
    "    with AssumptionsContext() as ctx3:\n",
    "        t = ctx3.var('t')\n",
    "        t_in_u_set = t.is_in(u_set).assume()\n",
    "        k, (_, t_eq_uk) = t_in_u_set.thus_predicate()\n",
    "\n",
    "        # the mod gives 1 mod u_k, so we need to show that u_k > 1 to just get 1\n",
    "        uk_gt_1 = all_elements_gt_1(k)\n",
    "        uk = uk_gt_1.left\n",
    "        n_mod_t_eq_1 = (N % uk).equals(1).by_simplification().substitute(\"left\", t_eq_uk)\n",
    "        conclude(n_mod_t_eq_1)\n",
    "    each_p_in_s_remainder_1 = ctx3.get_proven()[0]\n",
    "    \n",
    "    # N is some product of primes by the fundamental theorem of arithmetic\n",
    "    # the sequwnce of primes is called s here\n",
    "    n_product_of_primes = Naturals.theorems.prime_theorems.gt_1_is_prod_primes(N)(n_gt_1)\n",
    "    s, (_, _, all_si_prime, n_eq_prod) = n_product_of_primes\n",
    "    prod_sn = n_eq_prod.right\n",
    "    # s_0 is prime but s_0 is not in {u_n}\n",
    "    # since N mod s_0 = 0 => N mod s_0 != 1,\n",
    "    # but for all t in {u_n}, N mod t = 1\n",
    "    s0_prime = all_si_prime(0)\n",
    "    s0_gt_1 = s0_prime.definition.extract()[0]\n",
    "    s0 = s0_gt_1.left\n",
    "    s0_neq_0 = Naturals.theorems.prime_theorems.prime_neq_0(s0)(s0_prime)\n",
    "    prod_sn_mod_s0 = (prod_sn % s0)\n",
    "    prod_sn_mod_s0_eq_0 = prod_sn_mod_s0.equals(0).by_simplification()\n",
    "    prod_sn_mod_s0_neq_1 = neg(zero.equals(one)).by_inspection().substitute(\"left\", prod_sn_mod_s0_eq_0)\n",
    "    n_mod_s0_neq_1 = prod_sn_mod_s0_neq_1.substitute(\"left\", n_eq_prod)\n",
    "    s0_in_set_u_implies_n_mod_s0_eq_1 = each_p_in_s_remainder_1.in_particular(s0)\n",
    "    s0_not_in_set_u = n_mod_s0_neq_1.modus_tollens(s0_in_set_u_implies_n_mod_s0_eq_1)\n",
    "\n",
    "    exists_prime_not_in_u = s0_prime.and_(s0_not_in_set_u).thus_there_exists(\"q\", s0, Naturals)\n",
    "    conclude(exists_prime_not_in_u)\n",
    "    \n",
    "ctx.get_proven()[0]"
   ]
  },
  {
   "cell_type": "code",
   "execution_count": null,
   "metadata": {},
   "outputs": [],
   "source": []
  }
 ],
 "metadata": {
  "kernelspec": {
   "display_name": "Python 3",
   "language": "python",
   "name": "python3"
  },
  "language_info": {
   "codemirror_mode": {
    "name": "ipython",
    "version": 3
   },
   "file_extension": ".py",
   "mimetype": "text/x-python",
   "name": "python",
   "nbconvert_exporter": "python",
   "pygments_lexer": "ipython3",
   "version": "3.11.4"
  }
 },
 "nbformat": 4,
 "nbformat_minor": 2
}
