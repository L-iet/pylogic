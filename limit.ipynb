{
 "cells": [
  {
   "cell_type": "markdown",
   "metadata": {},
   "source": [
    "# Limit of sum = sum of limits\n",
    "\n",
    "\n",
    "This example mirrors the Lean proof from [Lean For the Curious Mathematician 2023](https://github.com/lftcm2023/lftcm2023/blob/master/LftCM/C02_Logic/S06_Sequences_and_Convergence.lean#L29).\n",
    "\n",
    "```lean\n",
    "theorem convergesTo_add {s t : ℕ → ℝ} {a b : ℝ}\n",
    "      (cs : ConvergesTo s a) (ct : ConvergesTo t b) :\n",
    "    ConvergesTo (fun n ↦ s n + t n) (a + b) := by\n",
    "  intro ε εpos\n",
    "  dsimp\n",
    "  have ε2pos : 0 < ε / 2 := by linarith\n",
    "  rcases cs (ε / 2) ε2pos with ⟨Ns, hs⟩\n",
    "  rcases ct (ε / 2) ε2pos with ⟨Nt, ht⟩\n",
    "  use max Ns Nt\n",
    "  intro n hn\n",
    "  have ngeNs : n ≥ Ns := le_of_max_le_left hn\n",
    "  have ngeNt : n ≥ Nt := le_of_max_le_right hn\n",
    "  calc\n",
    "    |s n + t n - (a + b)| = |s n - a + (t n - b)| := by\n",
    "      congr\n",
    "      ring\n",
    "    _ ≤ |s n - a| + |t n - b| := (abs_add _ _)\n",
    "    _ < ε / 2 + ε / 2 := (add_lt_add (hs n ngeNs) (ht n ngeNt))\n",
    "    _ = ε := by norm_num\n",
    "```"
   ]
  },
  {
   "cell_type": "code",
   "execution_count": 1,
   "metadata": {},
   "outputs": [],
   "source": [
    "from pylogic import *\n",
    "settings['PYTHON_OPS_RETURN_PROPS'] = True\n",
    "\n",
    "def ConvergesTo(s, a):\n",
    "    return Limit.make_epsilon_N_definition(a, s)"
   ]
  },
  {
   "cell_type": "code",
   "execution_count": null,
   "metadata": {},
   "outputs": [
    {
     "name": "stdout",
     "output_type": "stream",
     "text": [
      "True\n"
     ]
    }
   ],
   "source": [
    "s, t = variables('s', 't', sequence=True, real=True)\n",
    "a, b = variables('a', 'b', real=True)\n",
    "s_plus_t = Sequence('(s+t)', nth_term = lambda n: s[n] + t[n])\n",
    "cs = ConvergesTo(s, a).assume(); ct = ConvergesTo(t, b).assume()\n",
    "to_prove = ConvergesTo(s_plus_t, a + b)\n",
    "with AssumptionsContext() as ctx:\n",
    "    ε = ctx_var(r'\\epsilon', real=True, positive=True); εpos = (ε > 0).by_inspection()\n",
    "    ε2 = ε / 2\n",
    "    ε2pos = (ε2 > 0).by_inspection()\n",
    "\n",
    "    Ns, (_, hs) = cs(ε2)(ε2pos).rename_variable('N_s')\n",
    "    Nt, (_, ht) = ct(ε2)(ε2pos).rename_variable('N_t')\n",
    "    N = Max(Ns, Nt)\n",
    "\n",
    "    with AssumptionsContext() as n_ctx:\n",
    "        n = ctx_var('n', natural=True)\n",
    "        hn = (n >= N).assume()\n",
    "        ngeNs = hn.transitive(N.geq_a)\n",
    "        ngeNt = hn.transitive(N.geq_b)\n",
    "        ineq0 = hs(n)(ngeNs); ineq1 = ht(n)(ngeNt)\n",
    "\n",
    "        sn = s[n]\n",
    "        tn = t[n]\n",
    "        stn = s_plus_t[n]\n",
    "        sn_tn = sn + tn\n",
    "        eq2 = stn.equals(sn_tn).by_eval()\n",
    "        \n",
    "        ineq = transitive(\"<\",\n",
    "            (eq2 - (a + b)).apply(abs),\n",
    "            abs(sn_tn - (a + b)).equals(abs((sn - a) + (tn - b))).by_eval(),\n",
    "            Reals.theorems.triangle_inequality(sn - a, tn - b),\n",
    "            ineq0 + ineq1,\n",
    "            ((ε2 + ε2).equals(ε)).by_eval()\n",
    "        )\n",
    "        conclude(ineq)\n",
    "    conclude(n_ctx.get_first_proven().thus_there_exists(\"N\", N, Naturals))\n",
    "convergesTo_add = ctx.get_first_proven()\n"
   ]
  },
  {
   "cell_type": "code",
   "execution_count": null,
   "metadata": {},
   "outputs": [],
   "source": []
  },
  {
   "cell_type": "code",
   "execution_count": null,
   "metadata": {},
   "outputs": [],
   "source": []
  }
 ],
 "metadata": {
  "kernelspec": {
   "display_name": "Python 3",
   "language": "python",
   "name": "python3"
  },
  "language_info": {
   "codemirror_mode": {
    "name": "ipython",
    "version": 3
   },
   "file_extension": ".py",
   "mimetype": "text/x-python",
   "name": "python",
   "nbconvert_exporter": "python",
   "pygments_lexer": "ipython3",
   "version": "3.11.4"
  }
 },
 "nbformat": 4,
 "nbformat_minor": 2
}
