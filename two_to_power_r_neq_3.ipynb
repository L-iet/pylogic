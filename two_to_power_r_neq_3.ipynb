{
 "cells": [
  {
   "cell_type": "markdown",
   "metadata": {},
   "source": [
    "# No rational $r$ s.t. $2^r = 3$."
   ]
  },
  {
   "cell_type": "code",
   "execution_count": 1,
   "metadata": {},
   "outputs": [],
   "source": [
    "from pylogic import *"
   ]
  },
  {
   "cell_type": "code",
   "execution_count": 5,
   "metadata": {},
   "outputs": [
    {
     "data": {
      "text/latex": [
       "$$2^{p} = 3^{q}$$"
      ],
      "text/plain": [
       "Equals(2^p, 3^q)"
      ]
     },
     "metadata": {},
     "output_type": "display_data"
    }
   ],
   "source": [
    "with AssumptionsContext() as ctx:\n",
    "    r = Variable('r')\n",
    "    p1 = ExistsInSet(r, Rationals, (2**r).equals(3)).assume()\n",
    "    r, (r_rational, eq) = p1.extract()\n",
    "    p, (_, (q, (_, _, r_eq_p_over_q, gcd_p_q_eq_1))) = Rationals.theorems.ratio_of_integers_lowest_terms(r)\n",
    "    eq2 = eq.substitute(\"right\", r_eq_p_over_q)\n",
    "    eq3 = (eq2 ** q).evaluate()\n",
    "    display(eq3)"
   ]
  },
  {
   "cell_type": "markdown",
   "metadata": {},
   "source": []
  }
 ],
 "metadata": {
  "kernelspec": {
   "display_name": "Python 3",
   "language": "python",
   "name": "python3"
  },
  "language_info": {
   "codemirror_mode": {
    "name": "ipython",
    "version": 3
   },
   "file_extension": ".py",
   "mimetype": "text/x-python",
   "name": "python",
   "nbconvert_exporter": "python",
   "pygments_lexer": "ipython3",
   "version": "3.11.4"
  }
 },
 "nbformat": 4,
 "nbformat_minor": 2
}
