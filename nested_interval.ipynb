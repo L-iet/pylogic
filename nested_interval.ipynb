{
 "cells": [
  {
   "cell_type": "code",
   "execution_count": null,
   "metadata": {},
   "outputs": [],
   "source": [
    "from pylogic.constant import Constant\n",
    "from pylogic.helpers import assume\n",
    "from pylogic.proposition.quantified.exists import ExistsInSet\n",
    "from pylogic.proposition.quantified.forall import ForallInSet\n",
    "from pylogic.proposition.relation.equals import Equals\n",
    "from pylogic.structures.sequence import Sequence\n",
    "from pylogic.structures.set_ import EmptySet, Intersection, Set\n",
    "from pylogic.theories.natural_numbers import Naturals, one, zero\n",
    "from pylogic.theories.real_analysis import Interval, Reals\n",
    "from pylogic.variable import Variable\n",
    "from pylogic.enviroment_settings.settings import  settings\n",
    "\n",
    "\n",
    "a = Sequence(\"a\")\n",
    "a.define_predicate(\n",
    "    lambda n: Reals.contains(a[n]).and_(Reals.less_or_equal(a[n], a[n + 1]))\n",
    ")\n",
    "\n",
    "b = Sequence(\"b\")\n",
    "b.define_predicate(\n",
    "    lambda n: Reals.contains(b[n]).and_(Reals.less_or_equal(b[n + 1], b[n]))\n",
    ")\n",
    "\n",
    "I = Sequence(\n",
    "    \"I\", nth_term=lambda n: Interval(a[n], b[n], a_inclusive=True, b_inclusive=True)\n",
    ")\n",
    "\n",
    "# The proof esssentially goes as follows:\n",
    "\n",
    "# 1. A is nonempty, since a0 is in A\n",
    "# 2. bk is an upper bound for sequence a, and therefore set A = {a[n] | n in Naturals}\n",
    "# 3. A has a least upper bound, lub_A\n",
    "# 4. Given any k, a[k] <= lub_A <= b[k], so lub_A is in each interval I[k]\n",
    "\n"
   ]
  },
  {
   "cell_type": "code",
   "execution_count": 2,
   "metadata": {},
   "outputs": [],
   "source": [
    "x = Variable(\"x\")\n",
    "n = Variable(\"n\")\n",
    "k = Variable(\"k\")\n",
    "k0 = Variable(\"k0\")\n",
    "k1 = Variable(\"k1\")\n",
    "\n",
    "# this is assumed in the proof\n",
    "# needed to ensure each interval is not empty\n",
    "forall_n_in_N_an_leq_bn = ForallInSet(\n",
    "    n, Naturals, Reals.less_or_equal(a[n], b[n]), is_assumption=True\n",
    ")\n",
    "\n",
    "A = Set(\n",
    "    \"A\",\n",
    "    predicate=lambda x: x.is_in(Reals).and_(ExistsInSet(n, Naturals, x.equals(a[n]))),\n",
    ")\n",
    "\n"
   ]
  },
  {
   "cell_type": "code",
   "execution_count": 11,
   "metadata": {},
   "outputs": [
    {
     "name": "stderr",
     "output_type": "stream",
     "text": [
      "d:\\Minerva\\courses\\CP\\pylogic\\pylogic\\proposition\\proposition.py:237: UserWarning: forall k0 in Naturals: forall k1 in Naturals: (k0 <= k1 -> a_(k0) <= a_(k1) /\\ b_(k1) <= b_(k0)) is marked as TODO\n",
      "  warnings.warn(\n"
     ]
    },
    {
     "data": {
      "text/latex": [
       "$$\\forall k0 \\in \\mathbb{N}: \\forall k1 \\in \\mathbb{N}: \\left(k0 \\leq k1 \\rightarrow {a}_{k0} \\leq {a}_{k1}\\wedge {b}_{k1} \\leq {b}_{k0}\\right)$$"
      ],
      "text/plain": [
       "ForallInSet(Variable(k0, deps=()), Set_Naturals, ForallInSet(Variable(k1, deps=()), Set_Naturals, Implies(LessOrEqual(k0, k1), And(LessOrEqual(a_(k0), a_(k1)), LessOrEqual(b_(k1), b_(k0))))))"
      ]
     },
     "execution_count": 11,
     "metadata": {},
     "output_type": "execute_result"
    }
   ],
   "source": [
    "# this can be proven by nested induction, but it's a bit long\n",
    "forall_k_and_n_in_N_k_leq_n_implies_ak_leq_an_and_bn_leq_bk = ForallInSet(\n",
    "    k0,\n",
    "    Naturals,\n",
    "    ForallInSet(\n",
    "        k1,\n",
    "        Naturals,\n",
    "        Naturals.less_or_equal(k0, k1).implies(\n",
    "            Reals.less_or_equal(a[k0], a[k1]).and_(Reals.less_or_equal(b[k1], b[k0]))\n",
    "        ),\n",
    "    ),\n",
    ").todo()\n",
    "\n",
    "forall_k_and_n_in_N_k_leq_n_implies_ak_leq_an_and_bn_leq_bk\n",
    "\n"
   ]
  },
  {
   "cell_type": "code",
   "execution_count": 4,
   "metadata": {},
   "outputs": [],
   "source": [
    "# proving that A is nonempty by showing that a0 is in A\n",
    "a0 = a[zero]\n",
    "a0_eq_a0 = Equals.reflexive(a0)\n",
    "exists_n_in_naturals_a0_eq_n = a0_eq_a0.thus_there_exists(\n",
    "    \"n\", zero, Naturals, positions=[[1]]\n",
    ")\n",
    "a0_is_real = a.predicate(0)[0]\n",
    "a_predicate_for_0 = a0_is_real.p_and(exists_n_in_naturals_a0_eq_n)\n",
    "a0_in_A = a0.is_in(A).by_predicate(a_predicate_for_0)\n",
    "A_nonempty = a0_in_A.thus_not_empty()\n",
    "# print(A_nonempty)\n",
    "\n",
    "\n"
   ]
  },
  {
   "cell_type": "code",
   "execution_count": 5,
   "metadata": {},
   "outputs": [],
   "source": [
    "bk = b[k]\n",
    "\n",
    "# here, we prove that bk is an upper bound for A, so that we can show that A has a least upper bound\n",
    "n_in_N, k_in_N = assume(n.is_in(Naturals), k.is_in(Naturals))\n",
    "bk_is_real = b.predicate(k)[0]  # bk is a real number by definition of sequence b\n",
    "\n",
    "# we do a proof by cases\n",
    "\n",
    "# case 1: n <= k\n",
    "n_leq_k = assume(Naturals.less_or_equal(n, k))\n",
    "an_leq_ak = forall_k_and_n_in_N_k_leq_n_implies_ak_leq_an_and_bn_leq_bk(n, k)(n_leq_k)[\n",
    "    0\n",
    "]\n",
    "ak_leq_bk = forall_n_in_N_an_leq_bn(k)\n",
    "an_leq_bk = an_leq_ak.transitive(ak_leq_bk)\n",
    "impl1 = an_leq_bk.followed_from(n_leq_k)\n",
    "\n",
    "# case 2: k <= n\n",
    "k_leq_n = assume(Naturals.less_or_equal(k, n))\n",
    "an_leq_bn = forall_n_in_N_an_leq_bn(n)\n",
    "bn_leq_bk = forall_k_and_n_in_N_k_leq_n_implies_ak_leq_an_and_bn_leq_bk(k, n)(k_leq_n)[\n",
    "    1\n",
    "]\n",
    "an_leq_bk2 = an_leq_bn.transitive(bn_leq_bk)\n",
    "impl2 = an_leq_bk2.followed_from(k_leq_n)\n",
    "\n",
    "# strongly connected: for all naturals a,b, a<=b or b<=a\n",
    "leq_is_strongly_connected = Naturals.order_is_strongly_connected(n, k)\n",
    "an_leq_bk = leq_is_strongly_connected.by_cases(impl1, impl2)\n",
    "forall_n_in_N_an_leq_bk = an_leq_bk.thus_forall(n_in_N)\n",
    "\n",
    "\n"
   ]
  },
  {
   "cell_type": "code",
   "execution_count": 6,
   "metadata": {},
   "outputs": [],
   "source": [
    "# now show that this is equivalent to bk being an upper bound for A\n",
    "x_in_A = x.is_in(A).assume()\n",
    "n_in_N = n.is_in(Naturals).assume()\n",
    "w_is_in_sequence_a = x_in_A.thus_predicate()[1]\n",
    "i, i_in_N_and_w_eq_ai = w_is_in_sequence_a.extract()\n",
    "\n",
    "ai_leq_bk = forall_n_in_N_an_leq_bk(i)\n",
    "w_leq_bk = ai_leq_bk.substitute(\"left\", i_in_N_and_w_eq_ai[1])\n",
    "forall_w_in_A_w_leq_bk = w_leq_bk.thus_forall(x_in_A)  # forall w in A, w <= bk\n",
    "\n",
    "# therefore, A has an upper bound\n",
    "exists_real_ub_for_A = forall_w_in_A_w_leq_bk.thus_there_exists(\"ub\", bk, Reals)\n",
    "\n"
   ]
  },
  {
   "cell_type": "code",
   "execution_count": 7,
   "metadata": {},
   "outputs": [],
   "source": [
    "# by the completeness axiom, A has a least upper bound\n",
    "A_has_lub = Reals.bounded_above_has_lub(A)(A_nonempty, exists_real_ub_for_A)\n",
    "lub_A, lub_A_is_ub_and_least = A_has_lub.extract()\n",
    "lub_A_is_real = lub_A_is_ub_and_least[0]\n",
    "lub_A_is_ub = lub_A_is_ub_and_least[1]\n",
    "lub_A_is_least = lub_A_is_ub_and_least[2]\n",
    "\n",
    "\n"
   ]
  },
  {
   "cell_type": "code",
   "execution_count": 8,
   "metadata": {},
   "outputs": [],
   "source": [
    "# Given k, a[k] is a real number in A\n",
    "ak = a[k]\n",
    "ak_is_real = a.predicate(k)[0]\n",
    "exists_n_in_N_ak_eq_an = Equals.reflexive(a[k]).thus_there_exists(\n",
    "    \"n\", k, set_=Naturals, positions=[[1]]\n",
    ")\n",
    "ak_in_A = ak.is_in(A).by_predicate(ak_is_real.p_and(exists_n_in_N_ak_eq_an))\n",
    "\n"
   ]
  },
  {
   "cell_type": "code",
   "execution_count": 9,
   "metadata": {},
   "outputs": [],
   "source": [
    "ak_leq_lub = lub_A_is_ub(ak)  # ak <= lub\n",
    "bk_is_ub_for_A = forall_w_in_A_w_leq_bk.rename_variable(\"x\")\n",
    "if_bk_ub_then_lub_leq_bk = lub_A_is_least(bk)\n",
    "lub_leq_bk = bk_is_ub_for_A.modus_ponens(if_bk_ub_then_lub_leq_bk)  # lub <= bk\n",
    "\n",
    "\n"
   ]
  },
  {
   "cell_type": "code",
   "execution_count": 10,
   "metadata": {},
   "outputs": [],
   "source": [
    "# therefore, lub is in each interval I[k]\n",
    "lub_in_int_k = lub_A_is_real.p_and(ak_leq_lub, lub_leq_bk)\n",
    "\n",
    "Ik_eval = I[k].evaluate()\n",
    "Ik_is_interval = I[k].equals(Ik_eval).by_simplification()  # [a[k], b[k]] = I[k]\n",
    "lub_in_Ik_eval = lub_A.is_in(Ik_eval).by_predicate(lub_in_int_k)\n",
    "\n"
   ]
  },
  {
   "cell_type": "code",
   "execution_count": 11,
   "metadata": {},
   "outputs": [],
   "source": [
    "lub_in_Ik = lub_in_Ik_eval.substitute(\"left\", Ik_is_interval)\n",
    "forall_k_lub_in_Ik = lub_in_Ik.thus_forall(k_in_N)\n",
    "\n",
    "\n"
   ]
  },
  {
   "cell_type": "code",
   "execution_count": 12,
   "metadata": {},
   "outputs": [
    {
     "data": {
      "text/latex": [
       "$$lub \\in \\bigcap I$$"
      ],
      "text/plain": [
       "IsContainedIn(lub, Intersection(I))"
      ]
     },
     "metadata": {},
     "output_type": "display_data"
    }
   ],
   "source": [
    "intersection = Intersection(I, name=\"I\")\n",
    "lub_in_intersection = lub_A.is_in(intersection).by_predicate(forall_k_lub_in_Ik)\n",
    "display(lub_in_intersection)"
   ]
  },
  {
   "cell_type": "code",
   "execution_count": null,
   "metadata": {},
   "outputs": [],
   "source": []
  }
 ],
 "metadata": {
  "kernelspec": {
   "display_name": "Python 3",
   "language": "python",
   "name": "python3"
  },
  "language_info": {
   "codemirror_mode": {
    "name": "ipython",
    "version": 3
   },
   "file_extension": ".py",
   "mimetype": "text/x-python",
   "name": "python",
   "nbconvert_exporter": "python",
   "pygments_lexer": "ipython3",
   "version": "3.11.4"
  }
 },
 "nbformat": 4,
 "nbformat_minor": 2
}
