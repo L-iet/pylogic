{
 "cells": [
  {
   "cell_type": "markdown",
   "metadata": {},
   "source": [
    "# Nested Interval Property\n",
    "\n",
    "This is a proof of the nested interval property of real numbers. Original proof from Understanding Analysis by Stephen Abbott."
   ]
  },
  {
   "cell_type": "code",
   "execution_count": 1,
   "metadata": {},
   "outputs": [],
   "source": [
    "from pylogic import *"
   ]
  },
  {
   "cell_type": "code",
   "execution_count": 2,
   "metadata": {},
   "outputs": [
    {
     "data": {
      "text/latex": [
       "$$lub \\in \\bigcap \\left(\\left[{a}_{n}, {b}_{n}\\right]\\cdots\\right)$$"
      ],
      "text/plain": [
       "IsContainedIn(lub, Intersection([a_(n),b_(n)]...))"
      ]
     },
     "metadata": {},
     "output_type": "display_data"
    }
   ],
   "source": [
    "settings[\"PYTHON_OPS_RETURN_PROPS\"] = True\n",
    "\n",
    "a = Sequence(\"a\", real=True)\n",
    "b = Sequence(\"b\", real=True)\n",
    "\n",
    "I = Sequence(\n",
    "    \"I\",\n",
    "    set_=True,\n",
    "    nth_term=lambda n: interval(\n",
    "        [a[n], b[n]],\n",
    "    ),\n",
    ")\n",
    "\n",
    "# The proof esssentially goes as follows:\n",
    "\n",
    "# 1. A is nonempty, since a0 is in A\n",
    "# 2. bk is an upper bound for sequence a, and therefore set A = {a[n] | n in Naturals}\n",
    "# 3. A has a least upper bound, lub_A\n",
    "# 4. Given any k, a[k] <= lub_A <= b[k], so lub_A is in each interval I[k]\n",
    "\n",
    "n = Variable(\"n\")\n",
    "k0 = Variable(\"k0\")\n",
    "k1 = Variable(\"k1\")\n",
    "\n",
    "forall_n_in_N_an_leq_bn = ForallInSet(n, Naturals, a[n] <= b[n]).assume()\n",
    "forall_k_and_n_in_N_k_leq_n_implies_ak_leq_an_and_bn_leq_bk = ForallInSet(\n",
    "    k0,\n",
    "    Naturals,\n",
    "    ForallInSet(\n",
    "        k1, Naturals, if_(k0 <= k1).then((a[k0] <= a[k1]).and_(b[k1] <= b[k0]))\n",
    "    ),\n",
    ").assume()\n",
    "\n",
    "A = SeqSet(a)\n",
    "\n",
    "# Part 1: A is nonempty\n",
    "# proving that A is nonempty by showing that a0 is in A\n",
    "a0 = a[zero]\n",
    "a0_in_A = a0.is_in(A).by_inspection()\n",
    "A_nonempty = a0_in_A.thus_not_empty()\n",
    "\n",
    "\n",
    "# Part 2: bk is an upper bound for set A\n",
    "# here, we prove that bk is an upper bound for A, so that we can show that A has a least upper bound\n",
    "# proving that an <= bk for all n and k in Naturals\n",
    "with AssumptionsContext() as ctx:\n",
    "    k = ctx_var(\"k\", natural=True)\n",
    "    bk = b[k]\n",
    "    ak = a[k]\n",
    "    Ik = I[k]\n",
    "\n",
    "    # given any x in A, we show that x <= bk\n",
    "    with AssumptionsContext() as x_ctx:\n",
    "        x = ctx_var(\"x\")\n",
    "        x_in_A = x.is_in(A).assume()\n",
    "        n, (_, x_eq_an) = x_in_A.thus_predicate().rename_variable(\"n\")\n",
    "\n",
    "        # we do a proof by cases\n",
    "\n",
    "        # case 1: n <= k\n",
    "        with AssumptionsContext() as case_1:\n",
    "            n_leq_k = assume(n <= k)\n",
    "            an_leq_ak = forall_k_and_n_in_N_k_leq_n_implies_ak_leq_an_and_bn_leq_bk(\n",
    "                n, k\n",
    "            )(n_leq_k)[0]\n",
    "            ak_leq_bk = forall_n_in_N_an_leq_bn(k)\n",
    "            an_leq_bk = an_leq_ak.transitive(ak_leq_bk)\n",
    "            conclude(an_leq_bk)\n",
    "        impl1 = case_1.get_proven()[0]\n",
    "        # print(k.is_natural)\n",
    "\n",
    "        with AssumptionsContext() as case_2:\n",
    "            # case 2: k <= n\n",
    "            k_leq_n = assume(k <= n)\n",
    "            an_leq_bn = forall_n_in_N_an_leq_bn(n)\n",
    "            bn_leq_bk = forall_k_and_n_in_N_k_leq_n_implies_ak_leq_an_and_bn_leq_bk(k, n)(k_leq_n)[1]\n",
    "            an_leq_bk = an_leq_bn.transitive(bn_leq_bk)\n",
    "            conclude(an_leq_bk)\n",
    "        impl2 = case_2.get_proven()[0]\n",
    "\n",
    "        # strongly connected: for all naturals a,b, a<=b or b<=a\n",
    "        leq_is_strongly_connected = Naturals.order_is_strongly_connected(n, k)\n",
    "        an_leq_bk = leq_is_strongly_connected.by_cases(impl1, impl2)\n",
    "        conclude(an_leq_bk.substitute(\"left\", x_eq_an))\n",
    "\n",
    "    forall_x_in_A_x_leq_bk = x_ctx.get_proven()[0] # this was Part 2 goal\n",
    "    # therefore, A has an upper bound\n",
    "    exists_real_ub_for_A = forall_x_in_A_x_leq_bk.thus_there_exists(\"ub\", bk, Reals)\n",
    "\n",
    "\n",
    "    # Part 3: A has a least upper bound\n",
    "    # by the completeness axiom, A has a least upper bound\n",
    "    # we extract it and get its properties\n",
    "    A_has_lub = Reals.bounded_above_has_lub(A)(A_nonempty, exists_real_ub_for_A)\n",
    "    lub_A, lub_A_is_ub_and_least = A_has_lub.extract()\n",
    "    lub_A_is_real = lub_A_is_ub_and_least[0]\n",
    "    lub_A_is_ub = lub_A_is_ub_and_least[1]\n",
    "    lub_A_is_least = lub_A_is_ub_and_least[2]\n",
    "\n",
    "    # Part 4: a[k] <= lub_A <= b[k]\n",
    "    # therefore lub_A is in I[k] = [a[k], b[k]]\n",
    "    ak_leq_lub = lub_A_is_ub(ak)\n",
    "    if_bk_ub_then_lub_leq_bk = lub_A_is_least(bk)\n",
    "    lub_leq_bk = forall_x_in_A_x_leq_bk.modus_ponens(if_bk_ub_then_lub_leq_bk)\n",
    "\n",
    "    lub_in_interval_k = lub_A.is_in(interval([ak, bk])).by_predicate(lub_A_is_real.and_(ak_leq_lub, lub_leq_bk))\n",
    "    Ik_eq_interval_k = Ik.equals(interval([ak, bk])).by_simplification()  # I[k] = [a[k], b[k]]\n",
    "    lub_in_Ik = lub_in_interval_k.substitute(\"left\", Ik_eq_interval_k)\n",
    "    conclude(lub_in_Ik)\n",
    "\n",
    "intersection = Intersection(I, name=\"I\")\n",
    "\n",
    "forall_k_lub_in_Ik = ctx.get_proven()[0]\n",
    "display(lub_A.is_in(intersection).by_predicate(forall_k_lub_in_Ik))\n"
   ]
  },
  {
   "cell_type": "code",
   "execution_count": null,
   "metadata": {},
   "outputs": [],
   "source": []
  }
 ],
 "metadata": {
  "kernelspec": {
   "display_name": "Python 3",
   "language": "python",
   "name": "python3"
  },
  "language_info": {
   "codemirror_mode": {
    "name": "ipython",
    "version": 3
   },
   "file_extension": ".py",
   "mimetype": "text/x-python",
   "name": "python",
   "nbconvert_exporter": "python",
   "pygments_lexer": "ipython3",
   "version": "3.11.4"
  }
 },
 "nbformat": 4,
 "nbformat_minor": 2
}
