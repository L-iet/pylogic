{
 "cells": [
  {
   "cell_type": "code",
   "execution_count": 1,
   "metadata": {},
   "outputs": [
    {
     "name": "stdout",
     "output_type": "stream",
     "text": [
      "False False\n"
     ]
    }
   ],
   "source": [
    "from pylogic.expressions.mod import Mod\n",
    "from pylogic.constant import  Constant\n",
    "\n",
    "x,y,z,k,w,c = map(lambda c: Constant(c, integer=True,positive=True), 'xyzkwc')\n",
    "# print((x+y).is_positive)\n",
    "print(x.is_zero, x._is_zero)\n"
   ]
  },
  {
   "cell_type": "code",
   "execution_count": 12,
   "metadata": {},
   "outputs": [
    {
     "data": {
      "text/latex": [
       "$$\\left(-2 \\cdot y + x\\right)^{2}\\mod x \\cdot y$$"
      ],
      "text/plain": [
       "Mod(Pow(Add(Mul(Constant(-2, deps=()), Constant(y, deps=())), Constant(x, deps=())), Constant(2, deps=())), Mul(Constant(x, deps=()), Constant(y, deps=())))"
      ]
     },
     "execution_count": 12,
     "metadata": {},
     "output_type": "execute_result"
    }
   ],
   "source": [
    "Mod((x-2*y)**2, x*y).evaluate()"
   ]
  },
  {
   "cell_type": "code",
   "execution_count": 13,
   "metadata": {},
   "outputs": [
    {
     "data": {
      "text/latex": [
       "$$\\left(x^{2} + 4 \\cdot y^{2}\\right)\\mod x \\cdot y$$"
      ],
      "text/plain": [
       "Mod(Add(Pow(Constant(x, deps=()), Constant(2, deps=())), Mul(Constant(4, deps=()), Pow(Constant(y, deps=()), Constant(2, deps=())))), Mul(Constant(x, deps=()), Constant(y, deps=())))"
      ]
     },
     "execution_count": 13,
     "metadata": {},
     "output_type": "execute_result"
    }
   ],
   "source": [
    "a = Mod(x**2 + 4*y**2 - 4*x*y, x*y)\n",
    "a.evaluate()"
   ]
  },
  {
   "cell_type": "code",
   "execution_count": 14,
   "metadata": {},
   "outputs": [
    {
     "data": {
      "text/latex": [
       "$$z\\mod \\left(x + y\\right)$$"
      ],
      "text/plain": [
       "Mod(Constant(z, deps=()), Add(Constant(x, deps=()), Constant(y, deps=())))"
      ]
     },
     "execution_count": 14,
     "metadata": {},
     "output_type": "execute_result"
    }
   ],
   "source": [
    "Mod(z-x-y, x+y).evaluate()"
   ]
  },
  {
   "cell_type": "code",
   "execution_count": 15,
   "metadata": {},
   "outputs": [
    {
     "data": {
      "text/latex": [
       "$$0$$"
      ],
      "text/plain": [
       "Constant(0, deps=())"
      ]
     },
     "execution_count": 15,
     "metadata": {},
     "output_type": "execute_result"
    }
   ],
   "source": [
    "Mod(x+(y+z), x+y+z).evaluate()"
   ]
  },
  {
   "cell_type": "code",
   "execution_count": 16,
   "metadata": {},
   "outputs": [
    {
     "data": {
      "text/latex": [
       "$$z\\mod \\left(x + y\\right)$$"
      ],
      "text/plain": [
       "Mod(Constant(z, deps=()), Add(Constant(x, deps=()), Constant(y, deps=())))"
      ]
     },
     "execution_count": 16,
     "metadata": {},
     "output_type": "execute_result"
    }
   ],
   "source": [
    "Mod(x+(y+z), x+y).evaluate()"
   ]
  },
  {
   "cell_type": "code",
   "execution_count": 17,
   "metadata": {},
   "outputs": [
    {
     "data": {
      "text/latex": [
       "$$z\\mod \\left(x + y\\right)$$"
      ],
      "text/plain": [
       "Mod(Constant(z, deps=()), Add(Constant(x, deps=()), Constant(y, deps=())))"
      ]
     },
     "execution_count": 17,
     "metadata": {},
     "output_type": "execute_result"
    }
   ],
   "source": [
    "Mod(k*(x+y)+z, x+y).evaluate()"
   ]
  },
  {
   "cell_type": "code",
   "execution_count": 2,
   "metadata": {},
   "outputs": [
    {
     "data": {
      "text/latex": [
       "$$0$$"
      ],
      "text/plain": [
       "Constant(0, deps=())"
      ]
     },
     "metadata": {},
     "output_type": "display_data"
    },
    {
     "name": "stdout",
     "output_type": "stream",
     "text": [
      "{a_(6) > 2}\n"
     ]
    },
    {
     "data": {
      "text/latex": [
       "$$2$$"
      ],
      "text/plain": [
       "Constant(2, deps=())"
      ]
     },
     "execution_count": 2,
     "metadata": {},
     "output_type": "execute_result"
    }
   ],
   "source": [
    "from pylogic.expressions.sum import Sum\n",
    "from pylogic.expressions.prod import Prod\n",
    "from pylogic.structures.sequence import Sequence, FiniteSequence, Pair, Triple\n",
    "from pylogic.sympy_helpers import sympy_to_pylogic\n",
    "from pylogic.proposition.ordering.greaterthan import GreaterThan\n",
    "\n",
    "s1 = Triple(\"s\", x,y,z)\n",
    "s1 = FiniteSequence(\"s\", length=10,nth_term=lambda n: (n+1)*x)\n",
    "s2 = Sum(s1)\n",
    "p = Prod(s1)\n",
    "display((p % x).evaluate())\n",
    "\n",
    "a = FiniteSequence(\"a\", length=10,positive=True,integer=True)\n",
    "p2 = Prod(a)\n",
    "\n",
    "a6 = a[6]\n",
    "\n",
    "GreaterThan(a6, 2).assume()\n",
    "print(a6.knowledge_base)\n",
    "\n",
    "((p2 + 2) % a6).evaluate()\n",
    "\n",
    "\n"
   ]
  },
  {
   "cell_type": "code",
   "execution_count": null,
   "metadata": {},
   "outputs": [
    {
     "name": "stdout",
     "output_type": "stream",
     "text": [
      "z + x + y x + y + z\n",
      "True\n",
      "x + y + z\n",
      "x + y + z\n"
     ]
    }
   ],
   "source": [
    "from pylogic.variable import variables\n",
    "from pylogic.expressions.expr import Add\n",
    "from pylogic.sympy_helpers import sympy_to_pylogic\n",
    "x, y, z = variables('x', 'y', 'z', integer=True)\n",
    "sum_eval = ((x + y) + z).evaluate()\n",
    "sum_eval2 = (x + (y + z)).evaluate()\n",
    "\n",
    "print(sum_eval, sum_eval2)\n",
    "\n",
    "w = (Add((x+y).evaluate(),z).to_sympy())\n",
    "print(w == (x + y + z).to_sympy())\n",
    "print(w)\n",
    "print((x + y + z).to_sympy())\n"
   ]
  },
  {
   "cell_type": "code",
   "execution_count": 5,
   "metadata": {},
   "outputs": [
    {
     "name": "stdout",
     "output_type": "stream",
     "text": [
      "True\n",
      "{'args': (Variable(x, deps=()), Variable(y, deps=())), 'variables': {Variable(x, deps=()), Variable(y, deps=())}, 'independent_dependencies': {Variable(x, deps=()), Variable(y, deps=())}, 'constants': set(), 'sets': set(), 'class_ns': set(), 'sets_contained_in': set(), '_init_args': (Variable(x, deps=()), Variable(y, deps=())), '_init_kwargs': {}, 'knowledge_base': set(), '_is_real': True, '_is_rational': True, '_is_integer': True, '_is_natural': None, '_is_zero': None, '_is_nonpositive': None, '_is_nonnegative': None, '_is_even': None, '_is_sequence': None, '_is_finite': None, '_is_set': False, 'parent_exprs': []}\n",
      "{'args': (Variable(x, deps=()), Variable(y, deps=())), 'variables': {Variable(x, deps=()), Variable(y, deps=())}, 'independent_dependencies': {Variable(x, deps=()), Variable(y, deps=())}, 'constants': set(), 'sets': set(), 'class_ns': set(), 'sets_contained_in': set(), '_init_args': (Variable(x, deps=()), Variable(y, deps=())), '_init_kwargs': {}, 'knowledge_base': set(), '_is_real': True, '_is_rational': True, '_is_integer': True, '_is_natural': None, '_is_zero': None, '_is_nonpositive': None, '_is_nonnegative': None, '_is_even': None, '_is_sequence': None, '_is_finite': None, '_is_set': False, 'parent_exprs': []}\n",
      "True\n"
     ]
    }
   ],
   "source": [
    "print((x+y).evaluate() == (x+y))\n",
    "print(vars((x+y).evaluate()))\n",
    "print(vars(x+y))\n",
    "print(vars(x+y) == vars((x+y).evaluate()))"
   ]
  },
  {
   "cell_type": "code",
   "execution_count": null,
   "metadata": {},
   "outputs": [],
   "source": []
  }
 ],
 "metadata": {
  "kernelspec": {
   "display_name": "Python 3",
   "language": "python",
   "name": "python3"
  },
  "language_info": {
   "codemirror_mode": {
    "name": "ipython",
    "version": 3
   },
   "file_extension": ".py",
   "mimetype": "text/x-python",
   "name": "python",
   "nbconvert_exporter": "python",
   "pygments_lexer": "ipython3",
   "version": "3.11.4"
  }
 },
 "nbformat": 4,
 "nbformat_minor": 2
}
