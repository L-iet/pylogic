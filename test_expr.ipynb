{
 "cells": [
  {
   "cell_type": "code",
   "execution_count": 1,
   "metadata": {},
   "outputs": [
    {
     "ename": "KeyboardInterrupt",
     "evalue": "",
     "output_type": "error",
     "traceback": [
      "\u001b[1;31m---------------------------------------------------------------------------\u001b[0m",
      "\u001b[1;31mKeyboardInterrupt\u001b[0m                         Traceback (most recent call last)",
      "Cell \u001b[1;32mIn[1], line 1\u001b[0m\n\u001b[1;32m----> 1\u001b[0m \u001b[38;5;28;01mfrom\u001b[39;00m \u001b[38;5;21;01mpylogic\u001b[39;00m\u001b[38;5;21;01m.\u001b[39;00m\u001b[38;5;21;01mexpressions\u001b[39;00m\u001b[38;5;21;01m.\u001b[39;00m\u001b[38;5;21;01mmod\u001b[39;00m \u001b[38;5;28;01mimport\u001b[39;00m Mod\n\u001b[0;32m      2\u001b[0m \u001b[38;5;28;01mfrom\u001b[39;00m \u001b[38;5;21;01mpylogic\u001b[39;00m\u001b[38;5;21;01m.\u001b[39;00m\u001b[38;5;21;01mconstant\u001b[39;00m \u001b[38;5;28;01mimport\u001b[39;00m  Constant\n\u001b[0;32m      4\u001b[0m x,y,z,k,w,c \u001b[38;5;241m=\u001b[39m \u001b[38;5;28mmap\u001b[39m(\u001b[38;5;28;01mlambda\u001b[39;00m c: Constant(c, integer\u001b[38;5;241m=\u001b[39m\u001b[38;5;28;01mTrue\u001b[39;00m,positive\u001b[38;5;241m=\u001b[39m\u001b[38;5;28;01mTrue\u001b[39;00m), \u001b[38;5;124m'\u001b[39m\u001b[38;5;124mxyzkwc\u001b[39m\u001b[38;5;124m'\u001b[39m)\n",
      "File \u001b[1;32md:\\Minerva\\courses\\CP\\pylogic\\pylogic\\__init__.py:133\u001b[0m\n\u001b[0;32m    131\u001b[0m \u001b[38;5;28;01mfrom\u001b[39;00m \u001b[38;5;21;01mpylogic\u001b[39;00m\u001b[38;5;21;01m.\u001b[39;00m\u001b[38;5;21;01msyntax_helpers\u001b[39;00m\u001b[38;5;21;01m.\u001b[39;00m\u001b[38;5;21;01mif_\u001b[39;00m \u001b[38;5;28;01mimport\u001b[39;00m If, if_\n\u001b[0;32m    132\u001b[0m \u001b[38;5;28;01mfrom\u001b[39;00m \u001b[38;5;21;01mpylogic\u001b[39;00m\u001b[38;5;21;01m.\u001b[39;00m\u001b[38;5;21;01mtheories\u001b[39;00m\u001b[38;5;21;01m.\u001b[39;00m\u001b[38;5;21;01mnatural_numbers\u001b[39;00m \u001b[38;5;28;01mimport\u001b[39;00m Prime\n\u001b[1;32m--> 133\u001b[0m \u001b[38;5;28;01mfrom\u001b[39;00m \u001b[38;5;21;01mpylogic\u001b[39;00m\u001b[38;5;21;01m.\u001b[39;00m\u001b[38;5;21;01mtheories\u001b[39;00m\u001b[38;5;21;01m.\u001b[39;00m\u001b[38;5;21;01mnumbers\u001b[39;00m \u001b[38;5;28;01mimport\u001b[39;00m Integers, Naturals, Rationals, Reals, one, zero\n\u001b[0;32m    134\u001b[0m \u001b[38;5;28;01mfrom\u001b[39;00m \u001b[38;5;21;01mpylogic\u001b[39;00m\u001b[38;5;21;01m.\u001b[39;00m\u001b[38;5;21;01mtheories\u001b[39;00m\u001b[38;5;21;01m.\u001b[39;00m\u001b[38;5;21;01mreal_numbers\u001b[39;00m \u001b[38;5;28;01mimport\u001b[39;00m Interval, interval\n\u001b[0;32m    135\u001b[0m \u001b[38;5;28;01mfrom\u001b[39;00m \u001b[38;5;21;01mpylogic\u001b[39;00m\u001b[38;5;21;01m.\u001b[39;00m\u001b[38;5;21;01mvariable\u001b[39;00m \u001b[38;5;28;01mimport\u001b[39;00m Variable, unbind, variables\n",
      "File \u001b[1;32md:\\Minerva\\courses\\CP\\pylogic\\pylogic\\theories\\numbers.py:17\u001b[0m\n\u001b[0;32m     15\u001b[0m \u001b[38;5;28;01mfrom\u001b[39;00m \u001b[38;5;21;01mpylogic\u001b[39;00m\u001b[38;5;21;01m.\u001b[39;00m\u001b[38;5;21;01mtheories\u001b[39;00m\u001b[38;5;21;01m.\u001b[39;00m\u001b[38;5;21;01mintegers\u001b[39;00m \u001b[38;5;28;01mimport\u001b[39;00m Integers\n\u001b[0;32m     16\u001b[0m \u001b[38;5;28;01mfrom\u001b[39;00m \u001b[38;5;21;01mpylogic\u001b[39;00m\u001b[38;5;21;01m.\u001b[39;00m\u001b[38;5;21;01mtheories\u001b[39;00m\u001b[38;5;21;01m.\u001b[39;00m\u001b[38;5;21;01mnatural_numbers\u001b[39;00m \u001b[38;5;28;01mimport\u001b[39;00m Naturals, one, zero\n\u001b[1;32m---> 17\u001b[0m \u001b[38;5;28;01mfrom\u001b[39;00m \u001b[38;5;21;01mpylogic\u001b[39;00m\u001b[38;5;21;01m.\u001b[39;00m\u001b[38;5;21;01mtheories\u001b[39;00m\u001b[38;5;21;01m.\u001b[39;00m\u001b[38;5;21;01mrational_numbers\u001b[39;00m \u001b[38;5;28;01mimport\u001b[39;00m Rationals\n\u001b[0;32m     18\u001b[0m \u001b[38;5;28;01mfrom\u001b[39;00m \u001b[38;5;21;01mpylogic\u001b[39;00m\u001b[38;5;21;01m.\u001b[39;00m\u001b[38;5;21;01mtheories\u001b[39;00m\u001b[38;5;21;01m.\u001b[39;00m\u001b[38;5;21;01mreal_numbers\u001b[39;00m \u001b[38;5;28;01mimport\u001b[39;00m Reals\n\u001b[0;32m     19\u001b[0m \u001b[38;5;28;01mfrom\u001b[39;00m \u001b[38;5;21;01mpylogic\u001b[39;00m\u001b[38;5;21;01m.\u001b[39;00m\u001b[38;5;21;01mvariable\u001b[39;00m \u001b[38;5;28;01mimport\u001b[39;00m Variable\n",
      "File \u001b[1;32md:\\Minerva\\courses\\CP\\pylogic\\pylogic\\theories\\rational_numbers.py:98\u001b[0m\n\u001b[0;32m     94\u001b[0m         \u001b[38;5;28mself\u001b[39m\u001b[38;5;241m.\u001b[39mless_than \u001b[38;5;241m=\u001b[39m LessThan\n\u001b[0;32m     95\u001b[0m         \u001b[38;5;28mself\u001b[39m\u001b[38;5;241m.\u001b[39mless_or_equal \u001b[38;5;241m=\u001b[39m LessOrEqual\n\u001b[1;32m---> 98\u001b[0m Rationals \u001b[38;5;241m=\u001b[39m \u001b[43mRationalsField\u001b[49m\u001b[43m(\u001b[49m\n\u001b[0;32m     99\u001b[0m \u001b[43m    \u001b[49m\u001b[38;5;124;43m\"\u001b[39;49m\u001b[38;5;124;43mRationals\u001b[39;49m\u001b[38;5;124;43m\"\u001b[39;49m\u001b[43m,\u001b[49m\n\u001b[0;32m    100\u001b[0m \u001b[43m    \u001b[49m\u001b[43mplus_operation\u001b[49m\u001b[38;5;241;43m=\u001b[39;49m\u001b[43mAdd\u001b[49m\u001b[43m,\u001b[49m\n\u001b[0;32m    101\u001b[0m \u001b[43m    \u001b[49m\u001b[43mplus_operation_symbol\u001b[49m\u001b[38;5;241;43m=\u001b[39;49m\u001b[38;5;124;43m\"\u001b[39;49m\u001b[38;5;124;43m+\u001b[39;49m\u001b[38;5;124;43m\"\u001b[39;49m\u001b[43m,\u001b[49m\n\u001b[0;32m    102\u001b[0m \u001b[43m    \u001b[49m\u001b[43mtimes_operation\u001b[49m\u001b[38;5;241;43m=\u001b[39;49m\u001b[43mMul\u001b[49m\u001b[43m,\u001b[49m\n\u001b[0;32m    103\u001b[0m \u001b[43m    \u001b[49m\u001b[43mtimes_operation_symbol\u001b[49m\u001b[38;5;241;43m=\u001b[39;49m\u001b[38;5;124;43m\"\u001b[39;49m\u001b[38;5;124;43m*\u001b[39;49m\u001b[38;5;124;43m\"\u001b[39;49m\u001b[43m,\u001b[49m\n\u001b[0;32m    104\u001b[0m \u001b[43m    \u001b[49m\u001b[43mcontainment_function\u001b[49m\u001b[38;5;241;43m=\u001b[39;49m\u001b[38;5;28;43;01mlambda\u001b[39;49;00m\u001b[43m \u001b[49m\u001b[43mx\u001b[49m\u001b[43m:\u001b[49m\u001b[43m \u001b[49m\u001b[38;5;28;43mgetattr\u001b[39;49m\u001b[43m(\u001b[49m\u001b[43mx\u001b[49m\u001b[43m,\u001b[49m\u001b[43m \u001b[49m\u001b[38;5;124;43m\"\u001b[39;49m\u001b[38;5;124;43mis_rational\u001b[39;49m\u001b[38;5;124;43m\"\u001b[39;49m\u001b[43m,\u001b[49m\u001b[43m \u001b[49m\u001b[38;5;28;43;01mFalse\u001b[39;49;00m\u001b[43m)\u001b[49m\u001b[43m,\u001b[49m\n\u001b[0;32m    105\u001b[0m \u001b[43m    \u001b[49m\u001b[43mzero\u001b[49m\u001b[38;5;241;43m=\u001b[39;49m\u001b[43mzero\u001b[49m\u001b[43m,\u001b[49m\n\u001b[0;32m    106\u001b[0m \u001b[43m    \u001b[49m\u001b[43mone\u001b[49m\u001b[38;5;241;43m=\u001b[39;49m\u001b[43mone\u001b[49m\u001b[43m,\u001b[49m\n\u001b[0;32m    107\u001b[0m \u001b[43m    \u001b[49m\u001b[43mtotal_order\u001b[49m\u001b[38;5;241;43m=\u001b[39;49m\u001b[43mLessOrEqual\u001b[49m\u001b[43m,\u001b[49m\n\u001b[0;32m    108\u001b[0m \u001b[43m    \u001b[49m\u001b[43mstrict_total_order\u001b[49m\u001b[38;5;241;43m=\u001b[39;49m\u001b[43mLessThan\u001b[49m\u001b[43m,\u001b[49m\n\u001b[0;32m    109\u001b[0m \u001b[43m    \u001b[49m\u001b[43mlatex_name\u001b[49m\u001b[38;5;241;43m=\u001b[39;49m\u001b[38;5;124;43m\"\u001b[39;49m\u001b[38;5;130;43;01m\\\\\u001b[39;49;00m\u001b[38;5;124;43mmathbb\u001b[39;49m\u001b[38;5;132;43;01m{Q}\u001b[39;49;00m\u001b[38;5;124;43m\"\u001b[39;49m\u001b[43m,\u001b[49m\n\u001b[0;32m    110\u001b[0m \u001b[43m)\u001b[49m\n\u001b[0;32m    111\u001b[0m Rationals\u001b[38;5;241m.\u001b[39m_is_real \u001b[38;5;241m=\u001b[39m \u001b[38;5;28;01mTrue\u001b[39;00m\n\u001b[0;32m    112\u001b[0m Rationals\u001b[38;5;241m.\u001b[39m_is_rational \u001b[38;5;241m=\u001b[39m \u001b[38;5;28;01mTrue\u001b[39;00m\n",
      "File \u001b[1;32md:\\Minerva\\courses\\CP\\pylogic\\pylogic\\theories\\rational_numbers.py:56\u001b[0m, in \u001b[0;36mRationalsField.__init__\u001b[1;34m(self, name, elements, containment_function, plus_operation, plus_operation_symbol, zero, times_operation, times_operation_symbol, one, total_order, strict_total_order, **kwargs)\u001b[0m\n\u001b[0;32m     40\u001b[0m \u001b[38;5;28;01mdef\u001b[39;00m \u001b[38;5;21m__init__\u001b[39m(\n\u001b[0;32m     41\u001b[0m     \u001b[38;5;28mself\u001b[39m,\n\u001b[0;32m     42\u001b[0m     name: \u001b[38;5;28mstr\u001b[39m,\n\u001b[1;32m   (...)\u001b[0m\n\u001b[0;32m     54\u001b[0m ):\n\u001b[0;32m     55\u001b[0m     \u001b[38;5;66;03m# explicitly call __init__ of both superclasses due to mro\u001b[39;00m\n\u001b[1;32m---> 56\u001b[0m     \u001b[43mField\u001b[49m\u001b[38;5;241;43m.\u001b[39;49m\u001b[38;5;21;43m__init__\u001b[39;49m\u001b[43m(\u001b[49m\n\u001b[0;32m     57\u001b[0m \u001b[43m        \u001b[49m\u001b[38;5;28;43mself\u001b[39;49m\u001b[43m,\u001b[49m\n\u001b[0;32m     58\u001b[0m \u001b[43m        \u001b[49m\u001b[43mname\u001b[49m\u001b[38;5;241;43m=\u001b[39;49m\u001b[43mname\u001b[49m\u001b[43m,\u001b[49m\n\u001b[0;32m     59\u001b[0m \u001b[43m        \u001b[49m\u001b[43melements\u001b[49m\u001b[38;5;241;43m=\u001b[39;49m\u001b[43melements\u001b[49m\u001b[43m,\u001b[49m\n\u001b[0;32m     60\u001b[0m \u001b[43m        \u001b[49m\u001b[43mcontainment_function\u001b[49m\u001b[38;5;241;43m=\u001b[39;49m\u001b[43mcontainment_function\u001b[49m\u001b[43m,\u001b[49m\n\u001b[0;32m     61\u001b[0m \u001b[43m        \u001b[49m\u001b[43mplus_operation\u001b[49m\u001b[38;5;241;43m=\u001b[39;49m\u001b[43mplus_operation\u001b[49m\u001b[43m,\u001b[49m\n\u001b[0;32m     62\u001b[0m \u001b[43m        \u001b[49m\u001b[43mplus_operation_symbol\u001b[49m\u001b[38;5;241;43m=\u001b[39;49m\u001b[43mplus_operation_symbol\u001b[49m\u001b[43m,\u001b[49m\n\u001b[0;32m     63\u001b[0m \u001b[43m        \u001b[49m\u001b[43mzero\u001b[49m\u001b[38;5;241;43m=\u001b[39;49m\u001b[43mzero\u001b[49m\u001b[43m,\u001b[49m\n\u001b[0;32m     64\u001b[0m \u001b[43m        \u001b[49m\u001b[43mtimes_operation\u001b[49m\u001b[38;5;241;43m=\u001b[39;49m\u001b[43mtimes_operation\u001b[49m\u001b[43m,\u001b[49m\n\u001b[0;32m     65\u001b[0m \u001b[43m        \u001b[49m\u001b[43mtimes_operation_symbol\u001b[49m\u001b[38;5;241;43m=\u001b[39;49m\u001b[43mtimes_operation_symbol\u001b[49m\u001b[43m,\u001b[49m\n\u001b[0;32m     66\u001b[0m \u001b[43m        \u001b[49m\u001b[43mone\u001b[49m\u001b[38;5;241;43m=\u001b[39;49m\u001b[43mone\u001b[49m\u001b[43m,\u001b[49m\n\u001b[0;32m     67\u001b[0m \u001b[43m        \u001b[49m\u001b[38;5;241;43m*\u001b[39;49m\u001b[38;5;241;43m*\u001b[39;49m\u001b[43mkwargs\u001b[49m\u001b[43m,\u001b[49m\n\u001b[0;32m     68\u001b[0m \u001b[43m    \u001b[49m\u001b[43m)\u001b[49m\n\u001b[0;32m     69\u001b[0m     OrderedSet\u001b[38;5;241m.\u001b[39m\u001b[38;5;21m__init__\u001b[39m(\n\u001b[0;32m     70\u001b[0m         \u001b[38;5;28mself\u001b[39m,\n\u001b[0;32m     71\u001b[0m         name\u001b[38;5;241m=\u001b[39mname,\n\u001b[1;32m   (...)\u001b[0m\n\u001b[0;32m     76\u001b[0m         \u001b[38;5;241m*\u001b[39m\u001b[38;5;241m*\u001b[39mkwargs,\n\u001b[0;32m     77\u001b[0m     )\n\u001b[0;32m     79\u001b[0m     \u001b[38;5;28mself\u001b[39m\u001b[38;5;241m.\u001b[39m_init_args \u001b[38;5;241m=\u001b[39m (name,)\n",
      "File \u001b[1;32md:\\Minerva\\courses\\CP\\pylogic\\pylogic\\structures\\ringlike\\field.py:72\u001b[0m, in \u001b[0;36mField.__init__\u001b[1;34m(self, name, elements, containment_function, plus_operation, plus_operation_symbol, zero, times_operation, times_operation_symbol, one, **kwargs)\u001b[0m\n\u001b[0;32m     61\u001b[0m \u001b[38;5;28mself\u001b[39m\u001b[38;5;241m.\u001b[39m_init_kwargs \u001b[38;5;241m=\u001b[39m {\n\u001b[0;32m     62\u001b[0m     \u001b[38;5;124m\"\u001b[39m\u001b[38;5;124melements\u001b[39m\u001b[38;5;124m\"\u001b[39m: elements,\n\u001b[0;32m     63\u001b[0m     \u001b[38;5;124m\"\u001b[39m\u001b[38;5;124mcontainment_function\u001b[39m\u001b[38;5;124m\"\u001b[39m: containment_function,\n\u001b[1;32m   (...)\u001b[0m\n\u001b[0;32m     69\u001b[0m     \u001b[38;5;124m\"\u001b[39m\u001b[38;5;124mone\u001b[39m\u001b[38;5;124m\"\u001b[39m: one,\n\u001b[0;32m     70\u001b[0m }\n\u001b[0;32m     71\u001b[0m \u001b[38;5;28mself\u001b[39m\u001b[38;5;241m.\u001b[39m_init_kwargs\u001b[38;5;241m.\u001b[39mupdate(kwargs)\n\u001b[1;32m---> 72\u001b[0m \u001b[38;5;28mself\u001b[39m\u001b[38;5;241m.\u001b[39mabelian_group_times \u001b[38;5;241m=\u001b[39m \u001b[43mAbelianGroup\u001b[49m\u001b[43m(\u001b[49m\n\u001b[0;32m     73\u001b[0m \u001b[43m    \u001b[49m\u001b[43mname\u001b[49m\u001b[38;5;241;43m=\u001b[39;49m\u001b[43mname\u001b[49m\u001b[43m,\u001b[49m\n\u001b[0;32m     74\u001b[0m \u001b[43m    \u001b[49m\u001b[43melements\u001b[49m\u001b[38;5;241;43m=\u001b[39;49m\u001b[43melements\u001b[49m\u001b[43m,\u001b[49m\n\u001b[0;32m     75\u001b[0m \u001b[43m    \u001b[49m\u001b[43mcontainment_function\u001b[49m\u001b[38;5;241;43m=\u001b[39;49m\u001b[43mcontainment_function\u001b[49m\u001b[43m,\u001b[49m\u001b[43m  \u001b[49m\u001b[38;5;66;43;03m# type: ignore\u001b[39;49;00m\n\u001b[0;32m     76\u001b[0m \u001b[43m    \u001b[49m\u001b[43moperation\u001b[49m\u001b[38;5;241;43m=\u001b[39;49m\u001b[43mtimes_operation\u001b[49m\u001b[43m,\u001b[49m\u001b[43m  \u001b[49m\u001b[38;5;66;43;03m# type: ignore\u001b[39;49;00m\n\u001b[0;32m     77\u001b[0m \u001b[43m    \u001b[49m\u001b[43moperation_name\u001b[49m\u001b[38;5;241;43m=\u001b[39;49m\u001b[38;5;28;43mself\u001b[39;49m\u001b[38;5;241;43m.\u001b[39;49m\u001b[43mtimes_operation_name\u001b[49m\u001b[43m,\u001b[49m\n\u001b[0;32m     78\u001b[0m \u001b[43m    \u001b[49m\u001b[43moperation_symbol\u001b[49m\u001b[38;5;241;43m=\u001b[39;49m\u001b[38;5;28;43mself\u001b[39;49m\u001b[38;5;241;43m.\u001b[39;49m\u001b[43mtimes_operation_symbol\u001b[49m\u001b[43m,\u001b[49m\n\u001b[0;32m     79\u001b[0m \u001b[43m    \u001b[49m\u001b[43midentity\u001b[49m\u001b[38;5;241;43m=\u001b[39;49m\u001b[43mone\u001b[49m\u001b[43m,\u001b[49m\u001b[43m  \u001b[49m\u001b[38;5;66;43;03m# type: ignore\u001b[39;49;00m\n\u001b[0;32m     80\u001b[0m \u001b[43m\u001b[49m\u001b[43m)\u001b[49m\n\u001b[0;32m     81\u001b[0m \u001b[38;5;28mself\u001b[39m\u001b[38;5;241m.\u001b[39mtimes_is_commutative \u001b[38;5;241m=\u001b[39m \u001b[38;5;28mself\u001b[39m\u001b[38;5;241m.\u001b[39m_replace_instance_set(\n\u001b[0;32m     82\u001b[0m     \u001b[38;5;28mself\u001b[39m\u001b[38;5;241m.\u001b[39mabelian_group_times, \u001b[38;5;124m\"\u001b[39m\u001b[38;5;124mop_is_commutative\u001b[39m\u001b[38;5;124m\"\u001b[39m\n\u001b[0;32m     83\u001b[0m )\n",
      "File \u001b[1;32md:\\Minerva\\courses\\CP\\pylogic\\pylogic\\structures\\grouplike\\group.py:234\u001b[0m, in \u001b[0;36mAbelianGroup.__init__\u001b[1;34m(self, name, elements, containment_function, operation, operation_name, operation_symbol, identity)\u001b[0m\n\u001b[0;32m    224\u001b[0m \u001b[38;5;28;01mdef\u001b[39;00m \u001b[38;5;21m__init__\u001b[39m(\n\u001b[0;32m    225\u001b[0m     \u001b[38;5;28mself\u001b[39m,\n\u001b[0;32m    226\u001b[0m     name: \u001b[38;5;28mstr\u001b[39m,\n\u001b[1;32m   (...)\u001b[0m\n\u001b[0;32m    232\u001b[0m     identity: T \u001b[38;5;241m|\u001b[39m \u001b[38;5;28;01mNone\u001b[39;00m \u001b[38;5;241m=\u001b[39m \u001b[38;5;28;01mNone\u001b[39;00m,\n\u001b[0;32m    233\u001b[0m ):\n\u001b[1;32m--> 234\u001b[0m     \u001b[38;5;28;43msuper\u001b[39;49m\u001b[43m(\u001b[49m\u001b[43m)\u001b[49m\u001b[38;5;241;43m.\u001b[39;49m\u001b[38;5;21;43m__init__\u001b[39;49m\u001b[43m(\u001b[49m\n\u001b[0;32m    235\u001b[0m \u001b[43m        \u001b[49m\u001b[43mname\u001b[49m\u001b[38;5;241;43m=\u001b[39;49m\u001b[43mname\u001b[49m\u001b[43m,\u001b[49m\n\u001b[0;32m    236\u001b[0m \u001b[43m        \u001b[49m\u001b[43melements\u001b[49m\u001b[38;5;241;43m=\u001b[39;49m\u001b[43melements\u001b[49m\u001b[43m,\u001b[49m\n\u001b[0;32m    237\u001b[0m \u001b[43m        \u001b[49m\u001b[43mcontainment_function\u001b[49m\u001b[38;5;241;43m=\u001b[39;49m\u001b[43mcontainment_function\u001b[49m\u001b[43m,\u001b[49m\n\u001b[0;32m    238\u001b[0m \u001b[43m        \u001b[49m\u001b[43moperation\u001b[49m\u001b[38;5;241;43m=\u001b[39;49m\u001b[43moperation\u001b[49m\u001b[43m,\u001b[49m\n\u001b[0;32m    239\u001b[0m \u001b[43m        \u001b[49m\u001b[43moperation_name\u001b[49m\u001b[38;5;241;43m=\u001b[39;49m\u001b[43moperation_name\u001b[49m\u001b[43m,\u001b[49m\n\u001b[0;32m    240\u001b[0m \u001b[43m        \u001b[49m\u001b[43moperation_symbol\u001b[49m\u001b[38;5;241;43m=\u001b[39;49m\u001b[43moperation_symbol\u001b[49m\u001b[43m,\u001b[49m\n\u001b[0;32m    241\u001b[0m \u001b[43m        \u001b[49m\u001b[43midentity\u001b[49m\u001b[38;5;241;43m=\u001b[39;49m\u001b[43midentity\u001b[49m\u001b[43m,\u001b[49m\n\u001b[0;32m    242\u001b[0m \u001b[43m    \u001b[49m\u001b[43m)\u001b[49m\n\u001b[0;32m    243\u001b[0m     \u001b[38;5;28mself\u001b[39m\u001b[38;5;241m.\u001b[39mop_is_commutative \u001b[38;5;241m=\u001b[39m AbelianGroup\u001b[38;5;241m.\u001b[39mproperty_op_is_commutative(\n\u001b[0;32m    244\u001b[0m         \u001b[38;5;28mself\u001b[39m, \u001b[38;5;28mself\u001b[39m\u001b[38;5;241m.\u001b[39moperation\n\u001b[0;32m    245\u001b[0m     )\n\u001b[0;32m    246\u001b[0m     \u001b[38;5;28mself\u001b[39m\u001b[38;5;241m.\u001b[39mop_is_commutative\u001b[38;5;241m.\u001b[39m_set_is_axiom(\u001b[38;5;28;01mTrue\u001b[39;00m)\n",
      "File \u001b[1;32md:\\Minerva\\courses\\CP\\pylogic\\pylogic\\structures\\grouplike\\group.py:197\u001b[0m, in \u001b[0;36mGroup.__init__\u001b[1;34m(self, name, elements, containment_function, operation, operation_name, operation_symbol, identity, **kwargs)\u001b[0m\n\u001b[0;32m    186\u001b[0m w_eq_cx \u001b[38;5;241m=\u001b[39m transitive_proof(\n\u001b[0;32m    187\u001b[0m     cx, w, cx_op_a_eq_e, w_is_right_inv, cx_in_self, w_in_self\n\u001b[0;32m    188\u001b[0m )\n\u001b[0;32m    189\u001b[0m cx_unique_property \u001b[38;5;241m=\u001b[39m w_eq_cx\u001b[38;5;241m.\u001b[39mfollowed_from(\n\u001b[0;32m    190\u001b[0m     w_in_self, w_is_right_inv, w_is_left_inv, _internal_tactic\u001b[38;5;241m=\u001b[39m\u001b[38;5;28;01mTrue\u001b[39;00m\n\u001b[0;32m    191\u001b[0m )\u001b[38;5;241m.\u001b[39mthus_forall(w)\n\u001b[0;32m    193\u001b[0m \u001b[38;5;28mself\u001b[39m\u001b[38;5;241m.\u001b[39mhave_inverses \u001b[38;5;241m=\u001b[39m (\n\u001b[0;32m    194\u001b[0m     \u001b[43mcx_inv_property\u001b[49m\u001b[38;5;241;43m.\u001b[39;49m\u001b[43mp_and\u001b[49m\u001b[43m(\u001b[49m\u001b[43mcx_unique_property\u001b[49m\u001b[43m)\u001b[49m\n\u001b[0;32m    195\u001b[0m \u001b[43m    \u001b[49m\u001b[38;5;241;43m.\u001b[39;49m\u001b[43mthus_there_exists\u001b[49m\u001b[43m(\u001b[49m\u001b[38;5;124;43m\"\u001b[39;49m\u001b[38;5;124;43ma_inv\u001b[39;49m\u001b[38;5;124;43m\"\u001b[39;49m\u001b[43m,\u001b[49m\u001b[43m \u001b[49m\u001b[43mcx\u001b[49m\u001b[43m,\u001b[49m\u001b[43m \u001b[49m\u001b[43mlatex_name\u001b[49m\u001b[38;5;241;43m=\u001b[39;49m\u001b[38;5;124;43mr\u001b[39;49m\u001b[38;5;124;43m\"\u001b[39;49m\u001b[38;5;124;43ma_\u001b[39;49m\u001b[38;5;124;43m{\u001b[39;49m\u001b[38;5;124;43m\\\u001b[39;49m\u001b[38;5;124;43mtext\u001b[39;49m\u001b[38;5;132;43;01m{inv}\u001b[39;49;00m\u001b[38;5;124;43m}\u001b[39;49m\u001b[38;5;124;43m\"\u001b[39;49m\u001b[43m)\u001b[49m\n\u001b[0;32m    196\u001b[0m \u001b[43m    \u001b[49m\u001b[38;5;241;43m.\u001b[39;49m\u001b[43mto_exists_unique_in_set\u001b[49m\u001b[43m(\u001b[49m\u001b[43m)\u001b[49m\n\u001b[1;32m--> 197\u001b[0m \u001b[43m    \u001b[49m\u001b[38;5;241;43m.\u001b[39;49m\u001b[43mthus_forall\u001b[49m\u001b[43m(\u001b[49m\u001b[43ma_in_self\u001b[49m\u001b[43m)\u001b[49m\n\u001b[0;32m    198\u001b[0m )\n",
      "File \u001b[1;32md:\\Minerva\\courses\\CP\\pylogic\\pylogic\\proposition\\proposition.py:1305\u001b[0m, in \u001b[0;36mProposition.thus_forall\u001b[1;34m(self, variable_or_containment, set_, **kwargs)\u001b[0m\n\u001b[0;32m   1303\u001b[0m \u001b[38;5;28;01massert\u001b[39;00m variable\u001b[38;5;241m.\u001b[39mis_bound \u001b[38;5;129;01mis\u001b[39;00m \u001b[38;5;28;01mFalse\u001b[39;00m, \u001b[38;5;124mf\u001b[39m\u001b[38;5;124m\"\u001b[39m\u001b[38;5;132;01m{\u001b[39;00mvariable\u001b[38;5;132;01m}\u001b[39;00m\u001b[38;5;124m is already bound\u001b[39m\u001b[38;5;124m\"\u001b[39m\n\u001b[0;32m   1304\u001b[0m \u001b[38;5;28;01massert\u001b[39;00m \u001b[38;5;28mlen\u001b[39m(variable\u001b[38;5;241m.\u001b[39mdepends_on) \u001b[38;5;241m==\u001b[39m \u001b[38;5;241m0\u001b[39m, \u001b[38;5;124mf\u001b[39m\u001b[38;5;124m\"\u001b[39m\u001b[38;5;132;01m{\u001b[39;00mvariable\u001b[38;5;132;01m}\u001b[39;00m\u001b[38;5;124m depends on something\u001b[39m\u001b[38;5;124m\"\u001b[39m\n\u001b[1;32m-> 1305\u001b[0m \u001b[38;5;28;01mreturn\u001b[39;00m \u001b[38;5;28;43mcls\u001b[39;49m\u001b[43m(\u001b[49m\n\u001b[0;32m   1306\u001b[0m \u001b[43m    \u001b[49m\u001b[43mvariable\u001b[49m\u001b[38;5;241;43m=\u001b[39;49m\u001b[43mvariable\u001b[49m\u001b[43m,\u001b[49m\n\u001b[0;32m   1307\u001b[0m \u001b[43m    \u001b[49m\u001b[43mset_\u001b[49m\u001b[38;5;241;43m=\u001b[39;49m\u001b[43mset_\u001b[49m\u001b[43m,\u001b[49m\u001b[43m  \u001b[49m\u001b[38;5;66;43;03m# type:ignore\u001b[39;49;00m\n\u001b[0;32m   1308\u001b[0m \u001b[43m    \u001b[49m\u001b[43minner_proposition\u001b[49m\u001b[38;5;241;43m=\u001b[39;49m\u001b[38;5;28;43mself\u001b[39;49m\u001b[43m,\u001b[49m\n\u001b[0;32m   1309\u001b[0m \u001b[43m    \u001b[49m\u001b[43m_is_proven\u001b[49m\u001b[38;5;241;43m=\u001b[39;49m\u001b[38;5;28;43;01mTrue\u001b[39;49;00m\u001b[43m,\u001b[49m\n\u001b[0;32m   1310\u001b[0m \u001b[43m    \u001b[49m\u001b[43m_inference\u001b[49m\u001b[38;5;241;43m=\u001b[39;49m\u001b[43mInference\u001b[49m\u001b[43m(\u001b[49m\u001b[38;5;28;43mself\u001b[39;49m\u001b[43m,\u001b[49m\u001b[43m \u001b[49m\u001b[43mrule\u001b[49m\u001b[38;5;241;43m=\u001b[39;49m\u001b[38;5;124;43m\"\u001b[39;49m\u001b[38;5;124;43mthus_forall\u001b[39;49m\u001b[38;5;124;43m\"\u001b[39;49m\u001b[43m)\u001b[49m\u001b[43m,\u001b[49m\n\u001b[0;32m   1311\u001b[0m \u001b[43m    \u001b[49m\u001b[43m_assumptions\u001b[49m\u001b[38;5;241;43m=\u001b[39;49m\u001b[43mget_assumptions\u001b[49m\u001b[43m(\u001b[49m\u001b[38;5;28;43mself\u001b[39;49m\u001b[43m)\u001b[49m\u001b[38;5;241;43m.\u001b[39;49m\u001b[43mcopy\u001b[49m\u001b[43m(\u001b[49m\u001b[43m)\u001b[49m\u001b[43m,\u001b[49m\n\u001b[0;32m   1312\u001b[0m \u001b[43m    \u001b[49m\u001b[38;5;241;43m*\u001b[39;49m\u001b[38;5;241;43m*\u001b[39;49m\u001b[43mkwargs\u001b[49m\u001b[43m,\u001b[49m\n\u001b[0;32m   1313\u001b[0m \u001b[43m\u001b[49m\u001b[43m)\u001b[49m\n",
      "File \u001b[1;32md:\\Minerva\\courses\\CP\\pylogic\\pylogic\\proposition\\quantified\\forall.py:239\u001b[0m, in \u001b[0;36mForallInSet.__init__\u001b[1;34m(self, variable, set_, inner_proposition, is_assumption, description, **kwargs)\u001b[0m\n\u001b[0;32m    230\u001b[0m \u001b[38;5;28;01mdef\u001b[39;00m \u001b[38;5;21m__init__\u001b[39m(\n\u001b[0;32m    231\u001b[0m     \u001b[38;5;28mself\u001b[39m,\n\u001b[0;32m    232\u001b[0m     variable: Variable,\n\u001b[1;32m   (...)\u001b[0m\n\u001b[0;32m    237\u001b[0m     \u001b[38;5;241m*\u001b[39m\u001b[38;5;241m*\u001b[39mkwargs,\n\u001b[0;32m    238\u001b[0m ) \u001b[38;5;241m-\u001b[39m\u001b[38;5;241m>\u001b[39m \u001b[38;5;28;01mNone\u001b[39;00m:\n\u001b[1;32m--> 239\u001b[0m     \u001b[38;5;28;43msuper\u001b[39;49m\u001b[43m(\u001b[49m\u001b[43m)\u001b[49m\u001b[38;5;241;43m.\u001b[39;49m\u001b[38;5;21;43m__init__\u001b[39;49m\u001b[43m(\u001b[49m\n\u001b[0;32m    240\u001b[0m \u001b[43m        \u001b[49m\u001b[43mvariable\u001b[49m\u001b[43m,\u001b[49m\n\u001b[0;32m    241\u001b[0m \u001b[43m        \u001b[49m\u001b[43mIsContainedIn\u001b[49m\u001b[43m(\u001b[49m\u001b[43mvariable\u001b[49m\u001b[43m,\u001b[49m\u001b[43m \u001b[49m\u001b[43mset_\u001b[49m\u001b[43m)\u001b[49m\u001b[38;5;241;43m.\u001b[39;49m\u001b[43mimplies\u001b[49m\u001b[43m(\u001b[49m\u001b[43minner_proposition\u001b[49m\u001b[43m)\u001b[49m\u001b[43m,\u001b[49m\n\u001b[0;32m    242\u001b[0m \u001b[43m        \u001b[49m\u001b[43mis_assumption\u001b[49m\u001b[43m,\u001b[49m\n\u001b[0;32m    243\u001b[0m \u001b[43m        \u001b[49m\u001b[43mdescription\u001b[49m\u001b[38;5;241;43m=\u001b[39;49m\u001b[43mdescription\u001b[49m\u001b[43m,\u001b[49m\n\u001b[0;32m    244\u001b[0m \u001b[43m        \u001b[49m\u001b[38;5;241;43m*\u001b[39;49m\u001b[38;5;241;43m*\u001b[39;49m\u001b[43mkwargs\u001b[49m\u001b[43m,\u001b[49m\n\u001b[0;32m    245\u001b[0m \u001b[43m    \u001b[49m\u001b[43m)\u001b[49m\n\u001b[0;32m    246\u001b[0m     \u001b[38;5;28mself\u001b[39m\u001b[38;5;241m.\u001b[39mset_ \u001b[38;5;241m=\u001b[39m set_\n\u001b[0;32m    247\u001b[0m     \u001b[38;5;28mself\u001b[39m\u001b[38;5;241m.\u001b[39m_inner_without_set \u001b[38;5;241m=\u001b[39m inner_proposition\n",
      "File \u001b[1;32md:\\Minerva\\courses\\CP\\pylogic\\pylogic\\proposition\\quantified\\forall.py:53\u001b[0m, in \u001b[0;36mForall.__init__\u001b[1;34m(self, variable, inner_proposition, is_assumption, description, **kwargs)\u001b[0m\n\u001b[0;32m     45\u001b[0m \u001b[38;5;28;01mdef\u001b[39;00m \u001b[38;5;21m__init__\u001b[39m(\n\u001b[0;32m     46\u001b[0m     \u001b[38;5;28mself\u001b[39m,\n\u001b[0;32m     47\u001b[0m     variable: Variable,\n\u001b[1;32m   (...)\u001b[0m\n\u001b[0;32m     51\u001b[0m     \u001b[38;5;241m*\u001b[39m\u001b[38;5;241m*\u001b[39mkwargs,\n\u001b[0;32m     52\u001b[0m ) \u001b[38;5;241m-\u001b[39m\u001b[38;5;241m>\u001b[39m \u001b[38;5;28;01mNone\u001b[39;00m:\n\u001b[1;32m---> 53\u001b[0m     \u001b[38;5;28;43msuper\u001b[39;49m\u001b[43m(\u001b[49m\u001b[43m)\u001b[49m\u001b[38;5;241;43m.\u001b[39;49m\u001b[38;5;21;43m__init__\u001b[39;49m\u001b[43m(\u001b[49m\n\u001b[0;32m     54\u001b[0m \u001b[43m        \u001b[49m\u001b[38;5;124;43m\"\u001b[39;49m\u001b[38;5;124;43mforall\u001b[39;49m\u001b[38;5;124;43m\"\u001b[39;49m\u001b[43m,\u001b[49m\n\u001b[0;32m     55\u001b[0m \u001b[43m        \u001b[49m\u001b[43mvariable\u001b[49m\u001b[43m,\u001b[49m\n\u001b[0;32m     56\u001b[0m \u001b[43m        \u001b[49m\u001b[43minner_proposition\u001b[49m\u001b[43m,\u001b[49m\n\u001b[0;32m     57\u001b[0m \u001b[43m        \u001b[49m\u001b[43mis_assumption\u001b[49m\u001b[43m,\u001b[49m\n\u001b[0;32m     58\u001b[0m \u001b[43m        \u001b[49m\u001b[43mdescription\u001b[49m\u001b[38;5;241;43m=\u001b[39;49m\u001b[43mdescription\u001b[49m\u001b[43m,\u001b[49m\n\u001b[0;32m     59\u001b[0m \u001b[43m        \u001b[49m\u001b[38;5;241;43m*\u001b[39;49m\u001b[38;5;241;43m*\u001b[39;49m\u001b[43mkwargs\u001b[49m\u001b[43m,\u001b[49m\n\u001b[0;32m     60\u001b[0m \u001b[43m    \u001b[49m\u001b[43m)\u001b[49m\n",
      "File \u001b[1;32md:\\Minerva\\courses\\CP\\pylogic\\pylogic\\proposition\\quantified\\quantified.py:42\u001b[0m, in \u001b[0;36m_Quantified.__init__\u001b[1;34m(self, _q, variable, inner_proposition, is_assumption, description, **kwargs)\u001b[0m\n\u001b[0;32m     34\u001b[0m \u001b[38;5;28msuper\u001b[39m()\u001b[38;5;241m.\u001b[39m\u001b[38;5;21m__init__\u001b[39m(\n\u001b[0;32m     35\u001b[0m     \u001b[38;5;124mf\u001b[39m\u001b[38;5;124m\"\u001b[39m\u001b[38;5;132;01m{\u001b[39;00m_q\u001b[38;5;132;01m}\u001b[39;00m\u001b[38;5;124m \u001b[39m\u001b[38;5;132;01m{\u001b[39;00mvariable\u001b[38;5;132;01m}\u001b[39;00m\u001b[38;5;124m: \u001b[39m\u001b[38;5;132;01m{\u001b[39;00minner_proposition\u001b[38;5;241m.\u001b[39mname\u001b[38;5;132;01m}\u001b[39;00m\u001b[38;5;124m\"\u001b[39m,\n\u001b[0;32m     36\u001b[0m     is_assumption,\n\u001b[1;32m   (...)\u001b[0m\n\u001b[0;32m     39\u001b[0m     \u001b[38;5;241m*\u001b[39m\u001b[38;5;241m*\u001b[39mkwargs,\n\u001b[0;32m     40\u001b[0m )\n\u001b[0;32m     41\u001b[0m \u001b[38;5;28mself\u001b[39m\u001b[38;5;241m.\u001b[39minner_proposition: TProposition \u001b[38;5;241m=\u001b[39m inner_proposition\n\u001b[1;32m---> 42\u001b[0m var \u001b[38;5;241m=\u001b[39m \u001b[38;5;28;43mself\u001b[39;49m\u001b[38;5;241;43m.\u001b[39;49m\u001b[43m_reset_variable\u001b[49m\u001b[43m(\u001b[49m\n\u001b[0;32m     43\u001b[0m \u001b[43m    \u001b[49m\u001b[43mvariable\u001b[49m\n\u001b[0;32m     44\u001b[0m \u001b[43m\u001b[49m\u001b[43m)\u001b[49m\u001b[38;5;241m.\u001b[39mcopy()  \u001b[38;5;66;03m# make a copy in case user uses the same variable elsewhere\u001b[39;00m\n\u001b[0;32m     45\u001b[0m \u001b[38;5;28mself\u001b[39m\u001b[38;5;241m.\u001b[39mvariable: Variable \u001b[38;5;241m=\u001b[39m var\n\u001b[0;32m     46\u001b[0m \u001b[38;5;28mself\u001b[39m\u001b[38;5;241m.\u001b[39mvariable\u001b[38;5;241m.\u001b[39mis_bound \u001b[38;5;241m=\u001b[39m \u001b[38;5;28;01mTrue\u001b[39;00m\n",
      "File \u001b[1;32md:\\Minerva\\courses\\CP\\pylogic\\pylogic\\proposition\\quantified\\quantified.py:138\u001b[0m, in \u001b[0;36m_Quantified._reset_variable\u001b[1;34m(self, variable)\u001b[0m\n\u001b[0;32m    136\u001b[0m variable\u001b[38;5;241m.\u001b[39mis_real \u001b[38;5;241m=\u001b[39m \u001b[38;5;28;01mNone\u001b[39;00m\n\u001b[0;32m    137\u001b[0m variable\u001b[38;5;241m.\u001b[39mis_rational \u001b[38;5;241m=\u001b[39m \u001b[38;5;28;01mNone\u001b[39;00m\n\u001b[1;32m--> 138\u001b[0m \u001b[43mvariable\u001b[49m\u001b[38;5;241;43m.\u001b[39;49m\u001b[43mis_integer\u001b[49m \u001b[38;5;241m=\u001b[39m \u001b[38;5;28;01mNone\u001b[39;00m\n\u001b[0;32m    139\u001b[0m variable\u001b[38;5;241m.\u001b[39mis_natural \u001b[38;5;241m=\u001b[39m \u001b[38;5;28;01mNone\u001b[39;00m\n\u001b[0;32m    140\u001b[0m variable\u001b[38;5;241m.\u001b[39mis_nonnegative \u001b[38;5;241m=\u001b[39m \u001b[38;5;28;01mNone\u001b[39;00m\n",
      "File \u001b[1;32md:\\Minerva\\courses\\CP\\pylogic\\pylogic\\symbol.py:171\u001b[0m, in \u001b[0;36mSymbol.is_integer\u001b[1;34m(self, value)\u001b[0m\n\u001b[0;32m    169\u001b[0m \u001b[38;5;28mself\u001b[39m\u001b[38;5;241m.\u001b[39m_is_integer \u001b[38;5;241m=\u001b[39m value\n\u001b[0;32m    170\u001b[0m \u001b[38;5;28;01mfor\u001b[39;00m parent \u001b[38;5;129;01min\u001b[39;00m \u001b[38;5;28mself\u001b[39m\u001b[38;5;241m.\u001b[39mparent_exprs:\n\u001b[1;32m--> 171\u001b[0m     \u001b[43mparent\u001b[49m\u001b[38;5;241;43m.\u001b[39;49m\u001b[43mupdate_properties\u001b[49m\u001b[43m(\u001b[49m\u001b[43m)\u001b[49m\n",
      "File \u001b[1;32md:\\Minerva\\courses\\CP\\pylogic\\pylogic\\expressions\\expr.py:927\u001b[0m, in \u001b[0;36mMul.update_properties\u001b[1;34m(self)\u001b[0m\n\u001b[0;32m    925\u001b[0m \u001b[38;5;28;01mif\u001b[39;00m \u001b[38;5;129;01mnot\u001b[39;00m arg\u001b[38;5;241m.\u001b[39mis_integer:\n\u001b[0;32m    926\u001b[0m     all_integer \u001b[38;5;241m=\u001b[39m \u001b[38;5;28;01mFalse\u001b[39;00m\n\u001b[1;32m--> 927\u001b[0m \u001b[38;5;28;01mif\u001b[39;00m \u001b[38;5;129;01mnot\u001b[39;00m \u001b[43marg\u001b[49m\u001b[38;5;241;43m.\u001b[39;49m\u001b[43mis_natural\u001b[49m:\n\u001b[0;32m    928\u001b[0m     all_natural \u001b[38;5;241m=\u001b[39m \u001b[38;5;28;01mFalse\u001b[39;00m\n\u001b[0;32m    929\u001b[0m \u001b[38;5;28;01mif\u001b[39;00m arg\u001b[38;5;241m.\u001b[39mis_zero \u001b[38;5;129;01mis\u001b[39;00m \u001b[38;5;28;01mNone\u001b[39;00m:\n",
      "File \u001b[1;32md:\\Minerva\\courses\\CP\\pylogic\\pylogic\\symbol.py:152\u001b[0m, in \u001b[0;36mSymbol.is_natural\u001b[1;34m(self)\u001b[0m\n\u001b[0;32m    147\u001b[0m \u001b[38;5;129m@property\u001b[39m\n\u001b[0;32m    148\u001b[0m \u001b[38;5;28;01mdef\u001b[39;00m \u001b[38;5;21mis_natural\u001b[39m(\u001b[38;5;28mself\u001b[39m) \u001b[38;5;241m-\u001b[39m\u001b[38;5;241m>\u001b[39m \u001b[38;5;28mbool\u001b[39m \u001b[38;5;241m|\u001b[39m \u001b[38;5;28;01mNone\u001b[39;00m:\n\u001b[0;32m    149\u001b[0m     \u001b[38;5;28;01mfrom\u001b[39;00m \u001b[38;5;21;01mpylogic\u001b[39;00m\u001b[38;5;21;01m.\u001b[39;00m\u001b[38;5;21;01mhelpers\u001b[39;00m \u001b[38;5;28;01mimport\u001b[39;00m ternary_and, ternary_if_not_none\n\u001b[0;32m    151\u001b[0m     \u001b[38;5;28;01mreturn\u001b[39;00m ternary_if_not_none(\n\u001b[1;32m--> 152\u001b[0m         \u001b[38;5;28mself\u001b[39m\u001b[38;5;241m.\u001b[39m_is_natural, \u001b[43mternary_and\u001b[49m\u001b[43m(\u001b[49m\u001b[38;5;28;43mself\u001b[39;49m\u001b[38;5;241;43m.\u001b[39;49m\u001b[43m_is_integer\u001b[49m\u001b[43m,\u001b[49m\u001b[43m \u001b[49m\u001b[38;5;28;43mself\u001b[39;49m\u001b[38;5;241;43m.\u001b[39;49m\u001b[43m_is_nonnegative\u001b[49m\u001b[43m)\u001b[49m\n\u001b[0;32m    153\u001b[0m     )\n",
      "File \u001b[1;32md:\\Minerva\\courses\\CP\\pylogic\\pylogic\\helpers.py:513\u001b[0m, in \u001b[0;36mternary_and\u001b[1;34m(*vals)\u001b[0m\n\u001b[0;32m    511\u001b[0m     \u001b[38;5;28;01mif\u001b[39;00m val \u001b[38;5;129;01mis\u001b[39;00m \u001b[38;5;28;01mFalse\u001b[39;00m:\n\u001b[0;32m    512\u001b[0m         \u001b[38;5;28;01mreturn\u001b[39;00m \u001b[38;5;28;01mFalse\u001b[39;00m\n\u001b[1;32m--> 513\u001b[0m     none_count \u001b[38;5;241m+\u001b[39m\u001b[38;5;241m=\u001b[39m val \u001b[38;5;129;01mis\u001b[39;00m \u001b[38;5;28;01mNone\u001b[39;00m\n\u001b[0;32m    514\u001b[0m \u001b[38;5;28;01mif\u001b[39;00m none_count \u001b[38;5;241m>\u001b[39m \u001b[38;5;241m0\u001b[39m:\n\u001b[0;32m    515\u001b[0m     \u001b[38;5;28;01mreturn\u001b[39;00m \u001b[38;5;28;01mNone\u001b[39;00m\n",
      "\u001b[1;31mKeyboardInterrupt\u001b[0m: "
     ]
    }
   ],
   "source": [
    "from pylogic.expressions.mod import Mod\n",
    "from pylogic.constant import  Constant\n",
    "\n",
    "x,y,z,k,w,c = map(lambda c: Constant(c, integer=True,positive=True), 'xyzkwc')\n",
    "# print((x+y).is_positive)\n",
    "print(x.is_zero, x._is_zero)\n"
   ]
  },
  {
   "cell_type": "code",
   "execution_count": 12,
   "metadata": {},
   "outputs": [
    {
     "data": {
      "text/latex": [
       "$$\\left(-2 \\cdot y + x\\right)^{2}\\mod x \\cdot y$$"
      ],
      "text/plain": [
       "Mod(Pow(Add(Mul(Constant(-2, deps=()), Constant(y, deps=())), Constant(x, deps=())), Constant(2, deps=())), Mul(Constant(x, deps=()), Constant(y, deps=())))"
      ]
     },
     "execution_count": 12,
     "metadata": {},
     "output_type": "execute_result"
    }
   ],
   "source": [
    "Mod((x-2*y)**2, x*y).evaluate()"
   ]
  },
  {
   "cell_type": "code",
   "execution_count": 13,
   "metadata": {},
   "outputs": [
    {
     "data": {
      "text/latex": [
       "$$\\left(x^{2} + 4 \\cdot y^{2}\\right)\\mod x \\cdot y$$"
      ],
      "text/plain": [
       "Mod(Add(Pow(Constant(x, deps=()), Constant(2, deps=())), Mul(Constant(4, deps=()), Pow(Constant(y, deps=()), Constant(2, deps=())))), Mul(Constant(x, deps=()), Constant(y, deps=())))"
      ]
     },
     "execution_count": 13,
     "metadata": {},
     "output_type": "execute_result"
    }
   ],
   "source": [
    "a = Mod(x**2 + 4*y**2 - 4*x*y, x*y)\n",
    "a.evaluate()"
   ]
  },
  {
   "cell_type": "code",
   "execution_count": 14,
   "metadata": {},
   "outputs": [
    {
     "data": {
      "text/latex": [
       "$$z\\mod \\left(x + y\\right)$$"
      ],
      "text/plain": [
       "Mod(Constant(z, deps=()), Add(Constant(x, deps=()), Constant(y, deps=())))"
      ]
     },
     "execution_count": 14,
     "metadata": {},
     "output_type": "execute_result"
    }
   ],
   "source": [
    "Mod(z-x-y, x+y).evaluate()"
   ]
  },
  {
   "cell_type": "code",
   "execution_count": 15,
   "metadata": {},
   "outputs": [
    {
     "data": {
      "text/latex": [
       "$$0$$"
      ],
      "text/plain": [
       "Constant(0, deps=())"
      ]
     },
     "execution_count": 15,
     "metadata": {},
     "output_type": "execute_result"
    }
   ],
   "source": [
    "Mod(x+(y+z), x+y+z).evaluate()"
   ]
  },
  {
   "cell_type": "code",
   "execution_count": 16,
   "metadata": {},
   "outputs": [
    {
     "data": {
      "text/latex": [
       "$$z\\mod \\left(x + y\\right)$$"
      ],
      "text/plain": [
       "Mod(Constant(z, deps=()), Add(Constant(x, deps=()), Constant(y, deps=())))"
      ]
     },
     "execution_count": 16,
     "metadata": {},
     "output_type": "execute_result"
    }
   ],
   "source": [
    "Mod(x+(y+z), x+y).evaluate()"
   ]
  },
  {
   "cell_type": "code",
   "execution_count": 17,
   "metadata": {},
   "outputs": [
    {
     "data": {
      "text/latex": [
       "$$z\\mod \\left(x + y\\right)$$"
      ],
      "text/plain": [
       "Mod(Constant(z, deps=()), Add(Constant(x, deps=()), Constant(y, deps=())))"
      ]
     },
     "execution_count": 17,
     "metadata": {},
     "output_type": "execute_result"
    }
   ],
   "source": [
    "Mod(k*(x+y)+z, x+y).evaluate()"
   ]
  },
  {
   "cell_type": "code",
   "execution_count": 2,
   "metadata": {},
   "outputs": [
    {
     "data": {
      "text/latex": [
       "$$0$$"
      ],
      "text/plain": [
       "Constant(0, deps=())"
      ]
     },
     "metadata": {},
     "output_type": "display_data"
    },
    {
     "name": "stdout",
     "output_type": "stream",
     "text": [
      "{a_(6) > 2}\n"
     ]
    },
    {
     "data": {
      "text/latex": [
       "$$2$$"
      ],
      "text/plain": [
       "Constant(2, deps=())"
      ]
     },
     "execution_count": 2,
     "metadata": {},
     "output_type": "execute_result"
    }
   ],
   "source": [
    "from pylogic.expressions.sum import Sum\n",
    "from pylogic.expressions.prod import Prod\n",
    "from pylogic.structures.sequence import Sequence, FiniteSequence, Pair, Triple\n",
    "from pylogic.sympy_helpers import sympy_to_pylogic\n",
    "from pylogic.proposition.ordering.greaterthan import GreaterThan\n",
    "\n",
    "s1 = Triple(\"s\", x,y,z)\n",
    "s1 = FiniteSequence(\"s\", length=10,nth_term=lambda n: (n+1)*x)\n",
    "s2 = Sum(s1)\n",
    "p = Prod(s1)\n",
    "display((p % x).evaluate())\n",
    "\n",
    "a = FiniteSequence(\"a\", length=10,positive=True,integer=True)\n",
    "p2 = Prod(a)\n",
    "\n",
    "a6 = a[6]\n",
    "\n",
    "GreaterThan(a6, 2).assume()\n",
    "print(a6.knowledge_base)\n",
    "\n",
    "((p2 + 2) % a6).evaluate()\n",
    "\n",
    "\n"
   ]
  },
  {
   "cell_type": "code",
   "execution_count": 1,
   "metadata": {},
   "outputs": [
    {
     "name": "stdout",
     "output_type": "stream",
     "text": [
      "True\n",
      "True\n",
      "x + y + z\n",
      "x + y + z\n"
     ]
    }
   ],
   "source": [
    "from pylogic.variable import variables\n",
    "from pylogic.expressions.expr import Add\n",
    "from pylogic.sympy_helpers import sympy_to_pylogic\n",
    "x, y, z = variables('x', 'y', 'z', integer=True)\n",
    "sum_eval = ((x + y) + z).evaluate()\n",
    "sum_eval2 = (x + (y + z)).evaluate()\n",
    "\n",
    "print(sum_eval == sum_eval2)\n",
    "\n",
    "w = (Add((x+y).evaluate(),z).to_sympy())\n",
    "print(w == (x + y + z).to_sympy())\n",
    "print(w)\n",
    "print((x + y + z).to_sympy())\n"
   ]
  },
  {
   "cell_type": "code",
   "execution_count": 2,
   "metadata": {},
   "outputs": [],
   "source": [
    "def print_dict(x):\n",
    "    for k in dir(x):\n",
    "        print(f\"{k}: {getattr(x, k)}\")"
   ]
  },
  {
   "cell_type": "code",
   "execution_count": 3,
   "metadata": {},
   "outputs": [
    {
     "name": "stdout",
     "output_type": "stream",
     "text": [
      "x + y\n",
      "x + y\n",
      "True\n",
      "True\n",
      "{\n",
      "\tcommutative: True} {\n",
      "\tcommutative: True}\n"
     ]
    }
   ],
   "source": [
    "a = (x+y).evaluate()\n",
    "b = x+y\n",
    "\n",
    "asymp = a.to_sympy()\n",
    "bsymp = b.to_sympy()\n",
    "\n",
    "print(asymp)\n",
    "print(bsymp)\n",
    "print(a == b)\n",
    "print(asymp == bsymp)\n",
    "xa = asymp.args[0]\n",
    "xb = bsymp.args[0]\n",
    "ya = asymp.args[1]\n",
    "yb = bsymp.args[1]\n",
    "# print_dict(xa)\n",
    "# print_dict(xb)\n",
    "\n",
    "print(xa._assumptions, xb._assumptions)"
   ]
  },
  {
   "cell_type": "code",
   "execution_count": 4,
   "metadata": {},
   "outputs": [
    {
     "name": "stdout",
     "output_type": "stream",
     "text": [
      "True\n",
      "False\n"
     ]
    },
    {
     "data": {
      "text/latex": [
       "$$1 + x^{2}$$"
      ],
      "text/plain": [
       "Add(Constant(1, deps=()), Pow(Variable(x, deps=()), Constant(2, deps=())))"
      ]
     },
     "execution_count": 4,
     "metadata": {},
     "output_type": "execute_result"
    }
   ],
   "source": [
    "x = variables('x', positive=True)\n",
    "print(x.is_positive)\n",
    "print(x.is_nonpositive)\n",
    "expr = 1 + x**2\n",
    "expr"
   ]
  },
  {
   "cell_type": "code",
   "execution_count": 5,
   "metadata": {},
   "outputs": [
    {
     "data": {
      "text/plain": [
       "True"
      ]
     },
     "execution_count": 5,
     "metadata": {},
     "output_type": "execute_result"
    }
   ],
   "source": [
    "expr._is_positive"
   ]
  },
  {
   "cell_type": "code",
   "execution_count": 6,
   "metadata": {},
   "outputs": [
    {
     "data": {
      "text/plain": [
       "False"
      ]
     },
     "execution_count": 6,
     "metadata": {},
     "output_type": "execute_result"
    }
   ],
   "source": [
    "expr.is_nonpositive"
   ]
  },
  {
   "cell_type": "code",
   "execution_count": 7,
   "metadata": {},
   "outputs": [
    {
     "data": {
      "text/plain": [
       "False"
      ]
     },
     "execution_count": 7,
     "metadata": {},
     "output_type": "execute_result"
    }
   ],
   "source": [
    "expr.is_zero"
   ]
  },
  {
   "cell_type": "code",
   "execution_count": 2,
   "metadata": {},
   "outputs": [
    {
     "data": {
      "text/latex": [
       "$$\\left(2^{p \\cdot q^{-1}}\\right)^{q}$$"
      ],
      "text/plain": [
       "Pow(Pow(Constant(2, deps=()), Mul(Constant(p, deps=()), Pow(Constant(q, deps=()), Constant(-1, deps=())))), Constant(q, deps=()))"
      ]
     },
     "metadata": {},
     "output_type": "display_data"
    },
    {
     "data": {
      "text/latex": [
       "$$2^{p}$$"
      ],
      "text/plain": [
       "Pow(Constant(2, deps=()), Constant(p, deps=()))"
      ]
     },
     "metadata": {},
     "output_type": "display_data"
    },
    {
     "name": "stdout",
     "output_type": "stream",
     "text": [
      "True\n"
     ]
    }
   ],
   "source": [
    "from pylogic.constant import  Constant\n",
    "from pylogic.sympy_helpers import sympy_to_pylogic\n",
    "p, q = Constant('p', integer=True), Constant('q', integer=True, zero=False)\n",
    "p_q = p/q\n",
    "p_q.is_rational\n",
    "\n",
    "a = ((2**p_q)**q)\n",
    "display(a)\n",
    "display(a.evaluate())\n",
    "\n",
    "ps = p.to_sympy()\n",
    "pp = sympy_to_pylogic(p.to_sympy())\n",
    "#print(ps.is_integer, ps.assumptions0)\n",
    "print(pp.is_integer)\n"
   ]
  },
  {
   "cell_type": "code",
   "execution_count": 1,
   "metadata": {},
   "outputs": [
    {
     "name": "stdout",
     "output_type": "stream",
     "text": [
      "forall x in s: (p(x) -> r(x))\n",
      "x in s /\\ p(x) -> r(x)\n",
      "p(x) -> r(x)\n",
      "r(x)\n",
      "None\n",
      "None\n",
      "forall x in s: (p(x) -> t(x))\n"
     ]
    }
   ],
   "source": [
    "from pylogic.assumptions_context import AssumptionsContext, ctx_vars, to_prove\n",
    "from pylogic.helpers import assume\n",
    "from pylogic.variable import variables\n",
    "from pylogic.proposition.quantified.forall import Forall, ForallInSet\n",
    "from pylogic.proposition.proposition import predicates\n",
    "from pylogic.structures.set_ import Set\n",
    "\n",
    "x, y, z = variables('x', 'y', 'z')\n",
    "p, q, r, t = predicates('p', 'q', 'r', 't')\n",
    "px, qx, rx, tx = p(x), q(x), r(x), t(x)\n",
    "s = Set('s') \n",
    "to_prove(ForallInSet(x, s, px.implies(rx)))\n",
    "a = assume(ForallInSet(x, s, px.implies(qx)))\n",
    "b = assume(ForallInSet(x, s, qx.implies(rx)))\n",
    "c = assume(Forall(x, rx.implies(tx)))\n",
    "print(to_prove())\n",
    "with AssumptionsContext() as ctx:\n",
    "    x = ctx_vars('x')\n",
    "    print(to_prove())\n",
    "    x.is_in(s).assume()\n",
    "    print(to_prove())\n",
    "    a1 = assume(px)\n",
    "    print(to_prove())\n",
    "    a2 = a(x)(a1)\n",
    "    a3 = b(x)(a2)\n",
    "    a4 = c(x)(a3)\n",
    "    print(to_prove())\n",
    "print(to_prove())\n",
    "print(ctx.get_first_proven())"
   ]
  },
  {
   "cell_type": "code",
   "execution_count": 4,
   "metadata": {},
   "outputs": [
    {
     "data": {
      "text/plain": [
       "True"
      ]
     },
     "execution_count": 4,
     "metadata": {},
     "output_type": "execute_result"
    }
   ],
   "source": [
    "x = variables('x', positive=True)\n",
    "x.is_real"
   ]
  },
  {
   "cell_type": "code",
   "execution_count": null,
   "metadata": {},
   "outputs": [
    {
     "name": "stdout",
     "output_type": "stream",
     "text": [
      "None\n"
     ]
    },
    {
     "data": {
      "text/latex": [
       "$$\\text{p} \\rightarrow \\left(\\text{q} \\rightarrow \\text{p}\\right)$$"
      ],
      "text/plain": [
       "Implies(Proposition(p), Implies(Proposition(q), Proposition(p)))"
      ]
     },
     "execution_count": 6,
     "metadata": {},
     "output_type": "execute_result"
    }
   ],
   "source": [
    "from pylogic.proposition.proposition import propositions\n",
    "from pylogic.helpers import assume\n",
    "from pylogic.assumptions_context import AssumptionsContext, conclude, to_prove\n",
    "p, q, r = propositions(\"p\", \"q\", \"r\")\n",
    "\n",
    "to_prove(p.implies(q.implies(p), de_nest=False))\n",
    "\n",
    "with AssumptionsContext() as ctx:\n",
    "    assume(p)\n",
    "    with AssumptionsContext() as ctx2:\n",
    "        assume(q)\n",
    "        conclude(p)\n",
    "res = ctx.get_first_proven()\n",
    "res"
   ]
  },
  {
   "cell_type": "code",
   "execution_count": 2,
   "metadata": {},
   "outputs": [
    {
     "data": {
      "text/plain": [
       "[Constant(1, deps=()), Constant(2, deps=())]"
      ]
     },
     "execution_count": 2,
     "metadata": {},
     "output_type": "execute_result"
    }
   ],
   "source": [
    "from pylogic.proposition.proposition import Proposition\n",
    "\n",
    "p = Proposition(\"p\", args=[1, 2])\n",
    "\n",
    "p.args"
   ]
  },
  {
   "cell_type": "code",
   "execution_count": null,
   "metadata": {},
   "outputs": [],
   "source": []
  }
 ],
 "metadata": {
  "kernelspec": {
   "display_name": "Python 3",
   "language": "python",
   "name": "python3"
  },
  "language_info": {
   "codemirror_mode": {
    "name": "ipython",
    "version": 3
   },
   "file_extension": ".py",
   "mimetype": "text/x-python",
   "name": "python",
   "nbconvert_exporter": "python",
   "pygments_lexer": "ipython3",
   "version": "3.11.4"
  }
 },
 "nbformat": 4,
 "nbformat_minor": 2
}
