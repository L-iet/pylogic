{
 "cells": [
  {
   "cell_type": "code",
   "execution_count": 1,
   "metadata": {},
   "outputs": [
    {
     "data": {
      "text/latex": [
       "$$\\sqrt{2}$$"
      ],
      "text/plain": [
       "Pow(Constant(2, deps=()), Constant(1/2, deps=()))"
      ]
     },
     "execution_count": 1,
     "metadata": {},
     "output_type": "execute_result"
    }
   ],
   "source": [
    "from pylogic.theories.numbers import Naturals, Rationals, Integers\n",
    "from pylogic.assumptions_context import AssumptionsContext, conclude\n",
    "from pylogic.expressions.expr import sqrt\n",
    "from pylogic.constant import Constant\n",
    "from pylogic.proposition.not_ import Not\n",
    "\n",
    "root_2 = rt2 = sqrt(2)\n",
    "root_2"
   ]
  },
  {
   "cell_type": "code",
   "execution_count": 2,
   "metadata": {},
   "outputs": [
    {
     "name": "stdout",
     "output_type": "stream",
     "text": [
      "Product division theorem\n"
     ]
    },
    {
     "data": {
      "text/latex": [
       "$$\\forall a \\in \\mathbb{Z}: \\forall b \\in \\mathbb{Z}: \\forall c \\in \\mathbb{Z}: \\left(a = b \\cdot c \\rightarrow \\left. b \\middle| a \\right.\\wedge \\left. c \\middle| a \\right.\\right)$$"
      ],
      "text/plain": [
       "ForallInSet(Variable(a, deps=()), Set_Integers, ForallInSet(Variable(b, deps=()), Set_Integers, ForallInSet(Variable(c, deps=()), Set_Integers, Implies(Equals(a, b * c), And(Divides(b, a, Integers), Divides(c, a, Integers))))))"
      ]
     },
     "metadata": {},
     "output_type": "display_data"
    },
    {
     "name": "stdout",
     "output_type": "stream",
     "text": [
      "Prime divides power theorem\n"
     ]
    },
    {
     "data": {
      "text/latex": [
       "$$\\forall p \\in \\mathbb{N}: \\forall a \\in \\mathbb{Z}: \\forall k \\in \\mathbb{N}: \\left(p \\text{ is prime }\\wedge \\left. p \\middle| a^{k} \\right. \\rightarrow \\left. p \\middle| a \\right.\\right)$$"
      ],
      "text/plain": [
       "ForallInSet(Variable(p, deps=()), Set_Naturals, ForallInSet(Variable(a, deps=()), Set_Integers, ForallInSet(Variable(k, deps=()), Set_Naturals, Implies(And(Prime(p), Divides(p, a^k, Integers)), Divides(p, a, Integers)))))"
      ]
     },
     "metadata": {},
     "output_type": "display_data"
    },
    {
     "data": {
      "text/latex": [
       "$$\\exists q \\in \\mathbb{Z}: p = 2 \\cdot q$$"
      ],
      "text/plain": [
       "ExistsInSet(Variable(q, deps=()), Set_Integers, Equals(p, 2 * q))"
      ]
     },
     "metadata": {},
     "output_type": "display_data"
    },
    {
     "data": {
      "text/latex": [
       "$$\\text{contradiction}$$"
      ],
      "text/plain": [
       "Proposition(contradiction)"
      ]
     },
     "metadata": {},
     "output_type": "display_data"
    },
    {
     "data": {
      "text/latex": [
       "$$\\sqrt{2} \\not \\in \\mathbb{Q}$$"
      ],
      "text/plain": [
       "Not(IsContainedIn(2^1/2, Rationals))"
      ]
     },
     "execution_count": 2,
     "metadata": {},
     "output_type": "execute_result"
    }
   ],
   "source": [
    "with AssumptionsContext() as ctx:\n",
    "    # assume that root_2 is rational\n",
    "    rt2_rational = root_2.is_in(Rationals).assume()\n",
    "\n",
    "    # this means that root_2 = p/q for some integers p and q, q != 0\n",
    "    # and gcd(p, q) = 1  , call this Equation 1\n",
    "    rt2_ratio = Rationals.theorems.ratio_of_integers_lowest_terms(rt2)\n",
    "    p, (_, (q, (_, _, rt2_eq_p_over_q, gcd_p_q_eq_1))) = rt2_ratio\n",
    "\n",
    "    # 2 is prime\n",
    "    two_prime = Naturals.prime(2).by_inspection()\n",
    "\n",
    "    # root_2 = p/q\n",
    "    # =>   2 = p^2/q^2\n",
    "    # =>   2q^2 = p^2 \n",
    "    # =>   p^2 = 2q^2, call this Equation 2\n",
    "    p2_eq_2q2 = ((rt2_eq_p_over_q**2)*q**2).evaluate().symmetric()\n",
    "    \n",
    "    print(\"Product division theorem\")\n",
    "    display(Integers.theorems.division_theorems.product)\n",
    "    # by the above theorem, 2 | p^2\n",
    "    two_div_p2, _ = Integers.theorems.division_theorems.product(p**2, 2, q**2)(p2_eq_2q2)\n",
    "\n",
    "    print(\"Prime divides power theorem\")\n",
    "    display(Integers.theorems.division_theorems.prime.prime_divides_power)\n",
    "    # by the above theorem, 2 | p\n",
    "    two_div_p = Integers.theorems.division_theorems.prime.prime_divides_power(2, p, 2)(two_prime, two_div_p2)\n",
    "\n",
    "    # just the definition of divides, rename the variable as k\n",
    "    display(two_div_p.definition)\n",
    "    k, (_, p_eq_2k) = two_div_p.definition.rename_variable('k') # p = 2k\n",
    "\n",
    "    # substitute Equation 2 right-hand-side into p^2 = (2k)^2\n",
    "    # => 2q^2 = (2k)^2\n",
    "    # => q^2 = 2k^2\n",
    "    q2_eq_2k2 = (p_eq_2k ** 2).substitute(\"right\", p2_eq_2q2) / 2\n",
    "    q2_eq_2k2 = q2_eq_2k2.evaluate()\n",
    "\n",
    "    # again, product division theorem, 2 | q^2\n",
    "    two_div_q2, _ = Integers.theorems.division_theorems.product(q**2, 2, k**2)(q2_eq_2k2)\n",
    "    # and prime divides power theorem, 2 | q\n",
    "    two_div_q = Integers.theorems.division_theorems.prime.prime_divides_power(2, q, 2)(two_prime, two_div_q2)\n",
    "\n",
    "    # now we have 2 | p and 2 | q\n",
    "    # => 2 | gcd(p, q)\n",
    "    two_div_gcd_p_q = Integers.theorems.division_theorems.gcd(2, p, q)(two_div_p, two_div_q)\n",
    "\n",
    "    # but we know that gcd(p, q) = 1, so 2 | 1\n",
    "    two_div_1 = two_div_gcd_p_q.substitute(\"right\", gcd_p_q_eq_1)\n",
    "\n",
    "    # 2 clearly does not divide 1, so contradiction\n",
    "    two_not_div_1 = Not(Integers.divides(2, 1)).by_inspection()\n",
    "    contra = two_div_1.contradicts(two_not_div_1)\n",
    "    \n",
    "    conclude(contra)\n",
    "    display(contra)\n",
    "\n",
    "ctx.get_proven()[0]"
   ]
  },
  {
   "cell_type": "code",
   "execution_count": 3,
   "metadata": {},
   "outputs": [
    {
     "data": {
      "text/latex": [
       "$$\\forall a \\in \\mathbb{Z}: \\forall b \\in \\mathbb{Z}: \\forall c \\in \\mathbb{Z}: \\left(a \\mid b\\wedge a \\mid c \\rightarrow a \\mid \\gcd\\left(b, c\\right)\\right)$$"
      ],
      "text/plain": [
       "ForallInSet(Variable(a, deps=()), Set_Integers, ForallInSet(Variable(b, deps=()), Set_Integers, ForallInSet(Variable(c, deps=()), Set_Integers, Implies(And(Divides(a, b), Divides(a, c)), Divides(a, gcd(b, c))))))"
      ]
     },
     "execution_count": 3,
     "metadata": {},
     "output_type": "execute_result"
    }
   ],
   "source": [
    "Integers.theorems.division_theorems.gcd"
   ]
  },
  {
   "cell_type": "code",
   "execution_count": 5,
   "metadata": {},
   "outputs": [
    {
     "data": {
      "text/latex": [
       "$$2^{1/2} > 1\\wedge \\forall a \\in \\mathbb{N}: \\forall b \\in \\mathbb{N}: \\left(2^{1/2} = a \\cdot b \\rightarrow a = 1\\oplus b = 1\\right)$$"
      ],
      "text/plain": [
       "And(2^1/2 > 1, ForallInSet(Variable(a, deps=()), Set_Naturals, ForallInSet(Variable(b, deps=()), Set_Naturals, Implies(Equals(2^1/2, a * b), ExOr(Equals(a, 1), Equals(b, 1))))))"
      ]
     },
     "execution_count": 5,
     "metadata": {},
     "output_type": "execute_result"
    }
   ],
   "source": [
    "Naturals.prime(rt2).definition"
   ]
  },
  {
   "cell_type": "code",
   "execution_count": 5,
   "metadata": {},
   "outputs": [
    {
     "data": {
      "text/latex": [
       "$$\\neg{2 \\mid 1}$$"
      ],
      "text/plain": [
       "Not(Divides(2, 1))"
      ]
     },
     "metadata": {},
     "output_type": "display_data"
    },
    {
     "name": "stdout",
     "output_type": "stream",
     "text": [
      "True\n"
     ]
    }
   ],
   "source": [
    "prop = Not(Naturals.divides(2, 1)).by_inspection()\n",
    "display(prop)\n",
    "print(prop.is_proven)"
   ]
  },
  {
   "cell_type": "code",
   "execution_count": 15,
   "metadata": {},
   "outputs": [
    {
     "data": {
      "text/latex": [
       "$$\\left. 2 \\middle| 4 \\right.$$"
      ],
      "text/plain": [
       "Divides(2, 4, Integers)"
      ]
     },
     "metadata": {},
     "output_type": "display_data"
    },
    {
     "name": "stdout",
     "output_type": "stream",
     "text": [
      "True\n"
     ]
    }
   ],
   "source": [
    "prop = Integers.divides(2, 4).by_inspection()\n",
    "display(prop)\n",
    "print(prop.is_proven)"
   ]
  },
  {
   "cell_type": "code",
   "execution_count": 16,
   "metadata": {},
   "outputs": [
    {
     "data": {
      "text/latex": [
       "$$\\neg 105 \\text{ is prime }$$"
      ],
      "text/plain": [
       "Not(Prime(105))"
      ]
     },
     "execution_count": 16,
     "metadata": {},
     "output_type": "execute_result"
    }
   ],
   "source": [
    "Not(Naturals.prime(105)).by_inspection()"
   ]
  },
  {
   "cell_type": "code",
   "execution_count": null,
   "metadata": {},
   "outputs": [
    {
     "data": {
      "text/latex": [
       "$$\\exists p \\in \\mathbb{Z}: \\exists q \\in \\mathbb{Z}: \\left(q \\not = 0\\wedge 2^{1/2} = p \\cdot q^{-1}\\wedge \\gcd\\left(p, q\\right) = 1\\right)$$"
      ],
      "text/plain": [
       "ExistsInSet(Variable(p, deps=()), Set_Integers, ExistsInSet(Variable(q, deps=()), Set_Integers, And(Not(Equals(q, 0)), Equals(2^1/2, p * q^-1), Equals(gcd(p, q), 1))))"
      ]
     },
     "execution_count": 20,
     "metadata": {},
     "output_type": "execute_result"
    }
   ],
   "source": [
    "Rationals.theorems.ratio_of_integers_lowest_terms(rt2)"
   ]
  },
  {
   "cell_type": "code",
   "execution_count": null,
   "metadata": {},
   "outputs": [],
   "source": []
  }
 ],
 "metadata": {
  "kernelspec": {
   "display_name": "Python 3",
   "language": "python",
   "name": "python3"
  },
  "language_info": {
   "codemirror_mode": {
    "name": "ipython",
    "version": 3
   },
   "file_extension": ".py",
   "mimetype": "text/x-python",
   "name": "python",
   "nbconvert_exporter": "python",
   "pygments_lexer": "ipython3",
   "version": "3.11.4"
  }
 },
 "nbformat": 4,
 "nbformat_minor": 2
}
