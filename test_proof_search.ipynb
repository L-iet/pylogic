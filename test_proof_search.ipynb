{
 "cells": [
  {
   "cell_type": "code",
   "execution_count": 1,
   "id": "a000bf9f",
   "metadata": {},
   "outputs": [],
   "source": [
    "from pylogic import *\n",
    "from pylogic.proposition.proof_search import proof_search, _BackwardProver"
   ]
  },
  {
   "cell_type": "code",
   "execution_count": 2,
   "id": "5fd144f7",
   "metadata": {},
   "outputs": [
    {
     "name": "stdout",
     "output_type": "stream",
     "text": [
      "F \\/ G\n"
     ]
    }
   ],
   "source": [
    "# Example usage\n",
    "A = propositions(\"A\", is_assumption=True)\n",
    "B, C, D, E, F, G = propositions(\"B\", \"C\", \"D\", \"E\", \"F\", \"G\")\n",
    "p6 = Implies(And(Or(D, E), Or(A, F)), G, is_assumption=True)\n",
    "A_imp_B = Implies(A, B, is_assumption=True)\n",
    "B_imp_C = Implies(B, C, is_assumption=True)\n",
    "C_imp_D = Implies(C, D, is_assumption=True)\n",
    "kb = [\n",
    "    # A,\n",
    "    # A_imp_B,\n",
    "    # B_imp_C,\n",
    "    # C_imp_D,\n",
    "    C.implies(G).assume(),\n",
    "    B.implies(F).assume(),\n",
    "    B.or_(C).assume(),\n",
    "    # p6,\n",
    "]\n",
    "target = F.or_(G)\n",
    "proof = proof_search(kb, target)\n",
    "print(proof)\n"
   ]
  },
  {
   "cell_type": "code",
   "execution_count": 3,
   "id": "55993e62",
   "metadata": {},
   "outputs": [
    {
     "name": "stdout",
     "output_type": "stream",
     "text": [
      "('ex_falso', Proposition(contradiction))\n"
     ]
    }
   ],
   "source": [
    "P, Q, R, S, T = propositions(\"P\", \"Q\", \"R\", \"S\", \"T\")\n",
    "p1 = P.implies(Q).and_(R.implies(S)).assume()\n",
    "p2 = Q.or_(S).implies(T).assume()\n",
    "p3 = P.or_(R).assume()\n",
    "p4 = neg(T).assume()\n",
    "\n",
    "target = neg(P).and_(neg(R))\n",
    "kb = [\n",
    "    p1,\n",
    "    p2,\n",
    "    p3,\n",
    "    p4,\n",
    "]\n",
    "proof = proof_search(kb, target)\n",
    "print(proof.deduced_from)"
   ]
  },
  {
   "cell_type": "code",
   "execution_count": 4,
   "id": "c554eac4",
   "metadata": {},
   "outputs": [
    {
     "name": "stdout",
     "output_type": "stream",
     "text": [
      "('by_cases', Or(Proposition(A), Proposition(B)), 'has inner contexts')\n"
     ]
    }
   ],
   "source": [
    "A, B = propositions(\"A\", \"B\")\n",
    "p1 = A.or_(B).assume()\n",
    "p2 = neg(B).assume()\n",
    "\n",
    "target = A\n",
    "kb = [\n",
    "    p1,\n",
    "    p2,\n",
    "]\n",
    "proof = proof_search(kb, target)\n",
    "print(proof.deduced_from)"
   ]
  },
  {
   "cell_type": "code",
   "execution_count": 5,
   "id": "05731ee9",
   "metadata": {},
   "outputs": [
    {
     "name": "stdout",
     "output_type": "stream",
     "text": [
      "('by_cases', Or(Proposition(C), Proposition(D)), 'has inner contexts')\n"
     ]
    }
   ],
   "source": [
    "A, B, C, D, E, F = propositions(\"A\", \"B\", \"C\", \"D\", \"E\", \"F\")\n",
    "settings[\"USE_CLASSICAL_LOGIC\"] = True\n",
    "\n",
    "# Premises\n",
    "p1 = A.implies(B.and_(F)).assume()\n",
    "p2 = D.implies(neg(B)).assume()\n",
    "p3 = C.or_(D).assume()\n",
    "p4 = neg(E).implies(neg(D)).assume()\n",
    "\n",
    "# Target\n",
    "target = A.implies(C)\n",
    "\n",
    "kb = [\n",
    "    p1,\n",
    "    p2,\n",
    "    p3,\n",
    "    # p4,\n",
    "]\n",
    "\n",
    "proof = proof_search(kb, target)\n",
    "print(proof.deduced_from)\n"
   ]
  },
  {
   "cell_type": "code",
   "execution_count": 6,
   "id": "09446cc9",
   "metadata": {},
   "outputs": [],
   "source": [
    "I, J, K, M, N = propositions(\"I\", \"J\", \"K\", \"M\", \"N\")\n",
    "p1 = I.implies(J).assume()\n",
    "p2 = J.or_(I, K).assume()\n",
    "p3 = J.implies(M).assume()\n",
    "p4 = neg(M).assume()\n",
    "p5 = K.implies(neg(N)).assume()\n",
    "\n",
    "target = neg(N)\n",
    "kb = [\n",
    "    p1,\n",
    "    p2,\n",
    "    p3,\n",
    "    p4,\n",
    "    p5,\n",
    "]"
   ]
  },
  {
   "cell_type": "code",
   "execution_count": 7,
   "id": "56a5640c",
   "metadata": {},
   "outputs": [
    {
     "data": {
      "text/plain": [
       "<pylogic.proposition.proof_search._BackwardProver at 0x2a143ec13d0>"
      ]
     },
     "execution_count": 7,
     "metadata": {},
     "output_type": "execute_result"
    }
   ],
   "source": [
    "_BackwardProver(kb)"
   ]
  },
  {
   "cell_type": "code",
   "execution_count": 8,
   "id": "abf7d56a",
   "metadata": {},
   "outputs": [
    {
     "name": "stdout",
     "output_type": "stream",
     "text": [
      "('modus_ponens', Proposition(K), Implies(Proposition(K), Not(Proposition(N))))\n"
     ]
    }
   ],
   "source": [
    "\n",
    "proof = proof_search(kb, target)\n",
    "print(proof.deduced_from)"
   ]
  },
  {
   "cell_type": "code",
   "execution_count": 9,
   "id": "a89ac05e",
   "metadata": {},
   "outputs": [
    {
     "name": "stdout",
     "output_type": "stream",
     "text": [
      "is_vowel(card_0) ~is_vowel(card_1) is_blue(card_2) ~is_blue(card_3)\n",
      "Card 0 may not satisfy the condition\n",
      "Card 1 satisfies the condition\n",
      "Card 2 satisfies the condition\n",
      "Card 3 may not satisfy the condition\n"
     ]
    }
   ],
   "source": [
    "letters = [\"A\",  \"B\", \"E\", \"K\"]; vowels = [\"A\", \"E\"]\n",
    "colors = [\"blue\", \"red\"]\n",
    "\n",
    "face_up = [\"E\", \"K\", \"blue\", \"red\"]\n",
    "\n",
    "cards = [Constant(f\"card_{i}\") for i in range(len(face_up))]\n",
    "is_vowel, is_blue = predicates(\"is_vowel\", \"is_blue\")\n",
    "\n",
    "def condition(card):\n",
    "    return is_vowel(card).implies(is_blue(card))\n",
    "\n",
    "kb = []\n",
    "targets = [condition(cards[i]) for i in range(len(face_up))]\n",
    "for i,c in enumerate(face_up):\n",
    "    if c in vowels:\n",
    "        kb.append(is_vowel(cards[i]).assume())\n",
    "    elif c == \"blue\":\n",
    "        kb.append(is_blue(cards[i]).assume())\n",
    "    elif c == \"red\":\n",
    "        kb.append(neg(is_blue(cards[i])).assume())\n",
    "    else:\n",
    "        kb.append(neg(is_vowel(cards[i])).assume())\n",
    "\n",
    "print(*kb)\n",
    "\n",
    "for i,t in enumerate(targets):\n",
    "    try:\n",
    "        proof = proof_search(kb, t)\n",
    "        print(f\"Card {i} satisfies the condition\")\n",
    "    except ValueError:\n",
    "        print(f\"Card {i} may not satisfy the condition\")\n"
   ]
  },
  {
   "cell_type": "code",
   "execution_count": 10,
   "id": "86a78ebf",
   "metadata": {},
   "outputs": [
    {
     "data": {
      "text/latex": [
       "$$\\text{is\\_married}\\left(A\\right)\\wedge \\neg \\text{is\\_married}\\left(B\\right)\\wedge \\text{is\\_looking\\_at}\\left(A, B\\right)\\vee \\text{is\\_married}\\left(D\\right)\\wedge \\neg \\text{is\\_married}\\left(C\\right)\\wedge \\text{is\\_looking\\_at}\\left(D, C\\right)$$"
      ],
      "text/plain": [
       "Or(And(Proposition(is\\_married, A), Not(Proposition(is\\_married, B)), Proposition(is\\_looking\\_at, A, B)), And(Proposition(is\\_married, D), Not(Proposition(is\\_married, C)), Proposition(is\\_looking\\_at, D, C)))"
      ]
     },
     "metadata": {},
     "output_type": "display_data"
    },
    {
     "name": "stdout",
     "output_type": "stream",
     "text": [
      "True\n"
     ]
    }
   ],
   "source": [
    "is_married, is_looking_at = predicates(r\"is\\_married\", r\"is\\_looking\\_at\")\n",
    "\n",
    "A, B, C, D = people = constants(\"A\", \"B\", \"C\", \"D\")\n",
    "\n",
    "looking_at = {\n",
    "    (A, B): True,\n",
    "    (D, C): True,\n",
    "}\n",
    "\n",
    "def iff(a, b):\n",
    "    return a.implies(b).and_(b.implies(a))\n",
    "\n",
    "def married_or_not(x):\n",
    "    return is_married(x).or_(neg(is_married(x)))\n",
    "\n",
    "def condition(x, y):\n",
    "    return is_married(x).and_(neg(is_married(y)), is_looking_at(x, y))\n",
    "\n",
    "kb = assume(\n",
    "    is_looking_at(A, B),\n",
    "    is_looking_at(D, C),\n",
    "    is_married(A),\n",
    "    iff(is_married(B), is_married(D)),\n",
    "    married_or_not(B),\n",
    "    married_or_not(D),\n",
    "    neg(is_married(C)),\n",
    ")\n",
    "\n",
    "target_components = []\n",
    "for x in people:\n",
    "    for y in people:\n",
    "        if looking_at.get((x, y), False):\n",
    "            target_components.append(condition(x, y))\n",
    "\n",
    "target = target_components[0].or_(*target_components[1:])\n",
    "proven_target = proof_search(kb, target)\n",
    "display(proven_target)\n",
    "print(proven_target.is_proven)"
   ]
  },
  {
   "cell_type": "code",
   "execution_count": 11,
   "id": "2896ff6f",
   "metadata": {},
   "outputs": [
    {
     "name": "stdout",
     "output_type": "stream",
     "text": [
      "('close_assumptions_context', 'has inner contexts')\n"
     ]
    }
   ],
   "source": [
    "A, B = propositions(\"A\", \"B\")\n",
    "kb = []\n",
    "\n",
    "target = B.implies(neg(A).implies(B))\n",
    "\n",
    "proof = proof_search(kb, target)\n",
    "print(proof.deduced_from)"
   ]
  },
  {
   "cell_type": "code",
   "execution_count": 12,
   "id": "48ee4a7c",
   "metadata": {},
   "outputs": [
    {
     "name": "stdout",
     "output_type": "stream",
     "text": [
      "('by_cases', Or(Not(Proposition(P)), And(Not(Proposition(Q)), Not(Proposition(R)), Not(Proposition(S)))), 'has inner contexts')\n"
     ]
    }
   ],
   "source": [
    "\n",
    "P, Q, R, S = propositions(\"P\", \"Q\", \"R\", \"S\")\n",
    "\n",
    "p1 = neg(P.and_(Q.or_(R, S)))#.assume()\n",
    "p2 = neg(P).or_(neg(Q).and_(neg(R), neg(S))).assume()\n",
    "\n",
    "kb = [\n",
    "    p2,\n",
    "]\n",
    "\n",
    "target = p1\n",
    "proof = proof_search(kb, target)\n",
    "print(proof.deduced_from)"
   ]
  },
  {
   "cell_type": "code",
   "execution_count": 13,
   "id": "9e0c2616",
   "metadata": {},
   "outputs": [
    {
     "ename": "ValueError",
     "evalue": "No rule found to prove ~P \\/ ~Q",
     "output_type": "error",
     "traceback": [
      "\u001b[1;31m---------------------------------------------------------------------------\u001b[0m",
      "\u001b[1;31mValueError\u001b[0m                                Traceback (most recent call last)",
      "Cell \u001b[1;32mIn[13], line 8\u001b[0m\n\u001b[0;32m      4\u001b[0m kb \u001b[38;5;241m=\u001b[39m [\n\u001b[0;32m      5\u001b[0m     p1,\n\u001b[0;32m      6\u001b[0m ]\n\u001b[0;32m      7\u001b[0m target \u001b[38;5;241m=\u001b[39m p2\n\u001b[1;32m----> 8\u001b[0m proof \u001b[38;5;241m=\u001b[39m \u001b[43mproof_search\u001b[49m\u001b[43m(\u001b[49m\u001b[43mkb\u001b[49m\u001b[43m,\u001b[49m\u001b[43m \u001b[49m\u001b[43mtarget\u001b[49m\u001b[43m)\u001b[49m\n\u001b[0;32m      9\u001b[0m \u001b[38;5;28mprint\u001b[39m(proof\u001b[38;5;241m.\u001b[39mdeduced_from)\n",
      "File \u001b[1;32md:\\Minerva\\courses\\CP\\pylogic\\pylogic\\proposition\\proof_search.py:22\u001b[0m, in \u001b[0;36mproof_search\u001b[1;34m(kb, target)\u001b[0m\n\u001b[0;32m     17\u001b[0m \u001b[38;5;28;01mdef\u001b[39;00m\u001b[38;5;250m \u001b[39m\u001b[38;5;21mproof_search\u001b[39m(kb: \u001b[38;5;28mlist\u001b[39m[Proposition], target: Proposition) \u001b[38;5;241m-\u001b[39m\u001b[38;5;241m>\u001b[39m Proposition:\n\u001b[0;32m     18\u001b[0m \u001b[38;5;250m    \u001b[39m\u001b[38;5;124;03m\"\"\"\u001b[39;00m\n\u001b[0;32m     19\u001b[0m \u001b[38;5;124;03m    Attempt to build an Inference proving `target` from premises in `kb`.\u001b[39;00m\n\u001b[0;32m     20\u001b[0m \u001b[38;5;124;03m    Raises ValueError if no proof is found.\u001b[39;00m\n\u001b[0;32m     21\u001b[0m \u001b[38;5;124;03m    \"\"\"\u001b[39;00m\n\u001b[1;32m---> 22\u001b[0m     \u001b[38;5;28;01mreturn\u001b[39;00m \u001b[43m_BackwardProver\u001b[49m\u001b[43m(\u001b[49m\u001b[43mkb\u001b[49m\u001b[43m)\u001b[49m\u001b[38;5;241;43m.\u001b[39;49m\u001b[43mprove\u001b[49m\u001b[43m(\u001b[49m\u001b[43mtarget\u001b[49m\u001b[43m)\u001b[49m\n",
      "File \u001b[1;32md:\\Minerva\\courses\\CP\\pylogic\\pylogic\\proposition\\proof_search.py:87\u001b[0m, in \u001b[0;36m_BackwardProver.prove\u001b[1;34m(self, goal)\u001b[0m\n\u001b[0;32m     86\u001b[0m \u001b[38;5;28;01mdef\u001b[39;00m\u001b[38;5;250m \u001b[39m\u001b[38;5;21mprove\u001b[39m(\u001b[38;5;28mself\u001b[39m, goal: Proposition) \u001b[38;5;241m-\u001b[39m\u001b[38;5;241m>\u001b[39m Proposition:\n\u001b[1;32m---> 87\u001b[0m     \u001b[38;5;28;01mreturn\u001b[39;00m \u001b[38;5;28;43mself\u001b[39;49m\u001b[38;5;241;43m.\u001b[39;49m\u001b[43m_prove\u001b[49m\u001b[43m(\u001b[49m\u001b[43mgoal\u001b[49m\u001b[43m,\u001b[49m\u001b[43m \u001b[49m\u001b[43mvisited\u001b[49m\u001b[38;5;241;43m=\u001b[39;49m\u001b[38;5;28;43mset\u001b[39;49m\u001b[43m(\u001b[49m\u001b[43m)\u001b[49m\u001b[43m,\u001b[49m\u001b[43m \u001b[49m\u001b[43mno_recurse_on\u001b[49m\u001b[38;5;241;43m=\u001b[39;49m\u001b[38;5;28;43mset\u001b[39;49m\u001b[43m(\u001b[49m\u001b[43m)\u001b[49m\u001b[43m)\u001b[49m\n",
      "File \u001b[1;32md:\\Minerva\\courses\\CP\\pylogic\\pylogic\\proposition\\proof_search.py:282\u001b[0m, in \u001b[0;36m_BackwardProver._prove\u001b[1;34m(self, goal, visited, no_recurse_on)\u001b[0m\n\u001b[0;32m    280\u001b[0m             \u001b[38;5;28;01mcontinue\u001b[39;00m\n\u001b[0;32m    281\u001b[0m \u001b[38;5;66;03m# If we get here, no rule applies\u001b[39;00m\n\u001b[1;32m--> 282\u001b[0m \u001b[38;5;28;01mraise\u001b[39;00m \u001b[38;5;167;01mValueError\u001b[39;00m(\u001b[38;5;124mf\u001b[39m\u001b[38;5;124m\"\u001b[39m\u001b[38;5;124mNo rule found to prove \u001b[39m\u001b[38;5;132;01m{\u001b[39;00mgoal\u001b[38;5;132;01m}\u001b[39;00m\u001b[38;5;124m\"\u001b[39m)\n",
      "\u001b[1;31mValueError\u001b[0m: No rule found to prove ~P \\/ ~Q"
     ]
    }
   ],
   "source": [
    "P, Q, R, S = propositions(\"P\", \"Q\", \"R\", \"S\")\n",
    "p1 = neg(P.and_(Q)).assume()\n",
    "p2 = neg(P).or_(neg(Q))#.assume()\n",
    "kb = [\n",
    "    p1,\n",
    "]\n",
    "target = p2\n",
    "proof = proof_search(kb, target)\n",
    "print(proof.deduced_from)\n"
   ]
  },
  {
   "cell_type": "code",
   "execution_count": 14,
   "id": "07b58a81",
   "metadata": {},
   "outputs": [
    {
     "name": "stdout",
     "output_type": "stream",
     "text": [
      "('by_cases', Or(Not(Proposition(P)), Not(Proposition(Q))), 'has inner contexts')\n"
     ]
    }
   ],
   "source": [
    "P, Q, R, S = propositions(\"P\", \"Q\", \"R\", \"S\")\n",
    "p1 = neg(P.and_(Q))#.assume()\n",
    "p2 = neg(P).or_(neg(Q)).assume()\n",
    "kb = [\n",
    "    p2,\n",
    "]\n",
    "target = p1\n",
    "proof = proof_search(kb, target)\n",
    "print(proof.deduced_from)\n"
   ]
  },
  {
   "cell_type": "code",
   "execution_count": 15,
   "id": "c88bf2dc",
   "metadata": {},
   "outputs": [
    {
     "name": "stdout",
     "output_type": "stream",
     "text": [
      "None\n"
     ]
    }
   ],
   "source": [
    "P, Q, R, S = propositions(\"P\", \"Q\", \"R\", \"S\")\n",
    "\n",
    "p1 = P.assume()\n",
    "kb = [\n",
    "    p1,\n",
    "]\n",
    "target = neg(neg(P))\n",
    "proof = proof_search(kb, target)\n",
    "print(proof.deduced_from)"
   ]
  },
  {
   "cell_type": "code",
   "execution_count": 16,
   "id": "bf1d86bd",
   "metadata": {},
   "outputs": [
    {
     "ename": "ValueError",
     "evalue": "No rule found to prove P",
     "output_type": "error",
     "traceback": [
      "\u001b[1;31m---------------------------------------------------------------------------\u001b[0m",
      "\u001b[1;31mValueError\u001b[0m                                Traceback (most recent call last)",
      "Cell \u001b[1;32mIn[16], line 11\u001b[0m\n\u001b[0;32m      7\u001b[0m kb \u001b[38;5;241m=\u001b[39m [\n\u001b[0;32m      8\u001b[0m     p1,\n\u001b[0;32m      9\u001b[0m ]\n\u001b[0;32m     10\u001b[0m target \u001b[38;5;241m=\u001b[39m P\n\u001b[1;32m---> 11\u001b[0m proof \u001b[38;5;241m=\u001b[39m \u001b[43mproof_search\u001b[49m\u001b[43m(\u001b[49m\u001b[43mkb\u001b[49m\u001b[43m,\u001b[49m\u001b[43m \u001b[49m\u001b[43mtarget\u001b[49m\u001b[43m)\u001b[49m\n\u001b[0;32m     12\u001b[0m \u001b[38;5;28mprint\u001b[39m(proof\u001b[38;5;241m.\u001b[39mdeduced_from)\n",
      "File \u001b[1;32md:\\Minerva\\courses\\CP\\pylogic\\pylogic\\proposition\\proof_search.py:22\u001b[0m, in \u001b[0;36mproof_search\u001b[1;34m(kb, target)\u001b[0m\n\u001b[0;32m     17\u001b[0m \u001b[38;5;28;01mdef\u001b[39;00m\u001b[38;5;250m \u001b[39m\u001b[38;5;21mproof_search\u001b[39m(kb: \u001b[38;5;28mlist\u001b[39m[Proposition], target: Proposition) \u001b[38;5;241m-\u001b[39m\u001b[38;5;241m>\u001b[39m Proposition:\n\u001b[0;32m     18\u001b[0m \u001b[38;5;250m    \u001b[39m\u001b[38;5;124;03m\"\"\"\u001b[39;00m\n\u001b[0;32m     19\u001b[0m \u001b[38;5;124;03m    Attempt to build an Inference proving `target` from premises in `kb`.\u001b[39;00m\n\u001b[0;32m     20\u001b[0m \u001b[38;5;124;03m    Raises ValueError if no proof is found.\u001b[39;00m\n\u001b[0;32m     21\u001b[0m \u001b[38;5;124;03m    \"\"\"\u001b[39;00m\n\u001b[1;32m---> 22\u001b[0m     \u001b[38;5;28;01mreturn\u001b[39;00m \u001b[43m_BackwardProver\u001b[49m\u001b[43m(\u001b[49m\u001b[43mkb\u001b[49m\u001b[43m)\u001b[49m\u001b[38;5;241;43m.\u001b[39;49m\u001b[43mprove\u001b[49m\u001b[43m(\u001b[49m\u001b[43mtarget\u001b[49m\u001b[43m)\u001b[49m\n",
      "File \u001b[1;32md:\\Minerva\\courses\\CP\\pylogic\\pylogic\\proposition\\proof_search.py:87\u001b[0m, in \u001b[0;36m_BackwardProver.prove\u001b[1;34m(self, goal)\u001b[0m\n\u001b[0;32m     86\u001b[0m \u001b[38;5;28;01mdef\u001b[39;00m\u001b[38;5;250m \u001b[39m\u001b[38;5;21mprove\u001b[39m(\u001b[38;5;28mself\u001b[39m, goal: Proposition) \u001b[38;5;241m-\u001b[39m\u001b[38;5;241m>\u001b[39m Proposition:\n\u001b[1;32m---> 87\u001b[0m     \u001b[38;5;28;01mreturn\u001b[39;00m \u001b[38;5;28;43mself\u001b[39;49m\u001b[38;5;241;43m.\u001b[39;49m\u001b[43m_prove\u001b[49m\u001b[43m(\u001b[49m\u001b[43mgoal\u001b[49m\u001b[43m,\u001b[49m\u001b[43m \u001b[49m\u001b[43mvisited\u001b[49m\u001b[38;5;241;43m=\u001b[39;49m\u001b[38;5;28;43mset\u001b[39;49m\u001b[43m(\u001b[49m\u001b[43m)\u001b[49m\u001b[43m,\u001b[49m\u001b[43m \u001b[49m\u001b[43mno_recurse_on\u001b[49m\u001b[38;5;241;43m=\u001b[39;49m\u001b[38;5;28;43mset\u001b[39;49m\u001b[43m(\u001b[49m\u001b[43m)\u001b[49m\u001b[43m)\u001b[49m\n",
      "File \u001b[1;32md:\\Minerva\\courses\\CP\\pylogic\\pylogic\\proposition\\proof_search.py:282\u001b[0m, in \u001b[0;36m_BackwardProver._prove\u001b[1;34m(self, goal, visited, no_recurse_on)\u001b[0m\n\u001b[0;32m    280\u001b[0m             \u001b[38;5;28;01mcontinue\u001b[39;00m\n\u001b[0;32m    281\u001b[0m \u001b[38;5;66;03m# If we get here, no rule applies\u001b[39;00m\n\u001b[1;32m--> 282\u001b[0m \u001b[38;5;28;01mraise\u001b[39;00m \u001b[38;5;167;01mValueError\u001b[39;00m(\u001b[38;5;124mf\u001b[39m\u001b[38;5;124m\"\u001b[39m\u001b[38;5;124mNo rule found to prove \u001b[39m\u001b[38;5;132;01m{\u001b[39;00mgoal\u001b[38;5;132;01m}\u001b[39;00m\u001b[38;5;124m\"\u001b[39m)\n",
      "\u001b[1;31mValueError\u001b[0m: No rule found to prove P"
     ]
    }
   ],
   "source": [
    "from pylogic.enviroment_settings.settings import settings\n",
    "\n",
    "settings[\"USE_CLASSICAL_LOGIC\"] = False\n",
    "P, Q, R, S = propositions(\"P\", \"Q\", \"R\", \"S\")\n",
    "\n",
    "p1 = neg(neg(P)).assume()\n",
    "kb = [\n",
    "    p1,\n",
    "]\n",
    "target = P\n",
    "proof = proof_search(kb, target)\n",
    "print(proof.deduced_from)"
   ]
  },
  {
   "cell_type": "code",
   "execution_count": null,
   "id": "237e5732",
   "metadata": {},
   "outputs": [],
   "source": []
  }
 ],
 "metadata": {
  "kernelspec": {
   "display_name": "Python 3",
   "language": "python",
   "name": "python3"
  },
  "language_info": {
   "codemirror_mode": {
    "name": "ipython",
    "version": 3
   },
   "file_extension": ".py",
   "mimetype": "text/x-python",
   "name": "python",
   "nbconvert_exporter": "python",
   "pygments_lexer": "ipython3",
   "version": "3.11.4"
  }
 },
 "nbformat": 4,
 "nbformat_minor": 5
}
