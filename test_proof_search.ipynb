{
 "cells": [
  {
   "cell_type": "code",
   "execution_count": 9,
   "id": "a000bf9f",
   "metadata": {},
   "outputs": [],
   "source": [
    "from pylogic import *\n",
    "from pylogic.proposition.proof_search import proof_search, _BackwardProver"
   ]
  },
  {
   "cell_type": "code",
   "execution_count": 10,
   "id": "5fd144f7",
   "metadata": {},
   "outputs": [
    {
     "name": "stdout",
     "output_type": "stream",
     "text": [
      "F \\/ G\n"
     ]
    }
   ],
   "source": [
    "# Example usage\n",
    "A = propositions(\"A\", is_assumption=True)\n",
    "B, C, D, E, F, G = propositions(\"B\", \"C\", \"D\", \"E\", \"F\", \"G\")\n",
    "p6 = Implies(And(Or(D, E), Or(A, F)), G, is_assumption=True)\n",
    "A_imp_B = Implies(A, B, is_assumption=True)\n",
    "B_imp_C = Implies(B, C, is_assumption=True)\n",
    "C_imp_D = Implies(C, D, is_assumption=True)\n",
    "kb = [\n",
    "    # A,\n",
    "    # A_imp_B,\n",
    "    # B_imp_C,\n",
    "    # C_imp_D,\n",
    "    C.implies(G).assume(),\n",
    "    B.implies(F).assume(),\n",
    "    B.or_(C).assume(),\n",
    "    # p6,\n",
    "]\n",
    "target = F.or_(G)\n",
    "proof = proof_search(kb, target)\n",
    "print(proof)\n"
   ]
  },
  {
   "cell_type": "code",
   "execution_count": 11,
   "id": "55993e62",
   "metadata": {},
   "outputs": [
    {
     "name": "stdout",
     "output_type": "stream",
     "text": [
      "('ex_falso', Proposition(contradiction))\n"
     ]
    }
   ],
   "source": [
    "P, Q, R, S, T = propositions(\"P\", \"Q\", \"R\", \"S\", \"T\")\n",
    "p1 = P.implies(Q).and_(R.implies(S)).assume()\n",
    "p2 = Q.or_(S).implies(T).assume()\n",
    "p3 = P.or_(R).assume()\n",
    "p4 = neg(T).assume()\n",
    "\n",
    "target = neg(P).and_(neg(R))\n",
    "kb = [\n",
    "    p1,\n",
    "    p2,\n",
    "    p3,\n",
    "    p4,\n",
    "]\n",
    "proof = proof_search(kb, target)\n",
    "print(proof.deduced_from)"
   ]
  },
  {
   "cell_type": "code",
   "execution_count": 12,
   "id": "c554eac4",
   "metadata": {},
   "outputs": [
    {
     "name": "stdout",
     "output_type": "stream",
     "text": [
      "('by_cases', Or(Proposition(A), Proposition(B)), 'has inner contexts')\n"
     ]
    }
   ],
   "source": [
    "A, B = propositions(\"A\", \"B\")\n",
    "p1 = A.or_(B).assume()\n",
    "p2 = neg(B).assume()\n",
    "\n",
    "target = A\n",
    "kb = [\n",
    "    p1,\n",
    "    p2,\n",
    "]\n",
    "proof = proof_search(kb, target)\n",
    "print(proof.deduced_from)"
   ]
  },
  {
   "cell_type": "code",
   "execution_count": 13,
   "id": "05731ee9",
   "metadata": {},
   "outputs": [
    {
     "name": "stdout",
     "output_type": "stream",
     "text": [
      "('by_cases', Or(Proposition(C), Proposition(D)), 'has inner contexts')\n"
     ]
    }
   ],
   "source": [
    "A, B, C, D, E, F = propositions(\"A\", \"B\", \"C\", \"D\", \"E\", \"F\")\n",
    "settings[\"USE_CLASSICAL_LOGIC\"] = True\n",
    "\n",
    "# Premises\n",
    "p1 = A.implies(B.and_(F)).assume()\n",
    "p2 = D.implies(neg(B)).assume()\n",
    "p3 = C.or_(D).assume()\n",
    "p4 = neg(E).implies(neg(D)).assume()\n",
    "\n",
    "# Target\n",
    "target = A.implies(C)\n",
    "\n",
    "kb = [\n",
    "    p1,\n",
    "    p2,\n",
    "    p3,\n",
    "    # p4,\n",
    "]\n",
    "\n",
    "proof = proof_search(kb, target)\n",
    "print(proof.deduced_from)\n"
   ]
  },
  {
   "cell_type": "code",
   "execution_count": 14,
   "id": "09446cc9",
   "metadata": {},
   "outputs": [],
   "source": [
    "I, J, K, M, N = propositions(\"I\", \"J\", \"K\", \"M\", \"N\")\n",
    "p1 = I.implies(J).assume()\n",
    "p2 = J.or_(I, K).assume()\n",
    "p3 = J.implies(M).assume()\n",
    "p4 = neg(M).assume()\n",
    "p5 = K.implies(neg(N)).assume()\n",
    "\n",
    "target = neg(N)\n",
    "kb = [\n",
    "    p1,\n",
    "    p2,\n",
    "    p3,\n",
    "    p4,\n",
    "    p5,\n",
    "]"
   ]
  },
  {
   "cell_type": "code",
   "execution_count": 15,
   "id": "56a5640c",
   "metadata": {},
   "outputs": [
    {
     "data": {
      "text/plain": [
       "<pylogic.proposition.proof_search._BackwardProver at 0x24caca6fc50>"
      ]
     },
     "execution_count": 15,
     "metadata": {},
     "output_type": "execute_result"
    }
   ],
   "source": [
    "_BackwardProver(kb)"
   ]
  },
  {
   "cell_type": "code",
   "execution_count": 16,
   "id": "abf7d56a",
   "metadata": {},
   "outputs": [
    {
     "name": "stdout",
     "output_type": "stream",
     "text": [
      "('modus_ponens', Proposition(K), Implies(Proposition(K), Not(Proposition(N))))\n"
     ]
    }
   ],
   "source": [
    "\n",
    "proof = proof_search(kb, target)\n",
    "print(proof.deduced_from)"
   ]
  },
  {
   "cell_type": "code",
   "execution_count": 17,
   "id": "a89ac05e",
   "metadata": {},
   "outputs": [
    {
     "name": "stdout",
     "output_type": "stream",
     "text": [
      "Card 0 does not satisfy the condition\n",
      "Card 1 satisfies the condition\n",
      "Card 2 satisfies the condition\n",
      "Card 3 does not satisfy the condition\n"
     ]
    }
   ],
   "source": [
    "from collections import namedtuple\n",
    "from random import choice\n",
    "\n",
    "card = namedtuple(\"card\", [\"letter\", \"color\"])\n",
    "letters = [\"A\",  \"B\", \"E\", \"K\"]; vowels = [\"A\", \"E\"]\n",
    "colors = [\"blue\", \"red\"]\n",
    "\n",
    "face_up = [\"E\", \"K\", \"blue\", \"red\"]\n",
    "cards = []\n",
    "for c in face_up:\n",
    "    if c in colors:\n",
    "        cards.append(card(choice(letters), c))\n",
    "    else:\n",
    "        cards.append(card(c, choice(colors)))\n",
    "\n",
    "card_terms = [Constant(f\"card_{i}\") for i in range(len(cards))]\n",
    "is_vowel, is_blue = predicates(\"is_vowel\", \"is_blue\")\n",
    "\n",
    "kb = []\n",
    "targets = [is_vowel(card_terms[i]).implies(is_blue(card_terms[i])) for i in range(len(cards))]\n",
    "for i,c in enumerate(cards):\n",
    "    if c.letter in vowels:\n",
    "        kb.append(is_vowel(card_terms[i]).assume())\n",
    "    else:\n",
    "        kb.append(neg(is_vowel(card_terms[i])).assume())\n",
    "    if c.color == \"blue\":\n",
    "        kb.append(is_blue(card_terms[i]).assume())\n",
    "    else:\n",
    "        kb.append(neg(is_blue(card_terms[i])).assume())\n",
    "\n",
    "\n",
    "for i,t in enumerate(targets):\n",
    "    try:\n",
    "        proof = proof_search(kb, t)\n",
    "        print(f\"Card {i} satisfies the condition\")\n",
    "    except ValueError:\n",
    "        print(f\"Card {i} does not satisfy the condition\")\n"
   ]
  },
  {
   "cell_type": "code",
   "execution_count": 18,
   "id": "2896ff6f",
   "metadata": {},
   "outputs": [
    {
     "name": "stdout",
     "output_type": "stream",
     "text": [
      "('close_assumptions_context', 'has inner contexts')\n"
     ]
    }
   ],
   "source": [
    "A, B = propositions(\"A\", \"B\")\n",
    "kb = []\n",
    "\n",
    "target = B.implies(neg(A).implies(B)).assume()\n",
    "\n",
    "proof = proof_search(kb, target)\n",
    "print(proof.deduced_from)"
   ]
  },
  {
   "cell_type": "code",
   "execution_count": 19,
   "id": "48ee4a7c",
   "metadata": {},
   "outputs": [
    {
     "name": "stdout",
     "output_type": "stream",
     "text": [
      "('by_cases', Or(Not(Proposition(P)), And(Not(Proposition(Q)), Not(Proposition(R)), Not(Proposition(S)))), 'has inner contexts')\n"
     ]
    }
   ],
   "source": [
    "\n",
    "P, Q, R, S = propositions(\"P\", \"Q\", \"R\", \"S\")\n",
    "\n",
    "p1 = neg(P.and_(Q.or_(R, S)))#.assume()\n",
    "p2 = neg(P).or_(neg(Q).and_(neg(R), neg(S))).assume()\n",
    "\n",
    "kb = [\n",
    "    p2,\n",
    "]\n",
    "\n",
    "target = p1\n",
    "proof = proof_search(kb, target)\n",
    "print(proof.deduced_from)"
   ]
  },
  {
   "cell_type": "code",
   "execution_count": 20,
   "id": "9e0c2616",
   "metadata": {},
   "outputs": [
    {
     "ename": "ValueError",
     "evalue": "No rule found to prove ~P \\/ ~Q",
     "output_type": "error",
     "traceback": [
      "\u001b[1;31m---------------------------------------------------------------------------\u001b[0m",
      "\u001b[1;31mValueError\u001b[0m                                Traceback (most recent call last)",
      "Cell \u001b[1;32mIn[20], line 8\u001b[0m\n\u001b[0;32m      4\u001b[0m kb \u001b[38;5;241m=\u001b[39m [\n\u001b[0;32m      5\u001b[0m     p1,\n\u001b[0;32m      6\u001b[0m ]\n\u001b[0;32m      7\u001b[0m target \u001b[38;5;241m=\u001b[39m p2\n\u001b[1;32m----> 8\u001b[0m proof \u001b[38;5;241m=\u001b[39m \u001b[43mproof_search\u001b[49m\u001b[43m(\u001b[49m\u001b[43mkb\u001b[49m\u001b[43m,\u001b[49m\u001b[43m \u001b[49m\u001b[43mtarget\u001b[49m\u001b[43m)\u001b[49m\n\u001b[0;32m      9\u001b[0m \u001b[38;5;28mprint\u001b[39m(proof\u001b[38;5;241m.\u001b[39mdeduced_from)\n",
      "File \u001b[1;32md:\\Minerva\\courses\\CP\\pylogic\\pylogic\\proposition\\proof_search.py:22\u001b[0m, in \u001b[0;36mproof_search\u001b[1;34m(kb, target)\u001b[0m\n\u001b[0;32m     17\u001b[0m \u001b[38;5;28;01mdef\u001b[39;00m\u001b[38;5;250m \u001b[39m\u001b[38;5;21mproof_search\u001b[39m(kb: \u001b[38;5;28mlist\u001b[39m[Proposition], target: Proposition) \u001b[38;5;241m-\u001b[39m\u001b[38;5;241m>\u001b[39m Proposition:\n\u001b[0;32m     18\u001b[0m \u001b[38;5;250m    \u001b[39m\u001b[38;5;124;03m\"\"\"\u001b[39;00m\n\u001b[0;32m     19\u001b[0m \u001b[38;5;124;03m    Attempt to build an Inference proving `target` from premises in `kb`.\u001b[39;00m\n\u001b[0;32m     20\u001b[0m \u001b[38;5;124;03m    Raises ValueError if no proof is found.\u001b[39;00m\n\u001b[0;32m     21\u001b[0m \u001b[38;5;124;03m    \"\"\"\u001b[39;00m\n\u001b[1;32m---> 22\u001b[0m     \u001b[38;5;28;01mreturn\u001b[39;00m \u001b[43m_BackwardProver\u001b[49m\u001b[43m(\u001b[49m\u001b[43mkb\u001b[49m\u001b[43m)\u001b[49m\u001b[38;5;241;43m.\u001b[39;49m\u001b[43mprove\u001b[49m\u001b[43m(\u001b[49m\u001b[43mtarget\u001b[49m\u001b[43m)\u001b[49m\n",
      "File \u001b[1;32md:\\Minerva\\courses\\CP\\pylogic\\pylogic\\proposition\\proof_search.py:87\u001b[0m, in \u001b[0;36m_BackwardProver.prove\u001b[1;34m(self, goal)\u001b[0m\n\u001b[0;32m     86\u001b[0m \u001b[38;5;28;01mdef\u001b[39;00m\u001b[38;5;250m \u001b[39m\u001b[38;5;21mprove\u001b[39m(\u001b[38;5;28mself\u001b[39m, goal: Proposition) \u001b[38;5;241m-\u001b[39m\u001b[38;5;241m>\u001b[39m Proposition:\n\u001b[1;32m---> 87\u001b[0m     \u001b[38;5;28;01mreturn\u001b[39;00m \u001b[38;5;28;43mself\u001b[39;49m\u001b[38;5;241;43m.\u001b[39;49m\u001b[43m_prove\u001b[49m\u001b[43m(\u001b[49m\u001b[43mgoal\u001b[49m\u001b[43m,\u001b[49m\u001b[43m \u001b[49m\u001b[43mvisited\u001b[49m\u001b[38;5;241;43m=\u001b[39;49m\u001b[38;5;28;43mset\u001b[39;49m\u001b[43m(\u001b[49m\u001b[43m)\u001b[49m\u001b[43m,\u001b[49m\u001b[43m \u001b[49m\u001b[43mno_recurse_on\u001b[49m\u001b[38;5;241;43m=\u001b[39;49m\u001b[38;5;28;43mset\u001b[39;49m\u001b[43m(\u001b[49m\u001b[43m)\u001b[49m\u001b[43m)\u001b[49m\n",
      "File \u001b[1;32md:\\Minerva\\courses\\CP\\pylogic\\pylogic\\proposition\\proof_search.py:282\u001b[0m, in \u001b[0;36m_BackwardProver._prove\u001b[1;34m(self, goal, visited, no_recurse_on)\u001b[0m\n\u001b[0;32m    280\u001b[0m             \u001b[38;5;28;01mcontinue\u001b[39;00m\n\u001b[0;32m    281\u001b[0m \u001b[38;5;66;03m# If we get here, no rule applies\u001b[39;00m\n\u001b[1;32m--> 282\u001b[0m \u001b[38;5;28;01mraise\u001b[39;00m \u001b[38;5;167;01mValueError\u001b[39;00m(\u001b[38;5;124mf\u001b[39m\u001b[38;5;124m\"\u001b[39m\u001b[38;5;124mNo rule found to prove \u001b[39m\u001b[38;5;132;01m{\u001b[39;00mgoal\u001b[38;5;132;01m}\u001b[39;00m\u001b[38;5;124m\"\u001b[39m)\n",
      "\u001b[1;31mValueError\u001b[0m: No rule found to prove ~P \\/ ~Q"
     ]
    }
   ],
   "source": [
    "P, Q, R, S = propositions(\"P\", \"Q\", \"R\", \"S\")\n",
    "p1 = neg(P.and_(Q)).assume()\n",
    "p2 = neg(P).or_(neg(Q))#.assume()\n",
    "kb = [\n",
    "    p1,\n",
    "]\n",
    "target = p2\n",
    "proof = proof_search(kb, target)\n",
    "print(proof.deduced_from)\n"
   ]
  },
  {
   "cell_type": "code",
   "execution_count": 21,
   "id": "07b58a81",
   "metadata": {},
   "outputs": [
    {
     "name": "stdout",
     "output_type": "stream",
     "text": [
      "('by_cases', Or(Not(Proposition(P)), Not(Proposition(Q))), 'has inner contexts')\n"
     ]
    }
   ],
   "source": [
    "P, Q, R, S = propositions(\"P\", \"Q\", \"R\", \"S\")\n",
    "p1 = neg(P.and_(Q))#.assume()\n",
    "p2 = neg(P).or_(neg(Q)).assume()\n",
    "kb = [\n",
    "    p2,\n",
    "]\n",
    "target = p1\n",
    "proof = proof_search(kb, target)\n",
    "print(proof.deduced_from)\n"
   ]
  },
  {
   "cell_type": "code",
   "execution_count": 22,
   "id": "c88bf2dc",
   "metadata": {},
   "outputs": [
    {
     "name": "stdout",
     "output_type": "stream",
     "text": [
      "None\n"
     ]
    }
   ],
   "source": [
    "P, Q, R, S = propositions(\"P\", \"Q\", \"R\", \"S\")\n",
    "\n",
    "p1 = P.assume()\n",
    "kb = [\n",
    "    p1,\n",
    "]\n",
    "target = neg(neg(P))\n",
    "proof = proof_search(kb, target)\n",
    "print(proof.deduced_from)"
   ]
  },
  {
   "cell_type": "code",
   "execution_count": 23,
   "id": "bf1d86bd",
   "metadata": {},
   "outputs": [
    {
     "ename": "ValueError",
     "evalue": "No rule found to prove P",
     "output_type": "error",
     "traceback": [
      "\u001b[1;31m---------------------------------------------------------------------------\u001b[0m",
      "\u001b[1;31mValueError\u001b[0m                                Traceback (most recent call last)",
      "Cell \u001b[1;32mIn[23], line 11\u001b[0m\n\u001b[0;32m      7\u001b[0m kb \u001b[38;5;241m=\u001b[39m [\n\u001b[0;32m      8\u001b[0m     p1,\n\u001b[0;32m      9\u001b[0m ]\n\u001b[0;32m     10\u001b[0m target \u001b[38;5;241m=\u001b[39m P\n\u001b[1;32m---> 11\u001b[0m proof \u001b[38;5;241m=\u001b[39m \u001b[43mproof_search\u001b[49m\u001b[43m(\u001b[49m\u001b[43mkb\u001b[49m\u001b[43m,\u001b[49m\u001b[43m \u001b[49m\u001b[43mtarget\u001b[49m\u001b[43m)\u001b[49m\n\u001b[0;32m     12\u001b[0m \u001b[38;5;28mprint\u001b[39m(proof\u001b[38;5;241m.\u001b[39mdeduced_from)\n",
      "File \u001b[1;32md:\\Minerva\\courses\\CP\\pylogic\\pylogic\\proposition\\proof_search.py:22\u001b[0m, in \u001b[0;36mproof_search\u001b[1;34m(kb, target)\u001b[0m\n\u001b[0;32m     17\u001b[0m \u001b[38;5;28;01mdef\u001b[39;00m\u001b[38;5;250m \u001b[39m\u001b[38;5;21mproof_search\u001b[39m(kb: \u001b[38;5;28mlist\u001b[39m[Proposition], target: Proposition) \u001b[38;5;241m-\u001b[39m\u001b[38;5;241m>\u001b[39m Proposition:\n\u001b[0;32m     18\u001b[0m \u001b[38;5;250m    \u001b[39m\u001b[38;5;124;03m\"\"\"\u001b[39;00m\n\u001b[0;32m     19\u001b[0m \u001b[38;5;124;03m    Attempt to build an Inference proving `target` from premises in `kb`.\u001b[39;00m\n\u001b[0;32m     20\u001b[0m \u001b[38;5;124;03m    Raises ValueError if no proof is found.\u001b[39;00m\n\u001b[0;32m     21\u001b[0m \u001b[38;5;124;03m    \"\"\"\u001b[39;00m\n\u001b[1;32m---> 22\u001b[0m     \u001b[38;5;28;01mreturn\u001b[39;00m \u001b[43m_BackwardProver\u001b[49m\u001b[43m(\u001b[49m\u001b[43mkb\u001b[49m\u001b[43m)\u001b[49m\u001b[38;5;241;43m.\u001b[39;49m\u001b[43mprove\u001b[49m\u001b[43m(\u001b[49m\u001b[43mtarget\u001b[49m\u001b[43m)\u001b[49m\n",
      "File \u001b[1;32md:\\Minerva\\courses\\CP\\pylogic\\pylogic\\proposition\\proof_search.py:87\u001b[0m, in \u001b[0;36m_BackwardProver.prove\u001b[1;34m(self, goal)\u001b[0m\n\u001b[0;32m     86\u001b[0m \u001b[38;5;28;01mdef\u001b[39;00m\u001b[38;5;250m \u001b[39m\u001b[38;5;21mprove\u001b[39m(\u001b[38;5;28mself\u001b[39m, goal: Proposition) \u001b[38;5;241m-\u001b[39m\u001b[38;5;241m>\u001b[39m Proposition:\n\u001b[1;32m---> 87\u001b[0m     \u001b[38;5;28;01mreturn\u001b[39;00m \u001b[38;5;28;43mself\u001b[39;49m\u001b[38;5;241;43m.\u001b[39;49m\u001b[43m_prove\u001b[49m\u001b[43m(\u001b[49m\u001b[43mgoal\u001b[49m\u001b[43m,\u001b[49m\u001b[43m \u001b[49m\u001b[43mvisited\u001b[49m\u001b[38;5;241;43m=\u001b[39;49m\u001b[38;5;28;43mset\u001b[39;49m\u001b[43m(\u001b[49m\u001b[43m)\u001b[49m\u001b[43m,\u001b[49m\u001b[43m \u001b[49m\u001b[43mno_recurse_on\u001b[49m\u001b[38;5;241;43m=\u001b[39;49m\u001b[38;5;28;43mset\u001b[39;49m\u001b[43m(\u001b[49m\u001b[43m)\u001b[49m\u001b[43m)\u001b[49m\n",
      "File \u001b[1;32md:\\Minerva\\courses\\CP\\pylogic\\pylogic\\proposition\\proof_search.py:282\u001b[0m, in \u001b[0;36m_BackwardProver._prove\u001b[1;34m(self, goal, visited, no_recurse_on)\u001b[0m\n\u001b[0;32m    280\u001b[0m             \u001b[38;5;28;01mcontinue\u001b[39;00m\n\u001b[0;32m    281\u001b[0m \u001b[38;5;66;03m# If we get here, no rule applies\u001b[39;00m\n\u001b[1;32m--> 282\u001b[0m \u001b[38;5;28;01mraise\u001b[39;00m \u001b[38;5;167;01mValueError\u001b[39;00m(\u001b[38;5;124mf\u001b[39m\u001b[38;5;124m\"\u001b[39m\u001b[38;5;124mNo rule found to prove \u001b[39m\u001b[38;5;132;01m{\u001b[39;00mgoal\u001b[38;5;132;01m}\u001b[39;00m\u001b[38;5;124m\"\u001b[39m)\n",
      "\u001b[1;31mValueError\u001b[0m: No rule found to prove P"
     ]
    }
   ],
   "source": [
    "from pylogic.enviroment_settings.settings import settings\n",
    "\n",
    "settings[\"USE_CLASSICAL_LOGIC\"] = False\n",
    "P, Q, R, S = propositions(\"P\", \"Q\", \"R\", \"S\")\n",
    "\n",
    "p1 = neg(neg(P)).assume()\n",
    "kb = [\n",
    "    p1,\n",
    "]\n",
    "target = P\n",
    "proof = proof_search(kb, target)\n",
    "print(proof.deduced_from)"
   ]
  },
  {
   "cell_type": "code",
   "execution_count": null,
   "id": "237e5732",
   "metadata": {},
   "outputs": [],
   "source": []
  }
 ],
 "metadata": {
  "kernelspec": {
   "display_name": "Python 3",
   "language": "python",
   "name": "python3"
  },
  "language_info": {
   "codemirror_mode": {
    "name": "ipython",
    "version": 3
   },
   "file_extension": ".py",
   "mimetype": "text/x-python",
   "name": "python",
   "nbconvert_exporter": "python",
   "pygments_lexer": "ipython3",
   "version": "3.11.4"
  }
 },
 "nbformat": 4,
 "nbformat_minor": 5
}
