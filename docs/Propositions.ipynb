{
 "cells": [
  {
   "cell_type": "markdown",
   "metadata": {},
   "source": [
    "# Propositions"
   ]
  },
  {
   "cell_type": "markdown",
   "metadata": {},
   "source": [
    "A proposition is a mathematical statement. In Pylogic, propositions are instances of the `Proposition` class.  A proposition can either be proven, which means it is true, or not proven.\n",
    "\n",
    "## Proven vs. Not Proven\n",
    "\n",
    "In propositional logic, propositions can have a truth value of either true or false. However, things are a bit different in Pylogic.\n",
    "\n",
    "When writing mathematical proofs, we often assume statements and deduce new statements. But we can also make use of statements that we have not assumed in certain contexts and we don't intend to prove. And, to prove that something is false, we typically prove that its negation is true.\n",
    "\n",
    "For instance, consider four propositions $P$, $Q$, $R$ and $S$. Let's say we start with the premises\n",
    "\n",
    "1. $P$\n",
    "2. $P \\implies (Q \\lor R)$\n",
    "3. $(Q \\lor R) \\implies \\neg S$"
   ]
  },
  {
   "cell_type": "markdown",
   "metadata": {},
   "source": [
    "We have made use of $Q$ in our premises, to construct other statements, but $Q$ is not assumed, and we cannot even prove $Q$ from the premises. Therefore, although $Q$ can be true or false, we do not know its truth value. We say that $Q$ is not proven.\n",
    "\n",
    "What if we are asked to \"prove that $S$ is false\"? To use inference rules for that, we interpret that as \"prove that $\\neg S$ is true\". So, we can use the premises to prove that $\\neg S$ is true. By a chain of reasoning, it is possible to prove that $\\neg S$ is true.\n",
    "\n",
    "In Pylogic, all propostions are either **proven** or **not proven**. When you create a proposition initially, it is not proven, unless you explicitly assume it.\n",
    "\n",
    "A negation is still a proposition, so to assume \"$P$ is false\", you assume $\\neg P$. Then $\\neg P$ is proven, and $P$ is not proven (unless you also assumed $P$).\n",
    "\n",
    "In summary, a proposition in Pylogic is true if it is proven (either by assumption or by inference), while if it is not proven, we do not know its truth value.\n",
    "If its negation is proven, then we can informally say the original proposition is false.\n"
   ]
  },
  {
   "cell_type": "markdown",
   "metadata": {},
   "source": [
    "## Creating Propositions\n",
    "\n",
    "You can create a proposition by calling the `proposition` function with a string as the name of the proposition."
   ]
  },
  {
   "cell_type": "code",
   "execution_count": 2,
   "metadata": {},
   "outputs": [],
   "source": [
    "from pylogic import *"
   ]
  },
  {
   "cell_type": "code",
   "execution_count": 3,
   "metadata": {},
   "outputs": [],
   "source": [
    "P = proposition(\"P\") # create an atomic proposition P"
   ]
  },
  {
   "cell_type": "markdown",
   "metadata": {},
   "source": [
    "To check if a proposition is proven, you can use the `is_proven` attribute."
   ]
  },
  {
   "cell_type": "code",
   "execution_count": 4,
   "metadata": {},
   "outputs": [
    {
     "data": {
      "text/plain": [
       "False"
      ]
     },
     "execution_count": 4,
     "metadata": {},
     "output_type": "execute_result"
    }
   ],
   "source": [
    "P = proposition(\"P\")\n",
    "P.is_proven # False"
   ]
  },
  {
   "cell_type": "markdown",
   "metadata": {},
   "source": [
    "Recall that `is_proven` simply tells you if the proposition is proven, not if it is true. `False` means we do not know its truth value.\n"
   ]
  },
  {
   "cell_type": "markdown",
   "metadata": {},
   "source": [
    "We can create compound propositions using methods defined on propositions. For instance, to create the proposition $P \\land Q$, use the `and_` method:"
   ]
  },
  {
   "cell_type": "code",
   "execution_count": 5,
   "metadata": {},
   "outputs": [
    {
     "data": {
      "text/latex": [
       "$$\\text{P}\\wedge \\text{Q}$$"
      ],
      "text/plain": [
       "And(Proposition(P), Proposition(Q))"
      ]
     },
     "metadata": {},
     "output_type": "display_data"
    }
   ],
   "source": [
    "P = proposition(\"P\")\n",
    "Q = proposition(\"Q\")\n",
    "P_and_Q = P.and_(Q)\n",
    "display(P_and_Q)"
   ]
  },
  {
   "cell_type": "markdown",
   "metadata": {},
   "source": [
    "In the example above, $P$ is not proven and neither is $Q$. Therefore, $P \\land Q$ is not proven. No inference has been made yet. We have only created a new proposition."
   ]
  },
  {
   "cell_type": "code",
   "execution_count": 6,
   "metadata": {},
   "outputs": [
    {
     "data": {
      "text/plain": [
       "False"
      ]
     },
     "execution_count": 6,
     "metadata": {},
     "output_type": "execute_result"
    }
   ],
   "source": [
    "P = proposition(\"P\")\n",
    "Q = proposition(\"Q\")\n",
    "P_and_Q = P.and_(Q)\n",
    "P_and_Q.is_proven # False"
   ]
  },
  {
   "cell_type": "markdown",
   "metadata": {},
   "source": [
    "An easy way to create multiple propositions is to use the `propositions` function. This function can take strings representing the names of the propositions. Below, we create propositions $P$, $Q$ and $R$, as well as the compound proposition $P \\land Q \\land R$."
   ]
  },
  {
   "cell_type": "code",
   "execution_count": 7,
   "metadata": {},
   "outputs": [
    {
     "data": {
      "text/latex": [
       "$$\\text{P}\\wedge \\text{Q}\\wedge \\text{R}$$"
      ],
      "text/plain": [
       "And(Proposition(P), Proposition(Q), Proposition(R))"
      ]
     },
     "metadata": {},
     "output_type": "display_data"
    }
   ],
   "source": [
    "P, Q, R = propositions(\"P\", \"Q\", \"R\")\n",
    "P_and_Q_and_R = P.and_(Q, R)\n",
    "display(P_and_Q_and_R)"
   ]
  },
  {
   "cell_type": "markdown",
   "metadata": {},
   "source": [
    "Like expressions, propositions only compare equal if they are structurally equal and all the atomic propositions are equal. Atomic propositions are equal if their names and arguments are equal."
   ]
  },
  {
   "cell_type": "markdown",
   "metadata": {},
   "source": [
    "## Arguments\n",
    "\n",
    "Propositions can have arguments. These arguments **must** be Pylogic terms, not strings for example.\n",
    "\n",
    "Strictly speaking, these are formulas in first-order logic, but we can think of them as propositions with arguments. In first-order logic, $P(x)$ is a formula and the $P$ in $P(x)$ is a predicate. In Pylogic, $P(x)$ is an instance of `Proposition` with the name \"P\" and the argument `x`."
   ]
  },
  {
   "cell_type": "markdown",
   "metadata": {},
   "source": [
    "*Aside: I am considering renaming the `Proposition` class to `Statement` to aid better understanding of what it is.*"
   ]
  },
  {
   "cell_type": "markdown",
   "metadata": {},
   "source": [
    "You can create one proposition with arguments using the `proposition` function by passing terms after the proposition name."
   ]
  },
  {
   "cell_type": "code",
   "execution_count": 8,
   "metadata": {},
   "outputs": [
    {
     "data": {
      "text/latex": [
       "$$\\text{P}\\left(x, y\\right)$$"
      ],
      "text/plain": [
       "Proposition(P, x, y)"
      ]
     },
     "metadata": {},
     "output_type": "display_data"
    }
   ],
   "source": [
    "x = variables(\"x\")\n",
    "y = constants(\"y\")\n",
    "Pxy = proposition(\"P\", x, y)\n",
    "display(Pxy)\n"
   ]
  },
  {
   "cell_type": "markdown",
   "metadata": {},
   "source": [
    "You can also use the `propositions` function to create multiple propositions with the same arguments. Pass a tuple as a keyword argument `args` after the proposition names."
   ]
  },
  {
   "cell_type": "code",
   "execution_count": 9,
   "metadata": {},
   "outputs": [
    {
     "data": {
      "text/latex": [
       "$$\\text{P}\\left(x, y\\right)$$"
      ],
      "text/plain": [
       "Proposition(P, x, y)"
      ]
     },
     "metadata": {},
     "output_type": "display_data"
    },
    {
     "data": {
      "text/latex": [
       "$$\\text{Q}\\left(x, y\\right)$$"
      ],
      "text/plain": [
       "Proposition(Q, x, y)"
      ]
     },
     "metadata": {},
     "output_type": "display_data"
    },
    {
     "data": {
      "text/latex": [
       "$$\\text{R}\\left(x, y\\right)$$"
      ],
      "text/plain": [
       "Proposition(R, x, y)"
      ]
     },
     "metadata": {},
     "output_type": "display_data"
    }
   ],
   "source": [
    "x = variables(\"x\")\n",
    "y = constants(\"y\")\n",
    "Pxy, Qxy, Rxy = propositions(\"P\", \"Q\", \"R\", args=(x, y))\n",
    "display(Pxy)\n",
    "display(Qxy)\n",
    "display(Rxy)"
   ]
  },
  {
   "cell_type": "markdown",
   "metadata": {},
   "source": [
    "[Previous: Expressions](Expressions.ipynb)\n",
    "\n",
    "[Next: Compound Propositions](Compound%20Propositions.ipynb)\n",
    "\n",
    "\n",
    "## Contents\n",
    "\n",
    "1. [Introduction](Introduction.ipynb)\n",
    "2. [Terms](Terms.ipynb)\n",
    "3. [Expressions](Expressions.ipynb)\n",
    "4. [Propositions](#)\n",
    "5. [Compound Propositions](Compound%20Propositions.ipynb)\n",
    "6. [Relations](Relations.ipynb)\n",
    "7. [Quantifiers](Quantifiers.ipynb)\n",
    "8. [Assumptions](Assumptions.ipynb)\n",
    "9. [Inference](Inference.ipynb)"
   ]
  },
  {
   "cell_type": "code",
   "execution_count": null,
   "metadata": {},
   "outputs": [],
   "source": []
  }
 ],
 "metadata": {
  "kernelspec": {
   "display_name": "Python 3",
   "language": "python",
   "name": "python3"
  },
  "language_info": {
   "codemirror_mode": {
    "name": "ipython",
    "version": 3
   },
   "file_extension": ".py",
   "mimetype": "text/x-python",
   "name": "python",
   "nbconvert_exporter": "python",
   "pygments_lexer": "ipython3",
   "version": "3.11.4"
  }
 },
 "nbformat": 4,
 "nbformat_minor": 2
}
