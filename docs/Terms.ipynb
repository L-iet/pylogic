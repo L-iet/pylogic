{
 "cells": [
  {
   "cell_type": "markdown",
   "metadata": {},
   "source": [
    "# Terms\n",
    "\n",
    "Terms are mathematical objects. They can be numbers, variables, functions, sets, etc. In Pylogic, almost anything that is not a Proposition is a Term. We will discuss Propositions in the next section.\n",
    "\n",
    "Some of the basic terms include variables, constants and sets. Variables represent objects that can change, or stand in for any other object. Constants represent values that do not change. Sets are specific constants that are of type `Set`. Sets represents collections of objects.\n",
    "\n",
    "We can create one variable with the `Variable` class constructor, or multiple variables if needed using the `variables` function. We first import Pylogic at the top of the notebook."
   ]
  },
  {
   "cell_type": "code",
   "execution_count": 1,
   "metadata": {},
   "outputs": [],
   "source": [
    "from pylogic import *"
   ]
  },
  {
   "cell_type": "code",
   "execution_count": 2,
   "metadata": {},
   "outputs": [
    {
     "data": {
      "text/latex": [
       "$$x$$"
      ],
      "text/plain": [
       "Variable(x, deps=())"
      ]
     },
     "execution_count": 2,
     "metadata": {},
     "output_type": "execute_result"
    }
   ],
   "source": [
    "x = variables('x')\n",
    "x"
   ]
  },
  {
   "cell_type": "markdown",
   "metadata": {},
   "source": [
    "The name of the variable above is `\"x\"`. We can create multiple variables at once by passing multiple strings to the function."
   ]
  },
  {
   "cell_type": "code",
   "execution_count": 1,
   "metadata": {},
   "outputs": [
    {
     "ename": "NameError",
     "evalue": "name 'variables' is not defined",
     "output_type": "error",
     "traceback": [
      "\u001b[1;31m---------------------------------------------------------------------------\u001b[0m",
      "\u001b[1;31mNameError\u001b[0m                                 Traceback (most recent call last)",
      "Cell \u001b[1;32mIn[1], line 1\u001b[0m\n\u001b[1;32m----> 1\u001b[0m x,y,z \u001b[38;5;241m=\u001b[39m \u001b[43mvariables\u001b[49m(\u001b[38;5;124m'\u001b[39m\u001b[38;5;124mx\u001b[39m\u001b[38;5;124m'\u001b[39m, \u001b[38;5;124m'\u001b[39m\u001b[38;5;124my\u001b[39m\u001b[38;5;124m'\u001b[39m, \u001b[38;5;124m'\u001b[39m\u001b[38;5;124mz\u001b[39m\u001b[38;5;124m'\u001b[39m)\n",
      "\u001b[1;31mNameError\u001b[0m: name 'variables' is not defined"
     ]
    }
   ],
   "source": [
    "x,y,z = variables('x', 'y', 'z')"
   ]
  },
  {
   "cell_type": "markdown",
   "metadata": {},
   "source": [
    "Variables can have spaces in their names. This is in contrast to SymPy, where one string with spaces can be passed to the `symbols` function. In Pylogic, passing one string would result in **one** variable with that name. Trying to assign to multiple variables will create an error."
   ]
  },
  {
   "cell_type": "code",
   "execution_count": 5,
   "metadata": {},
   "outputs": [
    {
     "ename": "ValueError",
     "evalue": "too many values to unpack (expected 3)",
     "output_type": "error",
     "traceback": [
      "\u001b[1;31m---------------------------------------------------------------------------\u001b[0m",
      "\u001b[1;31mValueError\u001b[0m                                Traceback (most recent call last)",
      "Cell \u001b[1;32mIn[5], line 1\u001b[0m\n\u001b[1;32m----> 1\u001b[0m x,y,z \u001b[38;5;241m=\u001b[39m variables(\u001b[38;5;124m'\u001b[39m\u001b[38;5;124mx y z\u001b[39m\u001b[38;5;124m'\u001b[39m)\n",
      "\u001b[1;31mValueError\u001b[0m: too many values to unpack (expected 3)"
     ]
    }
   ],
   "source": [
    "x,y,z = variables('x y z')"
   ]
  },
  {
   "cell_type": "markdown",
   "metadata": {},
   "source": [
    "This is useful for type hinting purposes.\n",
    "\n",
    "Spaces don't directly show up in LaTeX representations."
   ]
  },
  {
   "cell_type": "code",
   "execution_count": 6,
   "metadata": {},
   "outputs": [
    {
     "data": {
      "text/latex": [
       "$$x y z$$"
      ],
      "text/plain": [
       "Variable(x y z, deps=())"
      ]
     },
     "execution_count": 6,
     "metadata": {},
     "output_type": "execute_result"
    }
   ],
   "source": [
    "xyz = variables('x y z')\n",
    "xyz"
   ]
  },
  {
   "cell_type": "markdown",
   "metadata": {},
   "source": [
    "We can create constants, sets and sequences in similar ways, using the `constants`, `sets` and `sequences` functions respectively.\n",
    "\n",
    "## Assumptions (Beta)\n",
    "Keyword arguments can be passed to these functions, to specify assumptions on the object being created. For example, we can specify that a constant is a positive integer:"
   ]
  },
  {
   "cell_type": "code",
   "execution_count": 8,
   "metadata": {},
   "outputs": [
    {
     "data": {
      "text/plain": [
       "True"
      ]
     },
     "execution_count": 8,
     "metadata": {},
     "output_type": "execute_result"
    }
   ],
   "source": [
    "w = constants('w', integer=True, positive=True)\n",
    "w.is_positive"
   ]
  },
  {
   "cell_type": "markdown",
   "metadata": {},
   "source": [
    "For each valid keyword assumption passed, we can check a corresponding attribute of the object. For example, `constants('w', positive=True)` results in `w.is_positive` being `True`.\n",
    "\n",
    "The attributes are obtained by prefixing `is_` to the keyword passed.\n",
    "\n",
    "Sets have attributes like  `is_empty` to check if the set is empty, and `is_finite` to check if the set is finite.\n",
    "\n",
    "However, arguments like `real`, `integer`, `positive`, etc represent assumptions on the elements of the set, although they are accessed on the set itself. For example, `sets('A', real=True)` results in `A.is_real` being `True`, but this is interpreted as \"all elements of `A` are real numbers\"."
   ]
  },
  {
   "cell_type": "code",
   "execution_count": 10,
   "metadata": {},
   "outputs": [
    {
     "name": "stdout",
     "output_type": "stream",
     "text": [
      "True\n",
      "True\n"
     ]
    }
   ],
   "source": [
    "S = sets(\"S\", finite=True, real=True)\n",
    "print(S.is_finite) # True\n",
    "print(S.is_real) # True\n",
    "# S represents a finite set of real numbers"
   ]
  },
  {
   "cell_type": "markdown",
   "metadata": {},
   "source": [
    "The list of valid keyword assumptions for Symbols, Constants and Sets are:\n",
    "\n",
    "| Keyword | Description (when True) |\n",
    "| --- | --- |\n",
    "| `real` | The object is a real number or contains only real numbers |\n",
    "| `rational` | The object is a rational number or contains only rational numbers |\n",
    "| `integer` | The object is an integer or contains only integers |\n",
    "| `natural` | The object is a natural number or contains only natural numbers |\n",
    "| `nonnegative` | The object is nonnegative or contains only nonnegative numbers |\n",
    "| `nonpositive` | The object is nonpositive or contains only nonpositive numbers |\n",
    "| `positive` | The object is positive or contains only positive numbers |\n",
    "| `negative` | The object is negative or contains only negative numbers |\n",
    "| `even` | The object is even or contains only even numbers |\n",
    "| `zero` | The object is zero or contains only zero |\n",
    "\n",
    "For sets, the following additional assumptions are valid:\n",
    "| Keyword | Description (when True) |\n",
    "| --- | --- |\n",
    "| `finite` | The set is finite |\n",
    "| `empty` | The set is empty |\n",
    "\n",
    "For sequences, the following additional assumptions are valid:\n",
    "| Keyword | Description (when True) |\n",
    "| --- | --- |\n",
    "| `finite` | The sequence is finite |\n",
    "| `set` | The sequence is a sequence of sets |\n",
    "\n",
    "A value of `None` for any of the assumptions means that the assumption is not made, and we have no information about it. A value of `False` means that the assumption is explicitly false, but it may not give much information unless some other assumptions are made. For instance, a value with `nonnegative=False` says that it is not a nonnegative real number. But if it is not explicitly a real number, `is_negative` will not be `True`."
   ]
  },
  {
   "cell_type": "code",
   "execution_count": 11,
   "metadata": {},
   "outputs": [
    {
     "name": "stdout",
     "output_type": "stream",
     "text": [
      "False\n",
      "None\n"
     ]
    }
   ],
   "source": [
    "w = constants('w', nonnegative=False)\n",
    "print(w.is_nonnegative)\n",
    "print(w.is_negative)"
   ]
  },
  {
   "cell_type": "code",
   "execution_count": 13,
   "metadata": {},
   "outputs": [
    {
     "name": "stdout",
     "output_type": "stream",
     "text": [
      "False\n",
      "True\n"
     ]
    }
   ],
   "source": [
    "w = constants('w', nonnegative=False, real=True)\n",
    "print(w.is_nonnegative)\n",
    "print(w.is_negative)"
   ]
  },
  {
   "cell_type": "markdown",
   "metadata": {},
   "source": [
    "It is best to explicitly set all assumptions that are being made, to avoid any confusion."
   ]
  },
  {
   "cell_type": "markdown",
   "metadata": {},
   "source": [
    "Expressions are terms that have sub-parts which may also be terms. They are discussed in the next section."
   ]
  },
  {
   "cell_type": "markdown",
   "metadata": {},
   "source": [
    "[Previous: Introduction](Introduction.ipynb)\n",
    "\n",
    "[Next: Expressions](Expressions.ipynb)\n",
    "\n",
    "\n",
    "## Contents\n",
    "\n",
    "1. [Introduction](Introduction.ipynb)\n",
    "2. [Terms](#)\n",
    "3. [Expressions](Expressions.ipynb)\n",
    "4. [Propositions](Propositions.ipynb)\n",
    "5. [Compound Propositions](Compound%20Propositions.ipynb)\n",
    "6. [Relations](Relations.ipynb)\n",
    "7. [Quantifiers](Quantifiers.ipynb)\n",
    "8. [Assumptions](Assumptions.ipynb)\n",
    "9. [Inference](Inference.ipynb)"
   ]
  },
  {
   "cell_type": "code",
   "execution_count": null,
   "metadata": {},
   "outputs": [],
   "source": []
  }
 ],
 "metadata": {
  "kernelspec": {
   "display_name": "Python 3",
   "language": "python",
   "name": "python3"
  },
  "language_info": {
   "codemirror_mode": {
    "name": "ipython",
    "version": 3
   },
   "file_extension": ".py",
   "mimetype": "text/x-python",
   "name": "python",
   "nbconvert_exporter": "python",
   "pygments_lexer": "ipython3",
   "version": "3.11.4"
  }
 },
 "nbformat": 4,
 "nbformat_minor": 2
}
