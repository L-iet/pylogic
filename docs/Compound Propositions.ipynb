{
 "cells": [
  {
   "cell_type": "markdown",
   "metadata": {},
   "source": [
    "# Compound Propositions"
   ]
  },
  {
   "cell_type": "markdown",
   "metadata": {},
   "source": [
    "Compound propositions are made up of simpler propositions. Atomic propositions are the simplest propositions, and they can be combined using logical connectives to form compound propositions. In this notebook, we will discuss the following logical connectives:\n",
    "\n",
    "1. Conjunction\n",
    "2. Disjunction\n",
    "3. Exclusive Or\n",
    "4. Negation\n",
    "5. Implication\n",
    "6. Bi-conditional"
   ]
  },
  {
   "cell_type": "markdown",
   "metadata": {},
   "source": [
    "## Conjunction\n",
    "To create a conjunction, use the `and_` method. Arguments passed to the method are added in order to the conjunction."
   ]
  },
  {
   "cell_type": "code",
   "execution_count": 1,
   "metadata": {},
   "outputs": [],
   "source": [
    "from pylogic import *"
   ]
  },
  {
   "cell_type": "code",
   "execution_count": 2,
   "metadata": {},
   "outputs": [
    {
     "data": {
      "text/latex": [
       "$$\\text{P}\\wedge \\text{Q}\\wedge \\text{R}$$"
      ],
      "text/plain": [
       "And(Proposition(P), Proposition(Q), Proposition(R))"
      ]
     },
     "metadata": {},
     "output_type": "display_data"
    }
   ],
   "source": [
    "P, Q, R = propositions(\"P\", \"Q\", \"R\")\n",
    "P_and_Q_and_R = P.and_(Q, R)\n",
    "display(P_and_Q_and_R)"
   ]
  },
  {
   "cell_type": "markdown",
   "metadata": {},
   "source": [
    "## Disjunction and Exclusive Or\n",
    "\n",
    "Disjunctions are created using the `or_` method, and Exclusive-Or statements are created using the `xor` method."
   ]
  },
  {
   "cell_type": "code",
   "execution_count": 3,
   "metadata": {},
   "outputs": [
    {
     "data": {
      "text/latex": [
       "$$\\text{P}\\vee \\text{Q}\\vee \\text{R}$$"
      ],
      "text/plain": [
       "Or(Proposition(P), Proposition(Q), Proposition(R))"
      ]
     },
     "execution_count": 3,
     "metadata": {},
     "output_type": "execute_result"
    }
   ],
   "source": [
    "P.or_(Q, R)"
   ]
  },
  {
   "cell_type": "code",
   "execution_count": 4,
   "metadata": {},
   "outputs": [
    {
     "data": {
      "text/latex": [
       "$$\\text{P}\\oplus \\text{Q}\\oplus \\text{R}$$"
      ],
      "text/plain": [
       "ExOr(Proposition(P), Proposition(Q), Proposition(R))"
      ]
     },
     "execution_count": 4,
     "metadata": {},
     "output_type": "execute_result"
    }
   ],
   "source": [
    "P.xor(Q, R)"
   ]
  },
  {
   "cell_type": "markdown",
   "metadata": {},
   "source": [
    "### Note about Exclusive-Or\n",
    "In Pylogic, an Exclusive-Or statement is true if and only if **exactly one** of the disjuncts is true (and all others are false). This is different from the definition of Exclusive-Or in some other contexts, where it is true if and only if *an odd number* of the disjuncts is true."
   ]
  },
  {
   "cell_type": "markdown",
   "metadata": {},
   "source": [
    "## Negation\n",
    "To create a negation, use the `neg` function. The argument passed to the function is negated. The `not_` function is an alias for `neg`."
   ]
  },
  {
   "cell_type": "code",
   "execution_count": 5,
   "metadata": {},
   "outputs": [
    {
     "data": {
      "text/latex": [
       "$$\\neg \\text{P}$$"
      ],
      "text/plain": [
       "Not(Proposition(P))"
      ]
     },
     "execution_count": 5,
     "metadata": {},
     "output_type": "execute_result"
    }
   ],
   "source": [
    "neg(P)"
   ]
  },
  {
   "cell_type": "markdown",
   "metadata": {},
   "source": [
    "## Implication\n",
    "\n",
    "Implications are created using the `implies` method. The first argument is the antecedent, and the second argument is the consequent."
   ]
  },
  {
   "cell_type": "code",
   "execution_count": 6,
   "metadata": {},
   "outputs": [
    {
     "data": {
      "text/latex": [
       "$$\\text{P} \\rightarrow \\text{Q}$$"
      ],
      "text/plain": [
       "Implies(Proposition(P), Proposition(Q))"
      ]
     },
     "execution_count": 6,
     "metadata": {},
     "output_type": "execute_result"
    }
   ],
   "source": [
    "P.implies(Q)"
   ]
  },
  {
   "cell_type": "markdown",
   "metadata": {},
   "source": [
    "## Bi-conditional\n",
    "Bi-conditionals are created using the `iff` method."
   ]
  },
  {
   "cell_type": "code",
   "execution_count": 7,
   "metadata": {},
   "outputs": [
    {
     "data": {
      "text/latex": [
       "$$\\text{P} \\leftrightarrow \\text{Q}$$"
      ],
      "text/plain": [
       "Iff(Proposition(P), Proposition(Q))"
      ]
     },
     "execution_count": 7,
     "metadata": {},
     "output_type": "execute_result"
    }
   ],
   "source": [
    "P.iff(Q)"
   ]
  },
  {
   "cell_type": "markdown",
   "metadata": {},
   "source": [
    "All propositions, atomic or compound, are instances of the `Proposition` class."
   ]
  },
  {
   "cell_type": "code",
   "execution_count": 8,
   "metadata": {},
   "outputs": [
    {
     "data": {
      "text/plain": [
       "True"
      ]
     },
     "execution_count": 8,
     "metadata": {},
     "output_type": "execute_result"
    }
   ],
   "source": [
    "isinstance(P.and_(Q), Proposition)"
   ]
  },
  {
   "cell_type": "markdown",
   "metadata": {},
   "source": [
    "## Order of Operations\n",
    "\n",
    "How do we know how to read something like $P \\land Q \\lor R$ ? In Pylogic, the order of operations is as follows:\n",
    "\n",
    "1. Negation (`Not`)\n",
    "2. Exclusive Or (`ExOr`)\n",
    "3. Conjunction (`And`)\n",
    "4. Disjunction (`Or`)\n",
    "5. Implication (`Implies`)\n",
    "6. Bi-conditional (`Iff`)\n",
    "7. Quantifiers (`Forall`, `Exists`, etc)\n",
    "\n",
    "The connectives at the top of the list bind more tightly than the connectives at the bottom. For example, $P \\land Q \\lor R$ is read as $(P \\land Q) \\lor R$.\n",
    "\n",
    "$\\neg P \\lor Q \\iff R \\implies S$ is read as $((\\neg P) \\lor Q) \\iff (R \\implies S)$.\n",
    "\n",
    "## Method chaining in Python\n",
    "\n",
    "When using method chaining in Python, the order of operations is from left to right. For example, `P.and_(Q).or_(R)` is read as $(P \\land Q) \\lor R$."
   ]
  },
  {
   "cell_type": "code",
   "execution_count": 9,
   "metadata": {},
   "outputs": [
    {
     "data": {
      "text/latex": [
       "$$\\neg \\text{P}\\vee \\text{Q} \\leftrightarrow \\text{R} \\rightarrow \\text{S}$$"
      ],
      "text/plain": [
       "Iff(Or(Not(Proposition(P)), Proposition(Q)), Implies(Proposition(R), Proposition(S)))"
      ]
     },
     "execution_count": 9,
     "metadata": {},
     "output_type": "execute_result"
    }
   ],
   "source": [
    "P, Q, R, S = propositions(\"P\", \"Q\", \"R\", \"S\")\n",
    "prop = neg(P).or_(Q).iff(R.implies(S))\n",
    "prop"
   ]
  },
  {
   "cell_type": "markdown",
   "metadata": {},
   "source": [
    "If you are confused about the order of operations, you can choose to show all parentheses explicitly. This is especially useful when you are first learning how to use Pylogic.\n",
    "\n",
    "Use the `settings` dictionary which has some global settings for Pylogic."
   ]
  },
  {
   "cell_type": "code",
   "execution_count": 10,
   "metadata": {},
   "outputs": [
    {
     "data": {
      "text/latex": [
       "$$\\left(\\left(\\neg \\text{P}\\right)\\vee \\text{Q}\\right) \\leftrightarrow \\left(\\text{R} \\rightarrow \\text{S}\\right)$$"
      ],
      "text/plain": [
       "Iff(Or(Not(Proposition(P)), Proposition(Q)), Implies(Proposition(R), Proposition(S)))"
      ]
     },
     "execution_count": 10,
     "metadata": {},
     "output_type": "execute_result"
    }
   ],
   "source": [
    "settings[\"SHOW_ALL_PARENTHESES\"] = True\n",
    "P, Q, R, S = propositions(\"P\", \"Q\", \"R\", \"S\")\n",
    "prop = neg(P).or_(Q).iff(R.implies(S))\n",
    "prop"
   ]
  },
  {
   "cell_type": "markdown",
   "metadata": {},
   "source": [
    "In the next section, we discuss quantified propositions and relations."
   ]
  },
  {
   "cell_type": "markdown",
   "metadata": {},
   "source": [
    "[Previous: Propositions](Propositions.ipynb)\n",
    "\n",
    "[Next: Relations](Relations.ipynb)\n",
    "\n",
    "\n",
    "## Contents\n",
    "\n",
    "1. [Introduction](Introduction.ipynb)\n",
    "2. [Terms](Terms.ipynb)\n",
    "3. [Expressions](Expressions.ipynb)\n",
    "4. [Propositions](Propositions.ipynb)\n",
    "5. [Compound Propositions](#)\n",
    "6. [Relations](Relations.ipynb)\n",
    "7. [Quantifiers](Quantifiers.ipynb)\n",
    "8. [Assumptions](Assumptions.ipynb)\n",
    "9. [Inference](Inference.ipynb)"
   ]
  },
  {
   "cell_type": "code",
   "execution_count": null,
   "metadata": {},
   "outputs": [],
   "source": []
  }
 ],
 "metadata": {
  "kernelspec": {
   "display_name": "Python 3",
   "language": "python",
   "name": "python3"
  },
  "language_info": {
   "codemirror_mode": {
    "name": "ipython",
    "version": 3
   },
   "file_extension": ".py",
   "mimetype": "text/x-python",
   "name": "python",
   "nbconvert_exporter": "python",
   "pygments_lexer": "ipython3",
   "version": "3.11.4"
  }
 },
 "nbformat": 4,
 "nbformat_minor": 2
}
