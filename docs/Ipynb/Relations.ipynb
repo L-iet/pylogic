{
 "cells": [
  {
   "cell_type": "markdown",
   "metadata": {},
   "source": [
    "# Relations"
   ]
  },
  {
   "cell_type": "markdown",
   "metadata": {},
   "source": [
    "A relation in mathematics is a statement about at least two objects. These are akin to formulas in first-order logic with multiple arguments. Technically, one can have a relation about one object, but this can be thought of as a \"property\" of that object.\n",
    "\n",
    "Some propositions in Pylogic are instances of the `Relation` class. The ones covered in this notebook (subclasses of `Relation`) are:\n",
    "\n",
    "1. `Equals`\n",
    "2. `LessThan`\n",
    "3. `GreaterThan`\n",
    "4. `LessOrEqual`\n",
    "5. `GreaterOrEqual`\n",
    "6. `IsContainedIn`\n",
    "7. `IsSubsetOf`"
   ]
  },
  {
   "cell_type": "markdown",
   "metadata": {},
   "source": [
    "## Equals\n",
    "\n",
    "This represents equality between two objects. You can create an instance of `Equals` using the `equals` method, or the class constructor."
   ]
  },
  {
   "cell_type": "code",
   "execution_count": 1,
   "metadata": {},
   "outputs": [],
   "source": [
    "from pylogic import *"
   ]
  },
  {
   "cell_type": "code",
   "execution_count": 2,
   "metadata": {},
   "outputs": [],
   "source": [
    "x, y, z = constants(\"x\", \"y\", \"z\")"
   ]
  },
  {
   "cell_type": "code",
   "execution_count": 3,
   "metadata": {},
   "outputs": [
    {
     "data": {
      "text/latex": [
       "$$x = y$$"
      ],
      "text/plain": [
       "Equals(x, y)"
      ]
     },
     "execution_count": 3,
     "metadata": {},
     "output_type": "execute_result"
    }
   ],
   "source": [
    "x.equals(y)"
   ]
  },
  {
   "cell_type": "code",
   "execution_count": 4,
   "metadata": {},
   "outputs": [
    {
     "data": {
      "text/latex": [
       "$$x = y$$"
      ],
      "text/plain": [
       "Equals(x, y)"
      ]
     },
     "execution_count": 4,
     "metadata": {},
     "output_type": "execute_result"
    }
   ],
   "source": [
    "Equals(x, y)"
   ]
  },
  {
   "cell_type": "markdown",
   "metadata": {},
   "source": [
    "Note that this is a proposition that says \"`x` is equal to `y`\". It does not automatically make `x` equal to `y` (recall that propositions are not automatically true when created).\n",
    "\n",
    "### Note about equality\n",
    "\n",
    "The `Equals` class represents a statement that the two objects are equal. This is different from ***checking*** for equality between two objects. The `==` operator in Python checks for equality, while the `equals` method in Pylogic creates a proposition that the two objects are equal. The `==` operator always returns a Python boolean, while the `equals` method returns a Pylogic proposition."
   ]
  },
  {
   "cell_type": "code",
   "execution_count": 5,
   "metadata": {},
   "outputs": [
    {
     "data": {
      "text/plain": [
       "False"
      ]
     },
     "execution_count": 5,
     "metadata": {},
     "output_type": "execute_result"
    }
   ],
   "source": [
    "x == y"
   ]
  },
  {
   "cell_type": "markdown",
   "metadata": {},
   "source": [
    "Even if we assumed the proposition \"`x` is equal to `y`\", `x` and `y` are still structurally different and `x == y` would still return `False`."
   ]
  },
  {
   "cell_type": "markdown",
   "metadata": {},
   "source": [
    "## LessThan\n",
    "\n",
    "This represents the statement that one object is less than another. You can create an instance of `LessThan` using the class constructor."
   ]
  },
  {
   "cell_type": "code",
   "execution_count": 6,
   "metadata": {},
   "outputs": [
    {
     "data": {
      "text/latex": [
       "$$x < y$$"
      ],
      "text/plain": [
       "LessThan(x, y)"
      ]
     },
     "execution_count": 6,
     "metadata": {},
     "output_type": "execute_result"
    }
   ],
   "source": [
    "LessThan(x, y)"
   ]
  },
  {
   "cell_type": "markdown",
   "metadata": {},
   "source": [
    "This is the preferred way to create a `LessThan` proposition. However, you might want to create a `LessThan` proposition by just using the `<` operator in Python. To do this successfully, we need to modify a global setting."
   ]
  },
  {
   "cell_type": "markdown",
   "metadata": {},
   "source": [
    "### Python operators and Pylogic settings\n",
    "\n",
    "When working with Pylogic, if both of your arguments are numeric types, `<` will return a Python boolean. If they are not numeric types, e.g. a Pylogic `Variable` or a `Constant` with a non-numeric value, `<` will raise a `TypeError`."
   ]
  },
  {
   "cell_type": "code",
   "execution_count": 10,
   "metadata": {},
   "outputs": [
    {
     "ename": "TypeError",
     "evalue": "'<' not supported between instances of 'Constant' and 'Constant'",
     "output_type": "error",
     "traceback": [
      "\u001b[1;31m---------------------------------------------------------------------------\u001b[0m",
      "\u001b[1;31mTypeError\u001b[0m                                 Traceback (most recent call last)",
      "Cell \u001b[1;32mIn[10], line 2\u001b[0m\n\u001b[0;32m      1\u001b[0m x, y \u001b[38;5;241m=\u001b[39m constants(\u001b[38;5;124m\"\u001b[39m\u001b[38;5;124mx\u001b[39m\u001b[38;5;124m\"\u001b[39m, \u001b[38;5;124m\"\u001b[39m\u001b[38;5;124my\u001b[39m\u001b[38;5;124m\"\u001b[39m)\n\u001b[1;32m----> 2\u001b[0m \u001b[43mx\u001b[49m\u001b[43m \u001b[49m\u001b[38;5;241;43m<\u001b[39;49m\u001b[43m \u001b[49m\u001b[43my\u001b[49m\n",
      "\u001b[1;31mTypeError\u001b[0m: '<' not supported between instances of 'Constant' and 'Constant'"
     ]
    }
   ],
   "source": [
    "x, y = constants(\"x\", \"y\")\n",
    "x < y"
   ]
  },
  {
   "cell_type": "code",
   "execution_count": 11,
   "metadata": {},
   "outputs": [
    {
     "data": {
      "text/plain": [
       "True"
      ]
     },
     "execution_count": 11,
     "metadata": {},
     "output_type": "execute_result"
    }
   ],
   "source": [
    "two = Constant(2)\n",
    "three = Constant(3)\n",
    "two < three"
   ]
  },
  {
   "cell_type": "markdown",
   "metadata": {},
   "source": [
    "To make `<` return a `LessThan` proposition, you can modify a setting to allow operators like `<`, `>`, `<=`, and `>=` to create propositions."
   ]
  },
  {
   "cell_type": "code",
   "execution_count": 12,
   "metadata": {},
   "outputs": [
    {
     "data": {
      "text/latex": [
       "$$x < y$$"
      ],
      "text/plain": [
       "LessThan(x, y)"
      ]
     },
     "execution_count": 12,
     "metadata": {},
     "output_type": "execute_result"
    }
   ],
   "source": [
    "settings[\"PYTHON_OPS_RETURN_PROPS\"] = True\n",
    "x < y"
   ]
  },
  {
   "cell_type": "markdown",
   "metadata": {},
   "source": [
    "`settings` is a dictionary with some global settings for Pylogic. If `settings[\"PYTHON_OPS_RETURN_PROPS\"]` is `True`, then the `<` operator will return a `LessThan` proposition. If the setting is `False`, then the `<` operator will try to return a Python boolean."
   ]
  },
  {
   "cell_type": "code",
   "execution_count": 13,
   "metadata": {},
   "outputs": [
    {
     "data": {
      "text/latex": [
       "$$2 < 3$$"
      ],
      "text/plain": [
       "LessThan(2, 3)"
      ]
     },
     "execution_count": 13,
     "metadata": {},
     "output_type": "execute_result"
    }
   ],
   "source": [
    "two = Constant(2)\n",
    "three = Constant(3)\n",
    "settings[\"PYTHON_OPS_RETURN_PROPS\"] = True\n",
    "two < three"
   ]
  },
  {
   "cell_type": "markdown",
   "metadata": {},
   "source": [
    "> **Note:** `settings[\"PYTHON_OPS_RETURN_PROPS\"]` does not affect the `==` or `!=` operators. They will always return a Python boolean."
   ]
  },
  {
   "cell_type": "markdown",
   "metadata": {},
   "source": [
    "## GreaterThan\n",
    "\n",
    "You can create an instance of `GreaterThan` using the class constructor, or, if `settings[\"PYTHON_OPS_RETURN_PROPS\"]` is `True`, you can use the `>` operator in Python."
   ]
  },
  {
   "cell_type": "code",
   "execution_count": 14,
   "metadata": {},
   "outputs": [
    {
     "data": {
      "text/latex": [
       "$$x > y$$"
      ],
      "text/plain": [
       "x > y"
      ]
     },
     "execution_count": 14,
     "metadata": {},
     "output_type": "execute_result"
    }
   ],
   "source": [
    "GreaterThan(x, y)"
   ]
  },
  {
   "cell_type": "markdown",
   "metadata": {},
   "source": [
    "## LessOrEqual\n",
    "\n",
    "You can create an instance of `LessOrEqual` using the class constructor, or, if `settings[\"PYTHON_OPS_RETURN_PROPS\"]` is `True`, you can use the `<=` operator in Python."
   ]
  },
  {
   "cell_type": "code",
   "execution_count": 15,
   "metadata": {},
   "outputs": [
    {
     "data": {
      "text/latex": [
       "$$x \\leq y$$"
      ],
      "text/plain": [
       "LessOrEqual(x, y)"
      ]
     },
     "execution_count": 15,
     "metadata": {},
     "output_type": "execute_result"
    }
   ],
   "source": [
    "LessOrEqual(x, y)"
   ]
  },
  {
   "cell_type": "markdown",
   "metadata": {},
   "source": [
    "## GreaterOrEqual\n",
    "\n",
    "You can create an instance of `GreaterOrEqual` using the class constructor, or, if `settings[\"PYTHON_OPS_RETURN_PROPS\"]` is `True`, you can use the `>=` operator in Python."
   ]
  },
  {
   "cell_type": "code",
   "execution_count": 16,
   "metadata": {},
   "outputs": [
    {
     "data": {
      "text/latex": [
       "$$x \\geq y$$"
      ],
      "text/plain": [
       "GreaterOrEqual(x, y)"
      ]
     },
     "execution_count": 16,
     "metadata": {},
     "output_type": "execute_result"
    }
   ],
   "source": [
    "GreaterOrEqual(x, y)"
   ]
  },
  {
   "cell_type": "markdown",
   "metadata": {},
   "source": [
    "## IsContainedIn\n",
    "\n",
    "This represents the statement that the left object is an element of the right object, which must be a set. You can create an instance of `IsContainedIn` using the class constructor or the `is_in` method."
   ]
  },
  {
   "cell_type": "code",
   "execution_count": 18,
   "metadata": {},
   "outputs": [
    {
     "data": {
      "text/latex": [
       "$$x \\in \\text{A}$$"
      ],
      "text/plain": [
       "IsContainedIn(x, A)"
      ]
     },
     "execution_count": 18,
     "metadata": {},
     "output_type": "execute_result"
    }
   ],
   "source": [
    "A, B, C = sets(\"A\", \"B\", \"C\")\n",
    "\n",
    "x.is_in(A)"
   ]
  },
  {
   "cell_type": "code",
   "execution_count": 19,
   "metadata": {},
   "outputs": [
    {
     "data": {
      "text/latex": [
       "$$x \\in \\text{A}$$"
      ],
      "text/plain": [
       "IsContainedIn(x, A)"
      ]
     },
     "execution_count": 19,
     "metadata": {},
     "output_type": "execute_result"
    }
   ],
   "source": [
    "IsContainedIn(x, A)"
   ]
  },
  {
   "cell_type": "markdown",
   "metadata": {},
   "source": [
    "## IsSubsetOf\n",
    "\n",
    "This represents the statement that the left object is a subset of the right object. Both objects must be sets. You can create an instance of `IsSubsetOf` using the class constructor, or the `is_subset_of` method."
   ]
  },
  {
   "cell_type": "code",
   "execution_count": 20,
   "metadata": {},
   "outputs": [
    {
     "data": {
      "text/latex": [
       "$$\\text{A} \\subseteq \\text{B}$$"
      ],
      "text/plain": [
       "IsSubsetOf(A, B)"
      ]
     },
     "execution_count": 20,
     "metadata": {},
     "output_type": "execute_result"
    }
   ],
   "source": [
    "A.is_subset_of(B)"
   ]
  },
  {
   "cell_type": "code",
   "execution_count": 21,
   "metadata": {},
   "outputs": [
    {
     "data": {
      "text/latex": [
       "$$\\text{A} \\subseteq \\text{B}$$"
      ],
      "text/plain": [
       "IsSubsetOf(A, B)"
      ]
     },
     "execution_count": 21,
     "metadata": {},
     "output_type": "execute_result"
    }
   ],
   "source": [
    "IsSubsetOf(A, B)"
   ]
  },
  {
   "cell_type": "markdown",
   "metadata": {},
   "source": [
    "By definition, a set is a subset of itself, so this proposition is **not** a \"proper subset\" relation."
   ]
  },
  {
   "cell_type": "markdown",
   "metadata": {},
   "source": [
    "[Previous: Compound Propositions](Compound%20Propositions.ipynb)\n",
    "\n",
    "[Next: Quantifiers](Quantifiers.ipynb)\n",
    "\n",
    "\n",
    "## Contents\n",
    "\n",
    "1. [Introduction](Introduction.ipynb)\n",
    "2. [Terms](Terms.ipynb)\n",
    "3. [Expressions](Expressions.ipynb)\n",
    "4. [Propositions](Propositions.ipynb)\n",
    "5. [Compound Propositions](Compound%20Propositions.ipynb)\n",
    "6. [Relations](#)\n",
    "7. [Quantifiers](Quantifiers.ipynb)\n",
    "8. [Assumptions](Assumptions.ipynb)\n",
    "9. [Inference](Inference.ipynb)"
   ]
  },
  {
   "cell_type": "code",
   "execution_count": null,
   "metadata": {},
   "outputs": [],
   "source": []
  },
  {
   "cell_type": "code",
   "execution_count": null,
   "metadata": {},
   "outputs": [],
   "source": []
  }
 ],
 "metadata": {
  "kernelspec": {
   "display_name": "Python 3",
   "language": "python",
   "name": "python3"
  },
  "language_info": {
   "codemirror_mode": {
    "name": "ipython",
    "version": 3
   },
   "file_extension": ".py",
   "mimetype": "text/x-python",
   "name": "python",
   "nbconvert_exporter": "python",
   "pygments_lexer": "ipython3",
   "version": "3.11.4"
  }
 },
 "nbformat": 4,
 "nbformat_minor": 2
}
