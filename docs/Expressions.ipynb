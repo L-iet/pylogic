{
 "cells": [
  {
   "cell_type": "markdown",
   "metadata": {},
   "source": [
    "# Expressions"
   ]
  },
  {
   "cell_type": "markdown",
   "metadata": {},
   "source": [
    "Expressions are terms that have sub-parts which may also be terms. An expression represents something like a function applied to some arguments. There are expressions for sums, products, etc.\n",
    "\n",
    "We can create expressions using binary operations or using constructors."
   ]
  },
  {
   "cell_type": "code",
   "execution_count": 1,
   "metadata": {},
   "outputs": [],
   "source": [
    "from pylogic import *"
   ]
  },
  {
   "cell_type": "code",
   "execution_count": 2,
   "metadata": {},
   "outputs": [
    {
     "data": {
      "text/latex": [
       "$$x + y$$"
      ],
      "text/plain": [
       "Add(Variable(x, deps=()), Variable(y, deps=()))"
      ]
     },
     "execution_count": 2,
     "metadata": {},
     "output_type": "execute_result"
    }
   ],
   "source": [
    "x, y = variables('x', 'y', integer=True)\n",
    "\n",
    "x + y"
   ]
  },
  {
   "cell_type": "markdown",
   "metadata": {},
   "source": [
    "`x + y` is an expression of type `Add`. Some other types include `Mul`, `Pow`, `Abs`, `Mod`.\n",
    "\n",
    "Expressions are not evaluated by default. This is another difference from SymPy. An expression's structure will remain the same unless we explicitly evaluate it. Expressions compare equal only if they have the same structure (and names for all the arguments)."
   ]
  },
  {
   "cell_type": "code",
   "execution_count": 3,
   "metadata": {},
   "outputs": [
    {
     "data": {
      "text/latex": [
       "$$\\left(x + y\\right) + z$$"
      ],
      "text/plain": [
       "Add(Add(Variable(x, deps=()), Variable(y, deps=())), Variable(z, deps=()))"
      ]
     },
     "metadata": {},
     "output_type": "display_data"
    },
    {
     "data": {
      "text/latex": [
       "$$x + \\left(y + z\\right)$$"
      ],
      "text/plain": [
       "Add(Variable(x, deps=()), Add(Variable(y, deps=()), Variable(z, deps=())))"
      ]
     },
     "metadata": {},
     "output_type": "display_data"
    }
   ],
   "source": [
    "x, y, z = variables('x', 'y', 'z', integer=True)\n",
    "\n",
    "display((x + y) + z) # display works in Ipython/Jupyter; otherwise use print\n",
    "display(x + (y + z))\n"
   ]
  },
  {
   "cell_type": "code",
   "execution_count": 4,
   "metadata": {},
   "outputs": [
    {
     "name": "stdout",
     "output_type": "stream",
     "text": [
      "False\n"
     ]
    }
   ],
   "source": [
    "print((x + y) + z == x + (y + z))"
   ]
  },
  {
   "cell_type": "markdown",
   "metadata": {},
   "source": [
    "We evaluate expressions by calling the `evaluate` method on them."
   ]
  },
  {
   "cell_type": "code",
   "execution_count": null,
   "metadata": {},
   "outputs": [
    {
     "name": "stdout",
     "output_type": "stream",
     "text": [
      "True\n"
     ]
    },
    {
     "ename": "",
     "evalue": "",
     "output_type": "error",
     "traceback": [
      "\u001b[1;31mThe Kernel crashed while executing code in the current cell or a previous cell. \n",
      "\u001b[1;31mPlease review the code in the cell(s) to identify a possible cause of the failure. \n",
      "\u001b[1;31mClick <a href='https://aka.ms/vscodeJupyterKernelCrash'>here</a> for more info. \n",
      "\u001b[1;31mView Jupyter <a href='command:jupyter.viewOutput'>log</a> for further details."
     ]
    }
   ],
   "source": [
    "x, y, z = variables('x', 'y', 'z', integer=True)\n",
    "sum_eval = ((x + y) + z).evaluate()\n",
    "sum_eval2 = (x + (y + z)).evaluate()\n",
    "\n",
    "print(sum_eval == sum_eval2)"
   ]
  },
  {
   "cell_type": "markdown",
   "metadata": {},
   "source": [
    "`evaluate` returns a new expression which is the original expression but \"simplified\". It may or may not return the same expression. Calling `evaluate` on the returned expression may simplify it further."
   ]
  },
  {
   "cell_type": "markdown",
   "metadata": {},
   "source": [
    "[Previous: Terms](Terms.ipynb)\n",
    "\n",
    "[Next: Propositions](Propositions.ipynb)\n",
    "\n",
    "\n",
    "## Contents\n",
    "\n",
    "1. [Introduction](Introduction.ipynb)\n",
    "2. [Terms](Terms.ipynb)\n",
    "3. [Expressions](#)\n",
    "4. [Propositions](Propositions.ipynb)\n",
    "5. [Compound Propositions](Compound%20Propositions.ipynb)\n",
    "6. [Relations](Relations.ipynb)\n",
    "7. [Quantifiers](Quantifiers.ipynb)\n",
    "8. [Assumptions](Assumptions.ipynb)\n",
    "9. [Inference](Inference.ipynb)"
   ]
  },
  {
   "cell_type": "code",
   "execution_count": null,
   "metadata": {},
   "outputs": [],
   "source": []
  },
  {
   "cell_type": "markdown",
   "metadata": {},
   "source": []
  }
 ],
 "metadata": {
  "kernelspec": {
   "display_name": "Python 3",
   "language": "python",
   "name": "python3"
  },
  "language_info": {
   "codemirror_mode": {
    "name": "ipython",
    "version": 3
   },
   "file_extension": ".py",
   "mimetype": "text/x-python",
   "name": "python",
   "nbconvert_exporter": "python",
   "pygments_lexer": "ipython3",
   "version": "3.11.4"
  }
 },
 "nbformat": 4,
 "nbformat_minor": 2
}
