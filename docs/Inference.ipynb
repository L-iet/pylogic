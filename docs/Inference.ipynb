{
 "cells": [
  {
   "cell_type": "markdown",
   "metadata": {},
   "source": [
    "# Inference\n",
    "\n",
    "Pylogic is used to write out proofs to be checked. This means you must already know the proof of what you want to show, as there is currently no proof-search functionality.\n",
    "\n",
    "The way to write proofs in Pylogic is:\n",
    "\n",
    "1. (Optional but helpful) Define the statement you want to prove. Do not assume it.\n",
    "2. If you want to prove an implication or a quantified sentence, create an assumption context. Else, skip this step.\n",
    "3. Create your assumptions/premises and assume them.\n",
    "4. Call different methods on your assumptions to prove intermediate results.\n",
    "5. Call different methods on intermediate results to prove the final result.\n",
    "6. Check that the final result is what you wanted to prove. You can use the `has_been_proven` function to check this."
   ]
  },
  {
   "cell_type": "markdown",
   "metadata": {},
   "source": [
    "# Example 1\n",
    "\n",
    "We showcase this process in the following example. Given the premises $P$, $P \\implies (Q \\lor R)$ and $(Q \\lor R) \\implies \\neg S$, we want to prove $\\neg S$.\n",
    "\n",
    "We already know the proof: apply modus ponens twice. We will write this proof in Pylogic."
   ]
  },
  {
   "cell_type": "code",
   "execution_count": 2,
   "metadata": {},
   "outputs": [],
   "source": [
    "from pylogic import *"
   ]
  },
  {
   "cell_type": "code",
   "execution_count": 3,
   "metadata": {},
   "outputs": [],
   "source": [
    "P, Q, R, S = propositions(\"P\", \"Q\", \"R\", \"S\")\n",
    "to_prove = neg(S) # what we want to prove"
   ]
  },
  {
   "cell_type": "code",
   "execution_count": 4,
   "metadata": {},
   "outputs": [
    {
     "data": {
      "text/latex": [
       "$$\\text{P}$$"
      ],
      "text/plain": [
       "Proposition(P)"
      ]
     },
     "metadata": {},
     "output_type": "display_data"
    },
    {
     "data": {
      "text/latex": [
       "$$\\text{P} \\rightarrow \\text{Q}\\vee \\text{R}$$"
      ],
      "text/plain": [
       "Implies(Proposition(P), Or(Proposition(Q), Proposition(R)))"
      ]
     },
     "metadata": {},
     "output_type": "display_data"
    },
    {
     "data": {
      "text/latex": [
       "$$\\text{Q}\\vee \\text{R} \\rightarrow \\neg \\text{S}$$"
      ],
      "text/plain": [
       "Implies(Or(Proposition(Q), Proposition(R)), Not(Proposition(S)))"
      ]
     },
     "metadata": {},
     "output_type": "display_data"
    }
   ],
   "source": [
    "# premises\n",
    "P.assume() # P is assumed\n",
    "P_implies_Q_or_R = assume(P.implies(Q.or_(R))) # P => (Q or R) is assumed\n",
    "Q_or_R_implies_not_S = assume(Q.or_(R).implies(neg(S))) # (Q or R) => ~S is assumed\n",
    "\n",
    "display(P, P_implies_Q_or_R, Q_or_R_implies_not_S)"
   ]
  },
  {
   "cell_type": "markdown",
   "metadata": {},
   "source": [
    "Now we actually write the proof. We check intermediate results to make sure we are on the right track."
   ]
  },
  {
   "cell_type": "code",
   "execution_count": 5,
   "metadata": {},
   "outputs": [
    {
     "data": {
      "text/latex": [
       "$$\\text{Q}\\vee \\text{R}$$"
      ],
      "text/plain": [
       "Or(Proposition(Q), Proposition(R))"
      ]
     },
     "metadata": {},
     "output_type": "display_data"
    },
    {
     "data": {
      "text/plain": [
       "True"
      ]
     },
     "metadata": {},
     "output_type": "display_data"
    }
   ],
   "source": [
    "Q_or_R = P.modus_ponens(P_implies_Q_or_R) # since P is true and P => (Q or R) is true, Q or R must be true (modus ponens)\n",
    "display(Q_or_R, Q_or_R.is_proven)"
   ]
  },
  {
   "cell_type": "code",
   "execution_count": 6,
   "metadata": {},
   "outputs": [
    {
     "data": {
      "text/latex": [
       "$$\\neg \\text{S}$$"
      ],
      "text/plain": [
       "Not(Proposition(S))"
      ]
     },
     "metadata": {},
     "output_type": "display_data"
    },
    {
     "data": {
      "text/plain": [
       "True"
      ]
     },
     "metadata": {},
     "output_type": "display_data"
    }
   ],
   "source": [
    "# since Q or R is true and (Q or R) => ~S is true, ~S must be true (modus ponens)\n",
    "not_S = Q_or_R.modus_ponens(Q_or_R_implies_not_S)\n",
    "display(not_S, not_S.is_proven)"
   ]
  },
  {
   "cell_type": "markdown",
   "metadata": {},
   "source": [
    "We are done at this point. We can check if the final result is what we wanted to prove."
   ]
  },
  {
   "cell_type": "code",
   "execution_count": 7,
   "metadata": {},
   "outputs": [
    {
     "data": {
      "text/plain": [
       "True"
      ]
     },
     "execution_count": 7,
     "metadata": {},
     "output_type": "execute_result"
    }
   ],
   "source": [
    "has_been_proven(to_prove, not_S) # check if the proof is correct"
   ]
  },
  {
   "cell_type": "markdown",
   "metadata": {},
   "source": [
    "Clearly, the most important aspect of this is knowing which methods to call. You can see a list of all inference-rule methods that can be called on a proposition by calling the `inference_rules` method on it. For instance:"
   ]
  },
  {
   "cell_type": "code",
   "execution_count": 8,
   "metadata": {},
   "outputs": [
    {
     "data": {
      "text/plain": [
       "['assume',\n",
       " 'substitute',\n",
       " 'by_inspection',\n",
       " 'and_',\n",
       " 'or_',\n",
       " 'p_and_reverse',\n",
       " 'modus_ponens',\n",
       " 'mp',\n",
       " 'modus_tollens',\n",
       " 'mt',\n",
       " 'is_one_of',\n",
       " 'is_special_case_of',\n",
       " 'thus_there_exists',\n",
       " 'thus_forall',\n",
       " 'contradicts']"
      ]
     },
     "execution_count": 8,
     "metadata": {},
     "output_type": "execute_result"
    }
   ],
   "source": [
    "P.inference_rules()"
   ]
  },
  {
   "cell_type": "markdown",
   "metadata": {},
   "source": [
    "In this example, we knew that we needed to use modus ponens. Therefore, checking the `inference_rules` method and seeing that it has a `modus_ponens` method is useful. We can then look at the help message for `modus_ponens` to see how to use it."
   ]
  },
  {
   "cell_type": "code",
   "execution_count": 9,
   "metadata": {},
   "outputs": [
    {
     "name": "stdout",
     "output_type": "stream",
     "text": [
      "Help on method modus_ponens in module pylogic.proposition.proposition:\n",
      "\n",
      "modus_ponens(other: 'Implies[Self, TProposition]') -> 'TProposition' method of pylogic.proposition.proposition.Proposition instance\n",
      "    Logical inference rule.\n",
      "    other: Implies\n",
      "        Must be an implication that has been proven whose structure is\n",
      "        self -> OtherProposition\n",
      "    \n",
      "    Examples\n",
      "    --------\n",
      "    >>> p1 = prop(\"P\").assume() # P\n",
      "    >>> p2 = prop(\"P\").implies(prop(\"Q\")).assume() # P -> Q\n",
      "    >>> p3 = p1.modus_ponens(p2) # infer Q\n",
      "    >>> p3, p3.is_proven\n",
      "    (Q, True)\n",
      "\n"
     ]
    }
   ],
   "source": [
    "help(P.modus_ponens)"
   ]
  },
  {
   "cell_type": "markdown",
   "metadata": {},
   "source": [
    "# Example 2: By Cases and AssumptionsContext\n",
    "\n",
    "Here, we perform a proof by cases. Given the premises \n",
    "1. $P \\lor Q$\n",
    "2. $P \\implies A$ \n",
    "3. $Q \\implies B$\n",
    "4. $A \\implies R$\n",
    "5. $B \\implies R$\n",
    "\n",
    "we want to prove $R$. Since $P \\lor Q$ is a disjunction, we can prove $R$ by proving $R$ under both cases $P$ and $Q$.\n",
    "\n",
    "In Pylogic, we do this by proving the implications $P \\implies R$ and $Q \\implies R$ separately. We then use the `by_cases` method on the disjunction to prove $R$ conclusively."
   ]
  },
  {
   "cell_type": "code",
   "execution_count": 10,
   "metadata": {},
   "outputs": [],
   "source": [
    "P, Q, R, A, B = propositions(\"P\", \"Q\", \"R\", \"A\", \"B\")\n",
    "to_prove = R\n",
    "\n",
    "# premises\n",
    "P_or_Q = assume(P.or_(Q))\n",
    "P_implies_A = assume(P.implies(A))\n",
    "Q_implies_B = assume(Q.implies(B))\n",
    "A_implies_R = assume(A.implies(R))\n",
    "B_implies_R = assume(B.implies(R))"
   ]
  },
  {
   "cell_type": "code",
   "execution_count": 11,
   "metadata": {},
   "outputs": [
    {
     "data": {
      "text/latex": [
       "$$\\text{R}$$"
      ],
      "text/plain": [
       "Proposition(R)"
      ]
     },
     "metadata": {},
     "output_type": "display_data"
    },
    {
     "data": {
      "text/plain": [
       "True"
      ]
     },
     "execution_count": 11,
     "metadata": {},
     "output_type": "execute_result"
    }
   ],
   "source": [
    "# case 1: P is true\n",
    "with AssumptionsContext() as case1:\n",
    "    P.assume()\n",
    "    R = P.modus_ponens(P_implies_A).modus_ponens(A_implies_R)\n",
    "    conclude(R)\n",
    "P_implies_R = case1.get_proven()[0]\n",
    "\n",
    "# case 2: Q is true\n",
    "with AssumptionsContext() as case2:\n",
    "    Q.assume()\n",
    "    R = Q.modus_ponens(Q_implies_B).modus_ponens(B_implies_R)\n",
    "    conclude(R)\n",
    "Q_implies_R = case2.get_proven()[0]\n",
    "\n",
    "# since P or Q is true and (P => R) and (Q => R) are true, R must be true\n",
    "R_proven = P_or_Q.by_cases(P_implies_R, Q_implies_R)\n",
    "display(R_proven)\n",
    "has_been_proven(to_prove, R_proven) # check if the proof is correct"
   ]
  },
  {
   "cell_type": "markdown",
   "metadata": {},
   "source": [
    "In the example above, we see a usage of the `get_proven` method of an assumptions context. When the context is closed, we can use this method to get the implications that have been proven by assuming propositions in the context and concluding other propositions. This is the main method of proving implications in Pylogic.\n",
    "\n",
    "In order to know what implications to prove when the context is closed, we need to call the `conclude` function with any conclusions made within the context. The next example shows more of this."
   ]
  },
  {
   "cell_type": "markdown",
   "metadata": {},
   "source": [
    "## Example 3: Proving Implications\n",
    "\n",
    "To prove an implication, assume the antecedent in a context and try to prove the consequent.\n",
    "\n",
    "In this example, we are given the premises\n",
    "\n",
    "1. $P \\implies Q$\n",
    "2. $Q \\implies R$\n",
    "3. $R \\implies S$\n",
    "\n",
    "and we want to prove $\\neg S \\implies \\neg P$."
   ]
  },
  {
   "cell_type": "code",
   "execution_count": 12,
   "metadata": {},
   "outputs": [
    {
     "name": "stdout",
     "output_type": "stream",
     "text": [
      "[Implies(Not(Proposition(S)), Not(Proposition(P)))]\n"
     ]
    },
    {
     "data": {
      "text/latex": [
       "$$\\neg \\text{S} \\rightarrow \\neg \\text{P}$$"
      ],
      "text/plain": [
       "Implies(Not(Proposition(S)), Not(Proposition(P)))"
      ]
     },
     "metadata": {},
     "output_type": "display_data"
    },
    {
     "data": {
      "text/plain": [
       "True"
      ]
     },
     "metadata": {},
     "output_type": "display_data"
    },
    {
     "data": {
      "text/plain": [
       "True"
      ]
     },
     "execution_count": 12,
     "metadata": {},
     "output_type": "execute_result"
    }
   ],
   "source": [
    "P, Q, R, S = propositions(\"P\", \"Q\", \"R\", \"S\")\n",
    "to_prove = neg(S).implies(neg(P)) \n",
    "\n",
    "# premises\n",
    "P_implies_Q, Q_implies_R, R_implies_S = assume(P.implies(Q), Q.implies(R), R.implies(S))\n",
    "\n",
    "with AssumptionsContext() as ctx:\n",
    "    not_S = neg(S).assume()\n",
    "    not_P = not_S.modus_tollens(R_implies_S).modus_tollens(Q_implies_R).modus_tollens(P_implies_Q)\n",
    "    conclude(not_P)\n",
    "print(ctx.get_proven())\n",
    "\n",
    "not_S_implies_not_P = ctx.get_proven()[0]\n",
    "display(not_S_implies_not_P, not_S_implies_not_P.is_proven)\n",
    "has_been_proven(to_prove, not_S_implies_not_P) # check if the proof is correct"
   ]
  },
  {
   "cell_type": "markdown",
   "metadata": {},
   "source": [
    "## AssumptionsContext and Implications (and Universally Quantified Sentences)\n",
    "\n",
    "This was discussed in the previous section, but one thing to keep in mind is that `AssumptionsContext` is useful for proving implications. To prove $P \\implies Q$, for instance, your code will look something like:\n",
    "\n",
    "```python\n",
    "with AssumptionsContext() as ctx:\n",
    "    assume(P)\n",
    "    ... # rules of inference are applied to deduce Q\n",
    "    conclude(Q)\n",
    "\n",
    "p_implies_q = ctx.get_proven()[0]\n",
    "print(p_implies_q) # P -> Q\n",
    "print(p_implies_q.is_proven) # True\n",
    "```\n",
    "\n",
    "The `conclude` function is used to tell Pylogic that, when the context is exited, the implication \"assumptions implies conclusion\" is proven.\n",
    "Compare this to a written proof. To prove $P \\implies Q$, you would write something like:\n",
    "\n",
    "1. Assume $P$.\n",
    "2. ... (some steps)\n",
    "3. Therefore, $Q$.\n",
    "4. Therefore, $P \\implies Q$.\n",
    "\n",
    "The `get_proven` method returns a list of all implications that have been proven as a result of the context. In this case, there is only one: $P \\implies Q$."
   ]
  },
  {
   "cell_type": "markdown",
   "metadata": {},
   "source": [
    "In the next example, we will see how to prove universally quantified sentences."
   ]
  },
  {
   "cell_type": "markdown",
   "metadata": {},
   "source": [
    "## Example 4: Proving Universally Quantified Sentences\n",
    "\n",
    "To prove a `Forall` sentence, create a variable **within a context** and try to prove the sentence for that variable. The universally quantified sentence is then proven at the end of the context.\n",
    "\n",
    "To create a variable within a context, use the `context_variables` (or `ctx_vars`) function which is like the `variables` function but for contexts.\n",
    "\n",
    "In this example, we are given the premises\n",
    "\n",
    "1. $\\forall x (P(x) \\implies Q(x))$\n",
    "2. $\\forall x (Q(x) \\implies R(x))$\n",
    "3. $\\forall x \\neg R(x)$\n",
    "\n",
    "and we want to prove $\\forall x \\neg P(x)$."
   ]
  },
  {
   "cell_type": "code",
   "execution_count": 13,
   "metadata": {},
   "outputs": [
    {
     "data": {
      "text/latex": [
       "$$\\forall x: \\neg \\text{P}\\left(x\\right)$$"
      ],
      "text/plain": [
       "Forall(Variable(x, deps=()), Not(Proposition(P, x)))"
      ]
     },
     "metadata": {},
     "output_type": "display_data"
    }
   ],
   "source": [
    "x = Variable(\"x\")\n",
    "Px, Qx, Rx = propositions(\"P\", \"Q\", \"R\", args=(x,))\n",
    "\n",
    "# premises\n",
    "p1 = Forall(x, Px.implies(Qx)).assume()\n",
    "p2 = Forall(x, Qx.implies(Rx)).assume()\n",
    "p3 = Forall(x, neg(Rx)).assume()\n",
    "\n",
    "with AssumptionsContext() as ctx:\n",
    "    x = context_variables(\"x\")\n",
    "    not_Rx = p3(x) # universal instantiation\n",
    "    not_Qx = not_Rx.modus_tollens(p2(x))\n",
    "    not_Px = not_Qx.modus_tollens(p1(x))\n",
    "\n",
    "    conclude(not_Px)\n",
    "\n",
    "forall_x_not_Px = ctx.get_proven()[0]\n",
    "display(forall_x_not_Px)"
   ]
  },
  {
   "cell_type": "markdown",
   "metadata": {},
   "source": [
    "We see some new features in this example:\n",
    "\n",
    "1. The `context_variables` function is used to create a variable within a context.\n",
    "2. `Forall` propositions are like functions. You can call it with a term, if it has been proven, and it will return the proposition with the term substituted in. This is the \"Universal Instantiation\" rule of inference. You can look up this rule online.\n",
    "3. The `conclude` function is used to tell Pylogic that, when the context is exited, the universally quantified sentence is proven.\n",
    "\n",
    "Since a variable was created in the context, the context will create a universally quantified sentence when exited. This is the main way to prove universally quantified sentences in Pylogic.\n",
    "\n",
    "Compare the Pylogic proof to a written proof:\n",
    "\n",
    "1. We are given $\\forall x (P(x) \\implies Q(x))$, $\\forall x (Q(x) \\implies R(x))$, and $\\forall x \\neg R(x)$.\n",
    "2. Let $x$ be arbitrary.\n",
    "3. Then $\\neg R(x)$, $Q(x) \\implies R(x)$, and $P(x) \\implies Q(x)$ (universal instantiation).\n",
    "4. Then $\\neg Q(x)$ by modus tollens.\n",
    "5. Then $\\neg P(x)$ by modus tollens.\n",
    "6. Since $x$ was arbitrary, $\\forall x \\neg P(x)$."
   ]
  },
  {
   "cell_type": "markdown",
   "metadata": {},
   "source": [
    "## Conclusion\n",
    "\n",
    "It takes some practice to get used to writing proofs in Pylogic. The key is to know what you want to prove and to know which methods to call on propositions to prove them. The `inference_rules` method is useful for this."
   ]
  },
  {
   "cell_type": "markdown",
   "metadata": {},
   "source": [
    "[Previous: Assumptions](Assumptions.ipynb)\n",
    "\n",
    "## Contents\n",
    "\n",
    "1. [Introduction](Introduction.ipynb)\n",
    "2. [Terms](Terms.ipynb)\n",
    "3. [Expressions](Expressions.ipynb)\n",
    "4. [Propositions](Propositions.ipynb)\n",
    "5. [Compound Propositions](Compound%20Propositions.ipynb)\n",
    "6. [Relations](Relations.ipynb)\n",
    "7. [Quantifiers](Quantifiers.ipynb)\n",
    "8. [Assumptions](Assumptions.ipynb)\n",
    "9. [Inference](#)"
   ]
  },
  {
   "cell_type": "code",
   "execution_count": null,
   "metadata": {},
   "outputs": [],
   "source": []
  }
 ],
 "metadata": {
  "kernelspec": {
   "display_name": "Python 3",
   "language": "python",
   "name": "python3"
  },
  "language_info": {
   "codemirror_mode": {
    "name": "ipython",
    "version": 3
   },
   "file_extension": ".py",
   "mimetype": "text/x-python",
   "name": "python",
   "nbconvert_exporter": "python",
   "pygments_lexer": "ipython3",
   "version": "3.11.4"
  }
 },
 "nbformat": 4,
 "nbformat_minor": 2
}
