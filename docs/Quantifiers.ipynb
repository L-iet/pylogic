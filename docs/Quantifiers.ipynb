{
 "cells": [
  {
   "cell_type": "markdown",
   "metadata": {},
   "source": [
    "# Quantifiers\n",
    "\n",
    "A quantifier is a symbol used in first-order logic to express the generality of a statement. The two most common quantifiers are the universal quantifier $\\forall$ and the existential quantifier $\\exists$.\n",
    "\n",
    "For example, consider the statement \"For all $x$, $x$ is greater than 0\". This statement can be written as $\\forall x, x > 0$. The universal quantifier $\\forall$ is used to express that the statement holds for all values of $x$.\n",
    "\n",
    "The statement \"There exists an $x$ such that $x$ is greater than 0\" can be written as $\\exists x, x > 0$. The existential quantifier $\\exists$ is used to express that there exists at least one value of $x$ for which the statement holds.\n",
    "\n",
    "In Pylogic, some of the quantifiers used are:\n",
    "\n",
    "1. `Forall`\n",
    "2. `Exists`\n",
    "3. `ExistsUnique`\n",
    "4. `ForallInSet`\n",
    "5. `ExistsInSet`\n",
    "\n",
    "Each of these are subclasses of `Proposition`."
   ]
  },
  {
   "cell_type": "markdown",
   "metadata": {},
   "source": [
    "## Forall\n",
    "\n",
    "To create a `Forall` statement, use the constructor along with a variable and another proposition."
   ]
  },
  {
   "cell_type": "code",
   "execution_count": 1,
   "metadata": {},
   "outputs": [],
   "source": [
    "from pylogic import *"
   ]
  },
  {
   "cell_type": "code",
   "execution_count": 2,
   "metadata": {},
   "outputs": [],
   "source": [
    "x, y, z = variables(\"x\", \"y\", \"z\")\n",
    "Px, Qx, Rx = propositions(\"P\", \"Q\", \"R\", args=(x,))"
   ]
  },
  {
   "cell_type": "code",
   "execution_count": 3,
   "metadata": {},
   "outputs": [
    {
     "data": {
      "text/latex": [
       "$$\\forall x: \\text{P}\\left(x\\right)$$"
      ],
      "text/plain": [
       "Forall(Variable(x, deps=()), Proposition(P, x))"
      ]
     },
     "execution_count": 3,
     "metadata": {},
     "output_type": "execute_result"
    }
   ],
   "source": [
    "forall_x_px = Forall(x, Px)\n",
    "forall_x_px"
   ]
  },
  {
   "cell_type": "markdown",
   "metadata": {},
   "source": [
    "The first argument must be a variable, and the second argument must be a proposition.\n",
    "\n",
    "For example, we can represent the statement \"Everything is awesome\" as follows:\n"
   ]
  },
  {
   "cell_type": "code",
   "execution_count": 4,
   "metadata": {},
   "outputs": [
    {
     "data": {
      "text/latex": [
       "$$\\forall thing: \\text{IsAwesome}\\left(thing\\right)$$"
      ],
      "text/plain": [
       "Forall(Variable(thing, deps=()), Proposition(IsAwesome, thing))"
      ]
     },
     "execution_count": 4,
     "metadata": {},
     "output_type": "execute_result"
    }
   ],
   "source": [
    "thing = variables(\"thing\")\n",
    "thing_is_awesome = proposition(\"IsAwesome\", thing)\n",
    "everything_is_awesome = Forall(thing, thing_is_awesome)\n",
    "everything_is_awesome"
   ]
  },
  {
   "cell_type": "markdown",
   "metadata": {},
   "source": [
    "Again, recall that when propositions are created, they are neither true nor false, unless they are assumed, in which case they are true."
   ]
  },
  {
   "cell_type": "markdown",
   "metadata": {},
   "source": [
    "## Exists\n",
    "\n",
    "To create an `Exists` statement, use the constructor along with a variable and another proposition."
   ]
  },
  {
   "cell_type": "code",
   "execution_count": 5,
   "metadata": {},
   "outputs": [
    {
     "data": {
      "text/latex": [
       "$$\\exists x: \\text{P}\\left(x\\right)$$"
      ],
      "text/plain": [
       "Exists(Variable(x, deps=()), Proposition(P, x))"
      ]
     },
     "execution_count": 5,
     "metadata": {},
     "output_type": "execute_result"
    }
   ],
   "source": [
    "exists_x_px = Exists(x, Px)\n",
    "exists_x_px"
   ]
  },
  {
   "cell_type": "markdown",
   "metadata": {},
   "source": [
    "## ExistsUnique\n",
    "\n",
    "To create an `ExistsUnique` statement, use the constructor along with a variable and another proposition. This is used to express that there exists exactly one value of the variable for which the proposition holds."
   ]
  },
  {
   "cell_type": "code",
   "execution_count": 6,
   "metadata": {},
   "outputs": [
    {
     "data": {
      "text/latex": [
       "$$\\exists ! x: \\text{P}\\left(x\\right)$$"
      ],
      "text/plain": [
       "ExistsUnique(Variable(x, deps=()), Proposition(P, x))"
      ]
     },
     "execution_count": 6,
     "metadata": {},
     "output_type": "execute_result"
    }
   ],
   "source": [
    "exists_unique_x_px = ExistsUnique(x, Px)\n",
    "exists_unique_x_px"
   ]
  },
  {
   "cell_type": "markdown",
   "metadata": {},
   "source": [
    "## ForallInSet\n",
    "\n",
    "This is useful since we often quantify over a set of elements. For example, consider the statement \"For all $x$ in the set of natural numbers, $x$ is at least 0\". This can be written as $\\forall x \\in \\mathbb{N}, x \\geq 0$.\n",
    "\n",
    "To create this statement in Pylogic, use the `ForallInSet` constructor along with a variable, a set, and another proposition."
   ]
  },
  {
   "cell_type": "code",
   "execution_count": 7,
   "metadata": {},
   "outputs": [
    {
     "data": {
      "text/latex": [
       "$$\\forall x \\in \\text{N}: x \\geq 0$$"
      ],
      "text/plain": [
       "ForallInSet(Variable(x, deps=()), Set_N, GreaterOrEqual(x, 0))"
      ]
     },
     "execution_count": 7,
     "metadata": {},
     "output_type": "execute_result"
    }
   ],
   "source": [
    "x = variables(\"x\")\n",
    "N = sets(\"N\") # creates a generic set named N\n",
    "\n",
    "forall_x_in_N_x_geq_0 = ForallInSet(x, N, GreaterOrEqual(x, 0))\n",
    "forall_x_in_N_x_geq_0\n"
   ]
  },
  {
   "cell_type": "markdown",
   "metadata": {},
   "source": [
    "Pylogic actually has a `Naturals` object that represents the set of natural numbers. So to represent the statement above, you can use the `Naturals` object as the set."
   ]
  },
  {
   "cell_type": "code",
   "execution_count": 8,
   "metadata": {},
   "outputs": [
    {
     "data": {
      "text/latex": [
       "$$\\forall x \\in \\mathbb{N}: x \\geq 0$$"
      ],
      "text/plain": [
       "ForallInSet(Variable(x, deps=()), Set_Naturals, GreaterOrEqual(x, 0))"
      ]
     },
     "execution_count": 8,
     "metadata": {},
     "output_type": "execute_result"
    }
   ],
   "source": [
    "forall_x_in_N_x_geq_0 = ForallInSet(x, Naturals, GreaterOrEqual(x, 0))\n",
    "forall_x_in_N_x_geq_0"
   ]
  },
  {
   "cell_type": "markdown",
   "metadata": {},
   "source": [
    "## ExistsInSet\n",
    "\n",
    "To create an `ExistsInSet` statement, use the constructor along with a variable, a set, and another proposition."
   ]
  },
  {
   "cell_type": "code",
   "execution_count": 9,
   "metadata": {},
   "outputs": [
    {
     "data": {
      "text/latex": [
       "$$\\exists x \\in \\mathbb{N}: x > 0$$"
      ],
      "text/plain": [
       "ExistsInSet(Variable(x, deps=()), Set_Naturals, x > 0)"
      ]
     },
     "execution_count": 9,
     "metadata": {},
     "output_type": "execute_result"
    }
   ],
   "source": [
    "exists_x_in_N_x_gt_0 = ExistsInSet(x, Naturals, GreaterThan(x, 0))\n",
    "exists_x_in_N_x_gt_0"
   ]
  },
  {
   "cell_type": "markdown",
   "metadata": {},
   "source": [
    "## Order of Operations\n",
    "\n",
    "Recall that the order of operations in Pylogic is:\n",
    "\n",
    "1. Negation (`Not`)\n",
    "2. Exclusive Or (`ExOr`)\n",
    "3. Conjunction (`And`)\n",
    "4. Disjunction (`Or`)\n",
    "5. Implication (`Implies`)\n",
    "6. Bi-conditional (`Iff`)\n",
    "7. Quantifiers (`Forall`, `Exists`, etc)\n",
    "\n",
    "You can use `settings[\"SHOW_ALL_PARENTHESES\"] = True` to show all parentheses explicitly."
   ]
  },
  {
   "cell_type": "markdown",
   "metadata": {},
   "source": [
    "[Previous: Relations](Relations.ipynb)\n",
    "\n",
    "[Next: Assumptions](Assumptions.ipynb)\n",
    "\n",
    "\n",
    "## Contents\n",
    "\n",
    "1. [Introduction](Introduction.ipynb)\n",
    "2. [Terms](Terms.ipynb)\n",
    "3. [Expressions](Expressions.ipynb)\n",
    "4. [Propositions](Propositions.ipynb)\n",
    "5. [Compound Propositions](Compound%20Propositions.ipynb)\n",
    "6. [Relations](Relations.ipynb)\n",
    "7. [Quantifiers](#)\n",
    "8. [Assumptions](Assumptions.ipynb)\n",
    "9. [Inference](Inference.ipynb)"
   ]
  },
  {
   "cell_type": "code",
   "execution_count": null,
   "metadata": {},
   "outputs": [],
   "source": []
  }
 ],
 "metadata": {
  "kernelspec": {
   "display_name": "Python 3",
   "language": "python",
   "name": "python3"
  },
  "language_info": {
   "codemirror_mode": {
    "name": "ipython",
    "version": 3
   },
   "file_extension": ".py",
   "mimetype": "text/x-python",
   "name": "python",
   "nbconvert_exporter": "python",
   "pygments_lexer": "ipython3",
   "version": "3.11.4"
  }
 },
 "nbformat": 4,
 "nbformat_minor": 2
}
