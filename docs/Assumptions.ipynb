{
 "cells": [
  {
   "cell_type": "markdown",
   "metadata": {},
   "source": [
    "# Assumptions\n",
    "\n",
    "In mathematical proofs, we often make assumptions and prove theorems that follow from these assumptions. We can make assumptions in Pylogic as well.\n",
    "\n",
    "We can assume a statement using the `assume` function or `assume` method. Once assumed, the statement is true in the current context."
   ]
  },
  {
   "cell_type": "code",
   "execution_count": 1,
   "metadata": {},
   "outputs": [],
   "source": [
    "from pylogic import *"
   ]
  },
  {
   "cell_type": "code",
   "execution_count": 2,
   "metadata": {},
   "outputs": [
    {
     "name": "stdout",
     "output_type": "stream",
     "text": [
      "False False False\n"
     ]
    }
   ],
   "source": [
    "P, Q, R = propositions(\"P\", \"Q\", \"R\")\n",
    "print(P.is_proven, Q.is_proven, R.is_proven) # False False False"
   ]
  },
  {
   "cell_type": "code",
   "execution_count": 3,
   "metadata": {},
   "outputs": [
    {
     "name": "stdout",
     "output_type": "stream",
     "text": [
      "True False False\n"
     ]
    }
   ],
   "source": [
    "P.assume()\n",
    "print(P.is_proven, Q.is_proven, R.is_proven) # True False False"
   ]
  },
  {
   "cell_type": "code",
   "execution_count": 4,
   "metadata": {},
   "outputs": [
    {
     "name": "stdout",
     "output_type": "stream",
     "text": [
      "True True True\n"
     ]
    }
   ],
   "source": [
    "assume(Q, R)\n",
    "print(P.is_proven, Q.is_proven, R.is_proven) # True True True"
   ]
  },
  {
   "cell_type": "markdown",
   "metadata": {},
   "source": [
    "Once a statement is assumed, the attribute `is_assumption` is `True`."
   ]
  },
  {
   "cell_type": "code",
   "execution_count": 5,
   "metadata": {},
   "outputs": [
    {
     "data": {
      "text/plain": [
       "True"
      ]
     },
     "execution_count": 5,
     "metadata": {},
     "output_type": "execute_result"
    }
   ],
   "source": [
    "P.is_assumption"
   ]
  },
  {
   "cell_type": "markdown",
   "metadata": {},
   "source": [
    "> **Note:** To avoid undefined behaviour, do not set `is_assumption` to `True` or `False` directly. Use the `assume` function or `assume` method instead."
   ]
  },
  {
   "cell_type": "markdown",
   "metadata": {},
   "source": [
    "## Assumptions Context\n",
    "\n",
    "In many cases, we need to make assumptions that are only true in a specific context. For example, if we are doing a proof by cases, we may need to assume a statement for one case but assume different statements for other cases.\n",
    "\n",
    "We can achieve this using the `AssumptionsContext` class. This is a context manager that allows us to make assumptions that are only true within the context."
   ]
  },
  {
   "cell_type": "code",
   "execution_count": null,
   "metadata": {},
   "outputs": [
    {
     "name": "stdout",
     "output_type": "stream",
     "text": [
      "Before context: False False False\n",
      "In context: True True False\n",
      "After context: False False False\n"
     ]
    }
   ],
   "source": [
    "P, Q, R = propositions(\"P\", \"Q\", \"R\")\n",
    "print(\"Before context:\",P.is_proven, Q.is_proven, R.is_proven) # Before context: False False False\n",
    "with AssumptionsContext() as ctx:\n",
    "    assume(P, Q)\n",
    "    print(\"In context:\",P.is_proven, Q.is_proven, R.is_proven) # In context: True True False\n",
    "\n",
    "print(\"After context:\",P.is_proven, Q.is_proven, R.is_proven) # After context: False False False"
   ]
  },
  {
   "cell_type": "markdown",
   "metadata": {},
   "source": [
    "In the preceding example, $P$ and $Q$ are assumed within `ctx`. Outside of `ctx`, $P$ and $Q$ are not proven."
   ]
  },
  {
   "cell_type": "markdown",
   "metadata": {},
   "source": [
    "Contexts can be nested. In the following example, $P$ is assumed within `ctx1` and $Q$ is assumed within `ctx2`. Outside of `ctx1` and `ctx2`, $P$ and $Q$ are not proven."
   ]
  },
  {
   "cell_type": "code",
   "execution_count": 8,
   "metadata": {},
   "outputs": [
    {
     "name": "stdout",
     "output_type": "stream",
     "text": [
      "True True\n",
      "True False\n",
      "False False\n"
     ]
    }
   ],
   "source": [
    "P, Q = propositions(\"P\", \"Q\")\n",
    "with AssumptionsContext() as ctx1:\n",
    "    assume(P)\n",
    "    with AssumptionsContext() as ctx2:\n",
    "        assume(Q)\n",
    "        print(P.is_proven, Q.is_proven) # True True\n",
    "    \n",
    "    print(P.is_proven, Q.is_proven) # True False\n",
    "\n",
    "print(P.is_proven, Q.is_proven) # False False"
   ]
  },
  {
   "cell_type": "code",
   "execution_count": null,
   "metadata": {},
   "outputs": [],
   "source": []
  },
  {
   "cell_type": "code",
   "execution_count": null,
   "metadata": {},
   "outputs": [],
   "source": []
  },
  {
   "cell_type": "code",
   "execution_count": null,
   "metadata": {},
   "outputs": [],
   "source": []
  },
  {
   "cell_type": "code",
   "execution_count": null,
   "metadata": {},
   "outputs": [],
   "source": []
  },
  {
   "cell_type": "markdown",
   "metadata": {},
   "source": []
  }
 ],
 "metadata": {
  "kernelspec": {
   "display_name": "Python 3",
   "language": "python",
   "name": "python3"
  },
  "language_info": {
   "codemirror_mode": {
    "name": "ipython",
    "version": 3
   },
   "file_extension": ".py",
   "mimetype": "text/x-python",
   "name": "python",
   "nbconvert_exporter": "python",
   "pygments_lexer": "ipython3",
   "version": "3.11.4"
  }
 },
 "nbformat": 4,
 "nbformat_minor": 2
}
