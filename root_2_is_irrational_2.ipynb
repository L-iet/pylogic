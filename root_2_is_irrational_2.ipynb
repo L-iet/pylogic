{
 "cells": [
  {
   "cell_type": "markdown",
   "metadata": {},
   "source": [
    "Note: Recommended to run all cells from top to avoid errors relating to context not being open"
   ]
  },
  {
   "cell_type": "code",
   "execution_count": 1,
   "metadata": {},
   "outputs": [
    {
     "data": {
      "text/latex": [
       "$$\\sqrt{2}$$"
      ],
      "text/plain": [
       "Pow(Constant(2, deps=()), Constant(1/2, deps=()))"
      ]
     },
     "execution_count": 1,
     "metadata": {},
     "output_type": "execute_result"
    }
   ],
   "source": [
    "from pylogic.theories.numbers import Naturals, Rationals, Integers\n",
    "from pylogic.assumptions_context import AssumptionsContext, conclude\n",
    "from pylogic.expressions.expr import sqrt\n",
    "from pylogic.proposition.not_ import Not\n",
    "\n",
    "root_2  = sqrt(2)\n",
    "root_2"
   ]
  },
  {
   "cell_type": "code",
   "execution_count": 2,
   "metadata": {},
   "outputs": [
    {
     "data": {
      "text/latex": [
       "$$\\sqrt{2} \\in \\mathbb{Q}$$"
      ],
      "text/plain": [
       "IsContainedIn(2^1/2, Rationals)"
      ]
     },
     "execution_count": 2,
     "metadata": {},
     "output_type": "execute_result"
    }
   ],
   "source": [
    "ctx = AssumptionsContext()\n",
    "ctx.open()\n",
    "\n",
    "# assume that root_2 is rational\n",
    "rt2_rational = root_2.is_in(Rationals).assume()\n",
    "rt2_rational\n"
   ]
  },
  {
   "cell_type": "code",
   "execution_count": 3,
   "metadata": {},
   "outputs": [
    {
     "data": {
      "text/latex": [
       "$$\\forall r \\in \\mathbb{Q}: \\exists p \\in \\mathbb{Z}: \\exists q \\in \\mathbb{Z}: \\left(q \\not = 0\\wedge r = p \\cdot q^{-1}\\wedge \\gcd\\left(p, q\\right) = 1\\right)$$"
      ],
      "text/plain": [
       "ForallInSet(Variable(r, deps=()), Set_Rationals, ExistsInSet(Variable(p, deps=()), Set_Integers, ExistsInSet(Variable(q, deps=()), Set_Integers, And(Not(Equals(q, 0)), Equals(r, p * q^-1), Equals(gcd(p, q), 1)))))"
      ]
     },
     "metadata": {},
     "output_type": "display_data"
    },
    {
     "data": {
      "text/latex": [
       "$$\\exists p \\in \\mathbb{Z}: \\exists q \\in \\mathbb{Z}: \\left(q \\not = 0\\wedge \\sqrt{2} = p \\cdot q^{-1}\\wedge \\gcd\\left(p, q\\right) = 1\\right)$$"
      ],
      "text/plain": [
       "ExistsInSet(Variable(p, deps=()), Set_Integers, ExistsInSet(Variable(q, deps=()), Set_Integers, And(Not(Equals(q, 0)), Equals(2^1/2, p * q^-1), Equals(gcd(p, q), 1))))"
      ]
     },
     "metadata": {},
     "output_type": "display_data"
    }
   ],
   "source": [
    "display(Rationals.theorems.ratio_of_integers_lowest_terms)\n",
    "\n",
    "# this means that root_2 = p/q for some integers p and q, q != 0\n",
    "# and gcd(p, q) = 1  , call this Equation 1\n",
    "rt2_ratio = Rationals.theorems.ratio_of_integers_lowest_terms(root_2)\n",
    "display(rt2_ratio)"
   ]
  },
  {
   "cell_type": "code",
   "execution_count": 4,
   "metadata": {},
   "outputs": [
    {
     "name": "stdout",
     "output_type": "stream",
     "text": [
      "exists p:\n",
      "    IsContainedIn(p, Integers)\n",
      "  and\n",
      "    exists q:\n",
      "        IsContainedIn(q, Integers)\n",
      "      and\n",
      "        it is false that\n",
      "          Equals(q, 0)\n",
      "      and\n",
      "        Equals(2^1/2, p * q^-1)\n",
      "      and\n",
      "        Equals(gcd(p, q), 1)\n",
      "\n"
     ]
    }
   ],
   "source": [
    "# example of a nested structure to destructure\n",
    "\n",
    "# a, (b, (c, d)) = [1, [2, [3, 4]]]\n",
    "# print(repr(rt2_ratio))\n",
    "print(rt2_ratio.as_text())"
   ]
  },
  {
   "cell_type": "code",
   "execution_count": 5,
   "metadata": {},
   "outputs": [
    {
     "data": {
      "text/latex": [
       "$$\\sqrt{2} = p \\cdot q^{-1}$$"
      ],
      "text/plain": [
       "Equals(2^1/2, p * q^-1)"
      ]
     },
     "metadata": {},
     "output_type": "display_data"
    },
    {
     "data": {
      "text/latex": [
       "$$\\gcd\\left(p, q\\right) = 1$$"
      ],
      "text/plain": [
       "Equals(gcd(p, q), 1)"
      ]
     },
     "metadata": {},
     "output_type": "display_data"
    }
   ],
   "source": [
    "# p, p_integer_and_q_etc = rt2_ratio\n",
    "# p_integer, q_q_integer_and_etc = p_integer_and_q_etc\n",
    "# q, q_integer_and_etc = q_q_integer_and_etc\n",
    "# q_integer, q_nonzero, rt2_eq_p_over_q, gcd_p_q_eq_1 = q_integer_and_etc\n",
    "\n",
    "\n",
    "p, (_, (q, (_, _, rt2_eq_p_over_q, gcd_p_q_eq_1))) = rt2_ratio\n",
    "\n",
    "display(rt2_eq_p_over_q)\n",
    "display(gcd_p_q_eq_1)\n"
   ]
  },
  {
   "cell_type": "code",
   "execution_count": 6,
   "metadata": {},
   "outputs": [
    {
     "data": {
      "text/latex": [
       "$$2 \\text{ is prime }$$"
      ],
      "text/plain": [
       "Prime(2)"
      ]
     },
     "metadata": {},
     "output_type": "display_data"
    },
    {
     "data": {
      "text/latex": [
       "$$2 > 1\\wedge \\forall a \\in \\mathbb{N}: \\forall b \\in \\mathbb{N}: \\left(2 = a \\cdot b \\rightarrow a = 1\\oplus b = 1\\right)$$"
      ],
      "text/plain": [
       "And(2 > 1, ForallInSet(Variable(a, deps=()), Set_Naturals, ForallInSet(Variable(b, deps=()), Set_Naturals, Implies(Equals(2, a * b), ExOr(Equals(a, 1), Equals(b, 1))))))"
      ]
     },
     "metadata": {},
     "output_type": "display_data"
    }
   ],
   "source": [
    "# 2 is prime\n",
    "two_prime = Naturals.prime(2).by_inspection()\n",
    "display(two_prime)\n",
    "\n",
    "display(two_prime.definition)"
   ]
  },
  {
   "cell_type": "code",
   "execution_count": 7,
   "metadata": {},
   "outputs": [],
   "source": [
    "# root_2 = p/q\n",
    "# =>   2 = p^2/q^2\n",
    "# =>   2q^2 = p^2\n",
    "# =>   p^2 = 2q^2, call this Equation 2\n",
    "p2_eq_2q2 = ((rt2_eq_p_over_q ** 2) * q**2).evaluate().symmetric()\n",
    "\n",
    "# (root_2)^2 = (p/q)^2\n",
    "# =>   (root_2)^2 * q^2 = (p/q)^2 * q^2\n",
    "# evaluate => 2q^2 = p^2\n"
   ]
  },
  {
   "cell_type": "code",
   "execution_count": 8,
   "metadata": {},
   "outputs": [
    {
     "name": "stdout",
     "output_type": "stream",
     "text": [
      "Product division theorem\n"
     ]
    },
    {
     "data": {
      "text/latex": [
       "$$\\forall a \\in \\mathbb{Z}: \\forall b \\in \\mathbb{Z}: \\forall c \\in \\mathbb{Z}: \\left(a = b \\cdot c \\rightarrow \\left. b \\middle| a \\right.\\wedge \\left. c \\middle| a \\right.\\right)$$"
      ],
      "text/plain": [
       "ForallInSet(Variable(a, deps=()), Set_Integers, ForallInSet(Variable(b, deps=()), Set_Integers, ForallInSet(Variable(c, deps=()), Set_Integers, Implies(Equals(a, b * c), And(Divides(b, a, Integers), Divides(c, a, Integers))))))"
      ]
     },
     "metadata": {},
     "output_type": "display_data"
    },
    {
     "data": {
      "text/latex": [
       "$$\\left. 2 \\middle| p^{2} \\right.$$"
      ],
      "text/plain": [
       "Divides(2, p^2, Integers)"
      ]
     },
     "metadata": {},
     "output_type": "display_data"
    }
   ],
   "source": [
    "print(\"Product division theorem\")\n",
    "display(Integers.theorems.division_theorems.product)\n",
    "# by the above theorem, 2 | p^2\n",
    "two_div_p2, _ = Integers.theorems.division_theorems.product(p**2, 2, q**2)(p2_eq_2q2)\n",
    "display(two_div_p2)\n",
    "\n",
    "# display(Integers.theorems.division_theorems.product(p**2, 2, q**2))\n"
   ]
  },
  {
   "cell_type": "code",
   "execution_count": 9,
   "metadata": {},
   "outputs": [
    {
     "name": "stdout",
     "output_type": "stream",
     "text": [
      "Prime divides power theorem\n"
     ]
    },
    {
     "data": {
      "text/latex": [
       "$$\\forall p \\in \\mathbb{N}: \\forall a \\in \\mathbb{Z}: \\forall k \\in \\mathbb{N}: \\left(p \\text{ is prime }\\wedge \\left. p \\middle| a^{k} \\right. \\rightarrow \\left. p \\middle| a \\right.\\right)$$"
      ],
      "text/plain": [
       "ForallInSet(Variable(p, deps=()), Set_Naturals, ForallInSet(Variable(a, deps=()), Set_Integers, ForallInSet(Variable(k, deps=()), Set_Naturals, Implies(And(Prime(p), Divides(p, a^k, Integers)), Divides(p, a, Integers)))))"
      ]
     },
     "metadata": {},
     "output_type": "display_data"
    }
   ],
   "source": [
    "print(\"Prime divides power theorem\")\n",
    "display(Integers.theorems.division_theorems.prime.prime_divides_power)\n",
    "# by the above theorem, 2 | p\n",
    "two_div_p = Integers.theorems.division_theorems.prime.prime_divides_power(2, p, 2)(two_prime, two_div_p2)\n",
    "\n"
   ]
  },
  {
   "cell_type": "code",
   "execution_count": 10,
   "metadata": {},
   "outputs": [
    {
     "data": {
      "text/latex": [
       "$$\\exists q \\in \\mathbb{Z}: p = 2 \\cdot q$$"
      ],
      "text/plain": [
       "ExistsInSet(Variable(q, deps=()), Set_Integers, Equals(p, 2 * q))"
      ]
     },
     "metadata": {},
     "output_type": "display_data"
    },
    {
     "data": {
      "text/latex": [
       "$$\\exists k \\in \\mathbb{Z}: p = 2 \\cdot k$$"
      ],
      "text/plain": [
       "ExistsInSet(Variable(k, deps=()), Set_Integers, Equals(p, 2 * k))"
      ]
     },
     "metadata": {},
     "output_type": "display_data"
    },
    {
     "data": {
      "text/latex": [
       "$$p = 2 \\cdot k$$"
      ],
      "text/plain": [
       "Equals(p, 2 * k)"
      ]
     },
     "metadata": {},
     "output_type": "display_data"
    }
   ],
   "source": [
    "# just the definition of divides, rename the variable as k\n",
    "display(two_div_p.definition)\n",
    "display(two_div_p.definition.rename_variable('k'))\n",
    "k, (_, p_eq_2k) = two_div_p.definition.rename_variable('k') # p = 2k\n",
    "\n",
    "display(p_eq_2k)"
   ]
  },
  {
   "cell_type": "code",
   "execution_count": 11,
   "metadata": {},
   "outputs": [],
   "source": [
    "# substitute Equation 2 (p^2 = 2q^2) right-hand-side into p^2 = (2k)^2\n",
    "# => 2q^2 = (2k)^2\n",
    "# => q^2 = 2k^2\n",
    "q2_eq_2k2 = (p_eq_2k ** 2).substitute(\"right\", p2_eq_2q2) / 2\n",
    "q2_eq_2k2 = q2_eq_2k2.evaluate()\n",
    "\n"
   ]
  },
  {
   "cell_type": "code",
   "execution_count": 12,
   "metadata": {},
   "outputs": [],
   "source": [
    "# again, product division theorem, 2 | q^2\n",
    "two_div_q2, _ = Integers.theorems.division_theorems.product(q**2, 2, k**2)(q2_eq_2k2)\n",
    "# and prime divides power theorem, 2 | q\n",
    "two_div_q = Integers.theorems.division_theorems.prime.prime_divides_power(2, q, 2)(two_prime, two_div_q2)\n",
    "\n"
   ]
  },
  {
   "cell_type": "code",
   "execution_count": 13,
   "metadata": {},
   "outputs": [
    {
     "data": {
      "text/latex": [
       "$$\\forall a \\in \\mathbb{Z}: \\forall b \\in \\mathbb{Z}: \\forall c \\in \\mathbb{Z}: \\left(\\left. a \\middle| b \\right.\\wedge \\left. a \\middle| c \\right. \\rightarrow \\left. a \\middle| \\gcd\\left(b, c\\right) \\right.\\right)$$"
      ],
      "text/plain": [
       "ForallInSet(Variable(a, deps=()), Set_Integers, ForallInSet(Variable(b, deps=()), Set_Integers, ForallInSet(Variable(c, deps=()), Set_Integers, Implies(And(Divides(a, b, Integers), Divides(a, c, Integers)), Divides(a, gcd(b, c), Integers)))))"
      ]
     },
     "metadata": {},
     "output_type": "display_data"
    },
    {
     "data": {
      "text/latex": [
       "$$\\left. 2 \\middle| \\gcd\\left(p, q\\right) \\right.$$"
      ],
      "text/plain": [
       "Divides(2, gcd(p, q), Integers)"
      ]
     },
     "metadata": {},
     "output_type": "display_data"
    }
   ],
   "source": [
    "display(Integers.theorems.division_theorems.gcd)\n",
    "\n",
    "# now we have 2 | p and 2 | q\n",
    "# => 2 | gcd(p, q)\n",
    "two_div_gcd_p_q = Integers.theorems.division_theorems.gcd(2, p, q)(two_div_p, two_div_q)\n",
    "display(two_div_gcd_p_q)\n",
    "\n"
   ]
  },
  {
   "cell_type": "code",
   "execution_count": 14,
   "metadata": {},
   "outputs": [
    {
     "data": {
      "text/latex": [
       "$$\\left. 2 \\middle| 1 \\right.$$"
      ],
      "text/plain": [
       "Divides(2, 1, Integers)"
      ]
     },
     "metadata": {},
     "output_type": "display_data"
    }
   ],
   "source": [
    "# but we know that gcd(p, q) = 1 (Equation 1), so 2 | 1\n",
    "two_div_1 = two_div_gcd_p_q.substitute(\"right\", gcd_p_q_eq_1)\n",
    "display(two_div_1)\n"
   ]
  },
  {
   "cell_type": "code",
   "execution_count": 15,
   "metadata": {},
   "outputs": [
    {
     "data": {
      "text/latex": [
       "$$\\left. 2 \\nmid 1 \\right.$$"
      ],
      "text/plain": [
       "Not(Divides(2, 1, Integers))"
      ]
     },
     "metadata": {},
     "output_type": "display_data"
    }
   ],
   "source": [
    "# 2 clearly does not divide 1, so contradiction\n",
    "two_not_div_1 = Not(Integers.divides(2, 1)).by_inspection()\n",
    "display(two_not_div_1)"
   ]
  },
  {
   "cell_type": "code",
   "execution_count": 16,
   "metadata": {},
   "outputs": [
    {
     "data": {
      "text/latex": [
       "$$\\text{contradiction}$$"
      ],
      "text/plain": [
       "Proposition(contradiction)"
      ]
     },
     "metadata": {},
     "output_type": "display_data"
    }
   ],
   "source": [
    "contra = two_div_1.contradicts(two_not_div_1)\n",
    "\n",
    "conclude(contra)\n",
    "display(contra)\n",
    "\n",
    "\n",
    "ctx.close()\n"
   ]
  },
  {
   "cell_type": "code",
   "execution_count": 17,
   "metadata": {},
   "outputs": [
    {
     "data": {
      "text/latex": [
       "$$\\sqrt{2} \\not \\in \\mathbb{Q}$$"
      ],
      "text/plain": [
       "Not(IsContainedIn(2^1/2, Rationals))"
      ]
     },
     "execution_count": 17,
     "metadata": {},
     "output_type": "execute_result"
    }
   ],
   "source": [
    "ctx.get_proven()[0]"
   ]
  },
  {
   "cell_type": "code",
   "execution_count": null,
   "metadata": {},
   "outputs": [],
   "source": []
  }
 ],
 "metadata": {
  "kernelspec": {
   "display_name": "Python 3",
   "language": "python",
   "name": "python3"
  },
  "language_info": {
   "codemirror_mode": {
    "name": "ipython",
    "version": 3
   },
   "file_extension": ".py",
   "mimetype": "text/x-python",
   "name": "python",
   "nbconvert_exporter": "python",
   "pygments_lexer": "ipython3",
   "version": "3.11.4"
  }
 },
 "nbformat": 4,
 "nbformat_minor": 2
}
