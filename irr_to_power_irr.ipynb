{
 "cells": [
  {
   "cell_type": "markdown",
   "metadata": {},
   "source": [
    "# Irrational to Irrational Power Gives Rational\n",
    "\n",
    "This is the proof that there exists an irrational number $x$ and an irrational number $y$ such that $x^y$ is rational."
   ]
  },
  {
   "cell_type": "code",
   "execution_count": 11,
   "metadata": {},
   "outputs": [],
   "source": [
    "from pylogic import *\n",
    "from pylogic.abc import x,y"
   ]
  },
  {
   "cell_type": "code",
   "execution_count": 12,
   "metadata": {},
   "outputs": [
    {
     "data": {
      "text/latex": [
       "$$\\left(\\sqrt{2}\\right)^{\\sqrt{2}}$$"
      ],
      "text/plain": [
       "Pow(Pow(Constant(2, deps=()), Constant(1/2, deps=())), Pow(Constant(2, deps=()), Constant(1/2, deps=())))"
      ]
     },
     "execution_count": 12,
     "metadata": {},
     "output_type": "execute_result"
    }
   ],
   "source": [
    "root_2 = sqrt(2)\n",
    "two = Constant(2)\n",
    "\n",
    "root_2_pow_root_2 = root_2 ** root_2\n",
    "root_2_pow_root_2"
   ]
  },
  {
   "cell_type": "code",
   "execution_count": 13,
   "metadata": {},
   "outputs": [
    {
     "data": {
      "text/latex": [
       "$$\\exists x \\in \\mathbb{R}: \\exists y \\in \\mathbb{R}: \\left(x \\not \\in \\mathbb{Q}\\wedge y \\not \\in \\mathbb{Q}\\wedge x^{y} \\in \\mathbb{Q}\\right)$$"
      ],
      "text/plain": [
       "ExistsInSet(Variable(x, deps=()), Set_Reals, ExistsInSet(Variable(y, deps=()), Set_Reals, And(Not(IsContainedIn(x, Rationals)), Not(IsContainedIn(y, Rationals)), IsContainedIn(x^y, Rationals))))"
      ]
     },
     "execution_count": 13,
     "metadata": {},
     "output_type": "execute_result"
    }
   ],
   "source": [
    "to_show = ExistsInSet(x, Reals,\n",
    "                      ExistsInSet(y, Reals,\n",
    "                                  x.is_not_in(Rationals).and_(y.is_not_in(Rationals),(x ** y).is_in(Rationals))\n",
    "                                )\n",
    "                    )\n",
    "to_show"
   ]
  },
  {
   "cell_type": "code",
   "execution_count": 14,
   "metadata": {},
   "outputs": [
    {
     "data": {
      "text/latex": [
       "$$\\sqrt{2} \\not \\in \\mathbb{Q}$$"
      ],
      "text/plain": [
       "Not(IsContainedIn(2^1/2, Rationals))"
      ]
     },
     "metadata": {},
     "output_type": "display_data"
    },
    {
     "data": {
      "text/latex": [
       "$$2 \\in \\mathbb{Q}$$"
      ],
      "text/plain": [
       "IsContainedIn(2, Rationals)"
      ]
     },
     "metadata": {},
     "output_type": "display_data"
    },
    {
     "name": "stdout",
     "output_type": "stream",
     "text": [
      "True\n"
     ]
    }
   ],
   "source": [
    "root_2_not_in_Q = Rationals.theorems.root_2_irrational\n",
    "display(root_2_not_in_Q)\n",
    "two_in_Q = two.is_in(Rationals).by_inspection()\n",
    "display(two_in_Q)\n",
    "print(two_in_Q.is_proven)"
   ]
  },
  {
   "cell_type": "code",
   "execution_count": 15,
   "metadata": {},
   "outputs": [
    {
     "data": {
      "text/latex": [
       "$$\\sqrt{2}^{\\sqrt{2}} \\not \\in \\mathbb{Q} \\rightarrow \\left(\\exists x \\in \\mathbb{R}: \\exists y \\in \\mathbb{R}: \\left(x \\not \\in \\mathbb{Q}\\wedge y \\not \\in \\mathbb{Q}\\wedge x^{y} \\in \\mathbb{Q}\\right)\\right)$$"
      ],
      "text/plain": [
       "Implies(Not(IsContainedIn((2^1/2)^(2^1/2), Rationals)), ExistsInSet(Variable(x, deps=()), Set_Reals, ExistsInSet(Variable(y, deps=()), Set_Reals, And(Not(IsContainedIn(x, Rationals)), Not(IsContainedIn(y, Rationals)), IsContainedIn(x^y, Rationals)))))"
      ]
     },
     "metadata": {},
     "output_type": "display_data"
    },
    {
     "data": {
      "text/plain": [
       "True"
      ]
     },
     "execution_count": 15,
     "metadata": {},
     "output_type": "execute_result"
    }
   ],
   "source": [
    "with AssumptionsContext() as case_rational:\n",
    "    pow_in_Q = root_2_pow_root_2.is_in(Rationals).assume()\n",
    "    conjunction = root_2_not_in_Q.and_(root_2_not_in_Q, pow_in_Q, allow_duplicates=True)\n",
    "    (to_show.by_substitution(root_2, root_2, proven=conjunction))\n",
    "case_rational = case_rational.get_proven()[0]\n",
    "\n",
    "with AssumptionsContext() as case_irrrational:\n",
    "    pow_not_in_Q = root_2_pow_root_2.is_not_in(Rationals).assume()\n",
    "    two_eq_pow_pow_root_2 = two.equals(root_2_pow_root_2 ** root_2).by_simplification()\n",
    "    pow_pow_in_Q = two_in_Q.substitute(\"right\", two_eq_pow_pow_root_2)\n",
    "    conjunction = pow_not_in_Q.and_(root_2_not_in_Q, pow_pow_in_Q)\n",
    "    to_show.by_substitution(root_2_pow_root_2, root_2, proven=conjunction)\n",
    "case_irrrational = case_irrrational.get_proven()[0]\n",
    "display(case_irrrational)\n",
    "\n",
    "result = Reals.theorems.either_rational_or_irrational(root_2_pow_root_2).by_cases(case_rational, case_irrrational)\n",
    "has_been_proven(to_show, result)"
   ]
  },
  {
   "cell_type": "code",
   "execution_count": null,
   "metadata": {},
   "outputs": [],
   "source": []
  },
  {
   "cell_type": "code",
   "execution_count": null,
   "metadata": {},
   "outputs": [],
   "source": []
  }
 ],
 "metadata": {
  "kernelspec": {
   "display_name": "Python 3",
   "language": "python",
   "name": "python3"
  },
  "language_info": {
   "codemirror_mode": {
    "name": "ipython",
    "version": 3
   },
   "file_extension": ".py",
   "mimetype": "text/x-python",
   "name": "python",
   "nbconvert_exporter": "python",
   "pygments_lexer": "ipython3",
   "version": "3.11.4"
  }
 },
 "nbformat": 4,
 "nbformat_minor": 2
}
