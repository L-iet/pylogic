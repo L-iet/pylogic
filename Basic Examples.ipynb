{
 "cells": [
  {
   "cell_type": "code",
   "execution_count": 1,
   "metadata": {},
   "outputs": [
    {
     "data": {
      "text/latex": [
       "$$\\text{p}\\wedge \\text{q}\\vee \\text{p}\\wedge \\text{r}$$"
      ],
      "text/plain": [
       "Or(And(Proposition(p), Proposition(q)), And(Proposition(p), Proposition(r)))"
      ]
     },
     "metadata": {},
     "output_type": "display_data"
    },
    {
     "name": "stdout",
     "output_type": "stream",
     "text": [
      "True\n"
     ]
    }
   ],
   "source": [
    "from pylogic import *\n",
    "from pylogic.proposition.proof_search import proof_search\n",
    "p, q, r = props(\"p\", \"q\", \"r\")\n",
    "\n",
    "kb = [\n",
    "    p.assume(),\n",
    "    q.or_(r).assume(),\n",
    "]\n",
    "goal = p.and_(q).or_(p.and_(r)) # (p /\\ q) \\/ (p /\\ r)\n",
    "proof = proof_search(kb, target=goal)\n",
    "\n",
    "display(proof)\n",
    "print(proof.is_proven)"
   ]
  },
  {
   "cell_type": "code",
   "execution_count": 2,
   "metadata": {},
   "outputs": [],
   "source": [
    "from pylogic import *"
   ]
  },
  {
   "cell_type": "code",
   "execution_count": 3,
   "metadata": {},
   "outputs": [
    {
     "data": {
      "text/latex": [
       "$$1 = 1$$"
      ],
      "text/plain": [
       "Equals(1, 1)"
      ]
     },
     "execution_count": 3,
     "metadata": {},
     "output_type": "execute_result"
    }
   ],
   "source": [
    "neg_1 = Constant(-1)\n",
    "one = Constant(1)\n",
    "\n",
    "p = ((neg_1**2).equals(one**2)\n",
    "     .by_eval()\n",
    "     .apply(sqrt)\n",
    "     .evaluate()\n",
    ")\n",
    "p\n"
   ]
  },
  {
   "cell_type": "code",
   "execution_count": null,
   "metadata": {},
   "outputs": [],
   "source": []
  }
 ],
 "metadata": {
  "kernelspec": {
   "display_name": "Python 3",
   "language": "python",
   "name": "python3"
  },
  "language_info": {
   "codemirror_mode": {
    "name": "ipython",
    "version": 3
   },
   "file_extension": ".py",
   "mimetype": "text/x-python",
   "name": "python",
   "nbconvert_exporter": "python",
   "pygments_lexer": "ipython3",
   "version": "3.11.4"
  }
 },
 "nbformat": 4,
 "nbformat_minor": 2
}
