{
 "cells": [
  {
   "cell_type": "code",
   "execution_count": 4,
   "metadata": {},
   "outputs": [],
   "source": [
    "from pylogic import *"
   ]
  },
  {
   "cell_type": "code",
   "execution_count": 5,
   "metadata": {},
   "outputs": [],
   "source": [
    "p, q, r = props(\"p\", \"q\", \"r\")"
   ]
  },
  {
   "cell_type": "code",
   "execution_count": 6,
   "metadata": {},
   "outputs": [
    {
     "data": {
      "text/latex": [
       "$$\\text{p}\\wedge \\left(\\text{q}\\vee \\text{r}\\right) \\rightarrow \\text{p}\\wedge \\text{q}\\vee \\text{p}\\wedge \\text{r}$$"
      ],
      "text/plain": [
       "Implies(And(Proposition(p), Or(Proposition(q), Proposition(r))), Or(And(Proposition(p), Proposition(q)), And(Proposition(p), Proposition(r))))"
      ]
     },
     "metadata": {},
     "output_type": "display_data"
    }
   ],
   "source": [
    "with AssumptionsContext() as ctx:\n",
    "    p.assume()\n",
    "    with AssumptionsContext() as ctx2a:\n",
    "        p.and_(q.assume())\n",
    "    with AssumptionsContext() as ctx2b:\n",
    "        p.and_(r.assume())\n",
    "    q.or_(r).assume().by_cases(ctx2a.get_proven()[0], ctx2b.get_proven()[0])\n",
    "display(ctx.get_proven()[0])"
   ]
  },
  {
   "cell_type": "code",
   "execution_count": null,
   "metadata": {},
   "outputs": [],
   "source": []
  }
 ],
 "metadata": {
  "kernelspec": {
   "display_name": "Python 3",
   "language": "python",
   "name": "python3"
  },
  "language_info": {
   "codemirror_mode": {
    "name": "ipython",
    "version": 3
   },
   "file_extension": ".py",
   "mimetype": "text/x-python",
   "name": "python",
   "nbconvert_exporter": "python",
   "pygments_lexer": "ipython3",
   "version": "3.11.4"
  }
 },
 "nbformat": 4,
 "nbformat_minor": 2
}
