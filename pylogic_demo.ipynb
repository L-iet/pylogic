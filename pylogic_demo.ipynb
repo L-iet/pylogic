{
 "cells": [
  {
   "cell_type": "markdown",
   "id": "78359103",
   "metadata": {},
   "source": [
    "Proving that 0 is the unique additive identity of Reals."
   ]
  },
  {
   "cell_type": "code",
   "execution_count": 3,
   "id": "24587504",
   "metadata": {},
   "outputs": [],
   "source": [
    "from pylogic.theories.real_analysis import Reals\n",
    "from pylogic.variable import Variable\n",
    "from pylogic.constant import Constant\n",
    "from pylogic.helpers import assume\n",
    "\n",
    "from pylogic.proposition.not_ import Not\n"
   ]
  },
  {
   "cell_type": "code",
   "execution_count": null,
   "id": "49f33764",
   "metadata": {},
   "outputs": [
    {
     "data": {
      "text/latex": [
       "$$r \\in \\mathbb{R} \\rightarrow r = 0$$"
      ],
      "text/plain": [
       "Implies(IsContainedIn(r, Reals), Equals(r, 0))"
      ]
     },
     "execution_count": 9,
     "metadata": {},
     "output_type": "execute_result"
    }
   ],
   "source": [
    "r = Variable(\"r\")\n",
    "z = Constant(\"z\")\n",
    "\n",
    "p0 = r.is_in(Reals)\n",
    "\n",
    "p1 = r.equals(0)\n",
    "\n",
    "p0_implies_p1 = assume(p0.implies(p1))\n",
    "\n",
    "p0_implies_p1.is_proven\n",
    "\n",
    "p0_implies_p1\n",
    "\n"
   ]
  },
  {
   "cell_type": "code",
   "execution_count": null,
   "id": "05ff3d5e",
   "metadata": {},
   "outputs": [],
   "source": [
    "\n",
    "p_ = assume(Not(r.equals(0)))\n",
    "p1 = assume( z.is_in(Reals) )\n",
    "p2 = assume((r + z).equals(r))"
   ]
  },
  {
   "cell_type": "code",
   "execution_count": 3,
   "id": "2d98fbec",
   "metadata": {},
   "outputs": [
    {
     "name": "stdout",
     "output_type": "stream",
     "text": [
      "True\n",
      "False\n",
      "True\n"
     ]
    },
    {
     "data": {
      "text/latex": [
       "$$r \\in \\mathbb{R}$$"
      ],
      "text/plain": [
       "IsContainedIn(r, Reals)"
      ]
     },
     "execution_count": 3,
     "metadata": {},
     "output_type": "execute_result"
    }
   ],
   "source": [
    "\n",
    "r_inv = (1/r)\n",
    "print(r.is_real)\n",
    "print(r.is_zero)\n",
    "print(r_inv.is_real)\n",
    "\n",
    "r.is_in(Reals).by_inspection()"
   ]
  },
  {
   "cell_type": "code",
   "execution_count": 11,
   "id": "e6170051",
   "metadata": {},
   "outputs": [
    {
     "data": {
      "text/latex": [
       "$$z \\cdot r^{-1}$$"
      ],
      "text/plain": [
       "Mul(Constant(z, deps=()), Pow(Variable(r, deps=()), Constant(-1, deps=())))"
      ]
     },
     "execution_count": 11,
     "metadata": {},
     "output_type": "execute_result"
    }
   ],
   "source": [
    "(z/r).is_real\n",
    "\n",
    "z/r"
   ]
  },
  {
   "cell_type": "code",
   "execution_count": 4,
   "id": "c8057f6a",
   "metadata": {},
   "outputs": [
    {
     "data": {
      "text/latex": [
       "$$\\exists a_{\\text{inv}} \\in \\mathbb{R}: \\left(r + a_{\\text{inv}} = 0\\wedge a_{\\text{inv}} + r = 0\\right)$$"
      ],
      "text/plain": [
       "ExistsUniqueInSet(Variable(a_inv, deps=()), Set_Reals, And(Equals(r + a_inv, 0), Equals(a_inv + r, 0)))"
      ]
     },
     "execution_count": 4,
     "metadata": {},
     "output_type": "execute_result"
    }
   ],
   "source": [
    "Reals.have_add_inverses(r)"
   ]
  },
  {
   "cell_type": "code",
   "execution_count": null,
   "id": "f587ab7e",
   "metadata": {},
   "outputs": [
    {
     "data": {
      "text/latex": [
       "$$0 = -r + r$$"
      ],
      "text/plain": [
       "Equals(0, a_inv + r)"
      ]
     },
     "execution_count": 5,
     "metadata": {},
     "output_type": "execute_result"
    }
   ],
   "source": [
    "neg_r, neg_r_is_add_inv = Reals.have_add_inverses(r).extract(name=\"-r\")\n",
    "zero_eq_neg_r_plus_r = neg_r_is_add_inv.extract()[2].symmetric()\n",
    "zero_eq_neg_r_plus_r"
   ]
  },
  {
   "cell_type": "code",
   "execution_count": 14,
   "id": "fe39738d",
   "metadata": {},
   "outputs": [
    {
     "data": {
      "text/latex": [
       "$$a_{\\text{inv}} + \\left(r + z\\right) = a_{\\text{inv}} + r$$"
      ],
      "text/plain": [
       "Equals(a_inv + (r + z), a_inv + r)"
      ]
     },
     "execution_count": 14,
     "metadata": {},
     "output_type": "execute_result"
    }
   ],
   "source": [
    "\n",
    "p3 = p2.apply(lambda t: neg_r + t)\n",
    "p3"
   ]
  },
  {
   "cell_type": "code",
   "execution_count": 15,
   "id": "ebdfa8a8",
   "metadata": {},
   "outputs": [
    {
     "data": {
      "text/latex": [
       "$$a_{\\text{inv}} + \\left(r + z\\right) = \\left(a_{\\text{inv}} + r\\right) + z$$"
      ],
      "text/plain": [
       "Equals(a_inv + (r + z), (a_inv + r) + z)"
      ]
     },
     "execution_count": 15,
     "metadata": {},
     "output_type": "execute_result"
    }
   ],
   "source": [
    "p4 = Reals.plus_is_associative(neg_r, r, z).symmetric()\n",
    "p4"
   ]
  },
  {
   "cell_type": "code",
   "execution_count": 16,
   "id": "330e3e17",
   "metadata": {},
   "outputs": [
    {
     "data": {
      "text/latex": [
       "$$a_{\\text{inv}} + \\left(r + z\\right) = 0 + z$$"
      ],
      "text/plain": [
       "Equals(a_inv + (r + z), 0 + z)"
      ]
     },
     "execution_count": 16,
     "metadata": {},
     "output_type": "execute_result"
    }
   ],
   "source": [
    "p5 = zero_eq_neg_r_plus_r.p_substitute_into(\"left\", p4)\n",
    "p5"
   ]
  },
  {
   "cell_type": "code",
   "execution_count": 17,
   "id": "eb3bbf72",
   "metadata": {},
   "outputs": [
    {
     "data": {
      "text/latex": [
       "$$0 + z = z$$"
      ],
      "text/plain": [
       "Equals(0 + z, z)"
      ]
     },
     "execution_count": 17,
     "metadata": {},
     "output_type": "execute_result"
    }
   ],
   "source": [
    "zero_plus_z_eq_z = Reals.plus_has_identity.extract()[1](z).extract()[1]\n",
    "zero_plus_z_eq_z"
   ]
  },
  {
   "cell_type": "code",
   "execution_count": 18,
   "id": "0d8d7787",
   "metadata": {},
   "outputs": [
    {
     "data": {
      "text/latex": [
       "$$0 = z$$"
      ],
      "text/plain": [
       "Equals(0, z)"
      ]
     },
     "execution_count": 18,
     "metadata": {},
     "output_type": "execute_result"
    }
   ],
   "source": [
    "zero_eq_z = zero_eq_neg_r_plus_r.transitive(\n",
    "    p3.symmetric(),\n",
    "    p5,\n",
    "    zero_plus_z_eq_z\n",
    ")\n",
    "zero_eq_z"
   ]
  },
  {
   "cell_type": "code",
   "execution_count": 19,
   "id": "73705fec",
   "metadata": {},
   "outputs": [
    {
     "data": {
      "text/latex": [
       "$$z = 0$$"
      ],
      "text/plain": [
       "Equals(z, 0)"
      ]
     },
     "execution_count": 19,
     "metadata": {},
     "output_type": "execute_result"
    }
   ],
   "source": [
    "z_eq_0 = zero_eq_z.symmetric()\n",
    "z_eq_0"
   ]
  },
  {
   "cell_type": "code",
   "execution_count": null,
   "id": "921dd28c",
   "metadata": {},
   "outputs": [],
   "source": []
  },
  {
   "cell_type": "code",
   "execution_count": null,
   "id": "ac17d723",
   "metadata": {},
   "outputs": [],
   "source": []
  },
  {
   "cell_type": "code",
   "execution_count": null,
   "id": "78a5d29d",
   "metadata": {},
   "outputs": [],
   "source": []
  }
 ],
 "metadata": {
  "kernelspec": {
   "display_name": "Python 3",
   "language": "python",
   "name": "python3"
  },
  "language_info": {
   "codemirror_mode": {
    "name": "ipython",
    "version": 3
   },
   "file_extension": ".py",
   "mimetype": "text/x-python",
   "name": "python",
   "nbconvert_exporter": "python",
   "pygments_lexer": "ipython3",
   "version": "3.11.4"
  }
 },
 "nbformat": 4,
 "nbformat_minor": 5
}
