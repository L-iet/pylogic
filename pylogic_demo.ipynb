{
 "cells": [
  {
   "cell_type": "markdown",
   "id": "f9699bbf",
   "metadata": {},
   "source": [
    "Limit of $x^2$ as $x\\to 0$ is 0\n"
   ]
  },
  {
   "cell_type": "code",
   "execution_count": 1,
   "id": "dfe1f8eb",
   "metadata": {},
   "outputs": [],
   "source": [
    "# forall x: forall eps: [eps > 0 -> exists delta: (delta > 0 /\\ [Abs(x) < delta -> x**2 < eps])]"
   ]
  },
  {
   "cell_type": "code",
   "execution_count": 14,
   "id": "569a2c60",
   "metadata": {},
   "outputs": [],
   "source": [
    "from pylogic.proposition.ordering.greaterthan import GreaterThan\n",
    "from pylogic.proposition.ordering.lessthan import LessThan\n",
    "from pylogic.proposition.relation.equals import Equals\n",
    "from pylogic.proposition.not_ import Not, neg\n",
    "from pylogic.variable import Variable\n",
    "from pylogic.proposition.quantified.forall import Forall\n",
    "from pylogic.proposition.ordering.theorems import order_axiom_bf, absolute_value_nonnegative_f\n"
   ]
  },
  {
   "cell_type": "code",
   "execution_count": 3,
   "id": "5ca54a68",
   "metadata": {},
   "outputs": [
    {
     "data": {
      "text/latex": [
       "$$\\forall x: \\forall eps: \\left(eps > 0 \\rightarrow \\exists \\delta: \\left(\\delta > 0\\wedge \\left(\\left|{x}\\right| < \\delta \\rightarrow x^{2} < eps\\right)\\right)\\right)$$"
      ],
      "text/plain": [
       "forall x: forall eps: [eps > 0 -> exists delta: (delta > 0 /\\ [Abs(x) < delta -> x**2 < eps])]"
      ]
     },
     "execution_count": 3,
     "metadata": {},
     "output_type": "execute_result"
    }
   ],
   "source": [
    "x = Variable(\"x\", real=True)\n",
    "abs_x = sp.Abs(x)\n",
    "abs_x_not_0 = neg(Equals(abs_x, 0), is_assumption=True)\n",
    "\n",
    "eps = Variable(\"eps\", real=True)\n",
    "eps_positive = GreaterThan(eps, 0, is_assumption=True)\n",
    "\n",
    "absolute_x_positive = GreaterThan.is_absolute(abs_x, abs_x_not_0)\n",
    "root_eps_positive = GreaterThan.is_rational_power(sp.sqrt(eps), eps_positive)\n",
    "absx_lt_sqrt_eps = LessThan(abs_x, sp.sqrt(eps), is_assumption=True)\n",
    "xsq_lt_eps_t_absx = absx_lt_sqrt_eps.p_multiply_by_positive(abs_x, absolute_x_positive)\n",
    "eps_t_absx_lt_eps = absx_lt_sqrt_eps.p_multiply_by_positive(sp.sqrt(eps), root_eps_positive)\n",
    "xsq_lt_eps = xsq_lt_eps_t_absx.transitive(eps_t_absx_lt_eps)\n",
    "\n",
    "lim_x_sq_at_0 = (\n",
    "    xsq_lt_eps.followed_from(absx_lt_sqrt_eps)\n",
    "    .p_and_reverse(root_eps_positive)\n",
    "    .thus_there_exists(\"delta\", sp.sqrt(eps), [[0], [1, 0]])\n",
    "    .followed_from(eps_positive)\n",
    "    .thus_forall(eps)\n",
    "    .thus_forall(x)\n",
    ")\n",
    "lim_x_sq_at_0"
   ]
  },
  {
   "cell_type": "markdown",
   "id": "ccc59ce8",
   "metadata": {},
   "source": [
    "###  Proving Theorem 1.2.6 (the converse statement) Understanding Analysis, 2nd Edition\n",
    "if (forall eps>0, |a-b|<eps) then a = b"
   ]
  },
  {
   "cell_type": "code",
   "execution_count": 18,
   "id": "ce043dcf",
   "metadata": {},
   "outputs": [
    {
     "data": {
      "text/latex": [
       "$$a - b = 0$$"
      ],
      "text/plain": [
       "a - b = 0"
      ]
     },
     "execution_count": 18,
     "metadata": {},
     "output_type": "execute_result"
    }
   ],
   "source": [
    "a = ps.Symbol(\"a\", real=True)\n",
    "b = ps.Symbol(\"b\", real=True)\n",
    "\n",
    "abs_a_minus_b = sp.Abs(a - b) # type:ignore\n",
    "premise = Forall(eps, GreaterThan(eps, 0).implies(LessThan(abs_a_minus_b, eps)), is_assumption=True)\n",
    "premise2 = premise.in_particular(abs_a_minus_b)\n",
    "\n",
    "# ~ |a-b| > 0\n",
    "abs_a_minus_b_is_not_pos: Not[GreaterThan] = (\n",
    "    Equals(abs_a_minus_b, abs_a_minus_b).by_simplification()\n",
    "    .modus_ponens(order_axiom_bf(abs_a_minus_b, abs_a_minus_b))\n",
    "    .modus_tollens(premise2)\n",
    "\n",
    ")\n",
    "abs_a_minus_b_is_0: Equals = absolute_value_nonnegative_f(abs_a_minus_b).unit_resolve(abs_a_minus_b_is_not_pos) #type:ignore\n",
    "\n",
    "abs_a_minus_b_is_0.zero_abs_is_0()\n"
   ]
  },
  {
   "cell_type": "code",
   "execution_count": null,
   "id": "71179886",
   "metadata": {},
   "outputs": [],
   "source": []
  },
  {
   "cell_type": "markdown",
   "id": "78359103",
   "metadata": {},
   "source": [
    "Proving that 0 is the unique additive identity of Reals."
   ]
  },
  {
   "cell_type": "code",
   "execution_count": 1,
   "id": "24587504",
   "metadata": {},
   "outputs": [],
   "source": [
    "from pylogic.theories.real_analysis import Reals\n",
    "from pylogic.variable import Variable\n",
    "from pylogic.constant import Constant\n",
    "from pylogic.helpers import assume\n"
   ]
  },
  {
   "cell_type": "code",
   "execution_count": 11,
   "id": "49f33764",
   "metadata": {},
   "outputs": [],
   "source": [
    "r = Variable(\"r\")\n",
    "z = Constant(\"z\")\n",
    "p0 = assume( r.is_in(Reals) )\n",
    "p1 = assume( z.is_in(Reals) )\n",
    "p2 = assume((r + z).equals(r))\n"
   ]
  },
  {
   "cell_type": "code",
   "execution_count": 12,
   "id": "2d98fbec",
   "metadata": {},
   "outputs": [
    {
     "data": {
      "text/latex": [
       "$$\\exists a_{\\text{inv}} \\in \\mathbb{R}: \\left(r + a_{\\text{inv}} = 0\\wedge a_{\\text{inv}} + r = 0\\right)$$"
      ],
      "text/plain": [
       "ExistsUniqueInSet(Variable(a_inv, deps=()), Set_Reals, And(Equals(r + a_inv, 0), Equals(a_inv + r, 0)))"
      ]
     },
     "execution_count": 12,
     "metadata": {},
     "output_type": "execute_result"
    }
   ],
   "source": [
    "Reals.have_add_inverses(r)"
   ]
  },
  {
   "cell_type": "code",
   "execution_count": 20,
   "id": "c8057f6a",
   "metadata": {},
   "outputs": [
    {
     "data": {
      "text/latex": [
       "$$\\forall a \\in \\mathbb{R}: \\exists a_{\\text{inv}} \\in \\mathbb{R}: \\left(a + a_{\\text{inv}} = 0\\wedge a_{\\text{inv}} + a = 0\\right)$$"
      ],
      "text/plain": [
       "ForallInSet(Variable(a, deps=()), Set_Reals, ExistsUniqueInSet(Variable(a_inv, deps=()), Set_Reals, And(Equals(a + a_inv, 0), Equals(a_inv + a, 0))))"
      ]
     },
     "execution_count": 20,
     "metadata": {},
     "output_type": "execute_result"
    }
   ],
   "source": [
    "Reals.have_add_inverses"
   ]
  },
  {
   "cell_type": "code",
   "execution_count": 13,
   "id": "f587ab7e",
   "metadata": {},
   "outputs": [
    {
     "data": {
      "text/latex": [
       "$$0 = a_{\\text{inv}} + r$$"
      ],
      "text/plain": [
       "Equals(0, a_inv + r)"
      ]
     },
     "execution_count": 13,
     "metadata": {},
     "output_type": "execute_result"
    }
   ],
   "source": [
    "neg_r, neg_r_is_add_inv = Reals.have_add_inverses(r).extract()\n",
    "zero_eq_neg_r_plus_r = neg_r_is_add_inv.extract()[2].symmetric()\n",
    "zero_eq_neg_r_plus_r"
   ]
  },
  {
   "cell_type": "code",
   "execution_count": 14,
   "id": "fe39738d",
   "metadata": {},
   "outputs": [
    {
     "data": {
      "text/latex": [
       "$$a_{\\text{inv}} + \\left(r + z\\right) = a_{\\text{inv}} + r$$"
      ],
      "text/plain": [
       "Equals(a_inv + (r + z), a_inv + r)"
      ]
     },
     "execution_count": 14,
     "metadata": {},
     "output_type": "execute_result"
    }
   ],
   "source": [
    "\n",
    "p3 = p2.apply(lambda t: neg_r + t)\n",
    "p3"
   ]
  },
  {
   "cell_type": "code",
   "execution_count": 15,
   "id": "ebdfa8a8",
   "metadata": {},
   "outputs": [
    {
     "data": {
      "text/latex": [
       "$$a_{\\text{inv}} + \\left(r + z\\right) = \\left(a_{\\text{inv}} + r\\right) + z$$"
      ],
      "text/plain": [
       "Equals(a_inv + (r + z), (a_inv + r) + z)"
      ]
     },
     "execution_count": 15,
     "metadata": {},
     "output_type": "execute_result"
    }
   ],
   "source": [
    "p4 = Reals.plus_is_associative(neg_r, r, z).symmetric()\n",
    "p4"
   ]
  },
  {
   "cell_type": "code",
   "execution_count": 16,
   "id": "330e3e17",
   "metadata": {},
   "outputs": [
    {
     "data": {
      "text/latex": [
       "$$a_{\\text{inv}} + \\left(r + z\\right) = 0 + z$$"
      ],
      "text/plain": [
       "Equals(a_inv + (r + z), 0 + z)"
      ]
     },
     "execution_count": 16,
     "metadata": {},
     "output_type": "execute_result"
    }
   ],
   "source": [
    "p5 = zero_eq_neg_r_plus_r.p_substitute_into(\"left\", p4)\n",
    "p5"
   ]
  },
  {
   "cell_type": "code",
   "execution_count": 17,
   "id": "eb3bbf72",
   "metadata": {},
   "outputs": [
    {
     "data": {
      "text/latex": [
       "$$0 + z = z$$"
      ],
      "text/plain": [
       "Equals(0 + z, z)"
      ]
     },
     "execution_count": 17,
     "metadata": {},
     "output_type": "execute_result"
    }
   ],
   "source": [
    "zero_plus_z_eq_z = Reals.plus_has_identity.extract()[1](z).extract()[1]\n",
    "zero_plus_z_eq_z"
   ]
  },
  {
   "cell_type": "code",
   "execution_count": 18,
   "id": "0d8d7787",
   "metadata": {},
   "outputs": [
    {
     "data": {
      "text/latex": [
       "$$0 = z$$"
      ],
      "text/plain": [
       "Equals(0, z)"
      ]
     },
     "execution_count": 18,
     "metadata": {},
     "output_type": "execute_result"
    }
   ],
   "source": [
    "zero_eq_z = zero_eq_neg_r_plus_r.transitive(\n",
    "    p3.symmetric(),\n",
    "    p5,\n",
    "    zero_plus_z_eq_z\n",
    ")\n",
    "zero_eq_z"
   ]
  },
  {
   "cell_type": "code",
   "execution_count": 19,
   "id": "73705fec",
   "metadata": {},
   "outputs": [
    {
     "data": {
      "text/latex": [
       "$$z = 0$$"
      ],
      "text/plain": [
       "Equals(z, 0)"
      ]
     },
     "execution_count": 19,
     "metadata": {},
     "output_type": "execute_result"
    }
   ],
   "source": [
    "z_eq_0 = zero_eq_z.symmetric()\n",
    "z_eq_0"
   ]
  },
  {
   "cell_type": "code",
   "execution_count": null,
   "id": "921dd28c",
   "metadata": {},
   "outputs": [],
   "source": []
  },
  {
   "cell_type": "code",
   "execution_count": null,
   "id": "ac17d723",
   "metadata": {},
   "outputs": [],
   "source": []
  },
  {
   "cell_type": "code",
   "execution_count": null,
   "id": "78a5d29d",
   "metadata": {},
   "outputs": [],
   "source": []
  }
 ],
 "metadata": {
  "kernelspec": {
   "display_name": "Python 3",
   "language": "python",
   "name": "python3"
  },
  "language_info": {
   "codemirror_mode": {
    "name": "ipython",
    "version": 3
   },
   "file_extension": ".py",
   "mimetype": "text/x-python",
   "name": "python",
   "nbconvert_exporter": "python",
   "pygments_lexer": "ipython3",
   "version": "3.11.4"
  }
 },
 "nbformat": 4,
 "nbformat_minor": 5
}
