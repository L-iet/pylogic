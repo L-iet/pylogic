{
 "cells": [
  {
   "cell_type": "code",
   "execution_count": 1,
   "id": "e6f057e0",
   "metadata": {},
   "outputs": [],
   "source": [
    "from pylogic import *"
   ]
  },
  {
   "cell_type": "code",
   "execution_count": 2,
   "id": "9210f03e",
   "metadata": {},
   "outputs": [],
   "source": [
    "neg_1 = Constant(-1)\n",
    "one = Constant(1)\n",
    "\n",
    "p1 = (neg_1 **2).equals(one **2).by_eval(); #display(p1)\n",
    "p2 = p1.apply(sqrt); #display(p2)\n",
    "p3 = p2.evaluate(); #display(p3)\n"
   ]
  },
  {
   "cell_type": "code",
   "execution_count": null,
   "id": "3dec4d07",
   "metadata": {},
   "outputs": [],
   "source": []
  },
  {
   "cell_type": "code",
   "execution_count": 4,
   "id": "b264bc70",
   "metadata": {},
   "outputs": [],
   "source": [
    "settings[\"PYTHON_OPS_RETURN_PROPS\"] = True\n",
    "divides = Naturals.divides\n",
    "is_prime = Naturals.prime\n",
    "a, b = variables(\"a\", \"b\")\n",
    "def only_divisible_by_1_or_itself(p):\n",
    "    return ForallInSet(\n",
    "    a,\n",
    "    Naturals,\n",
    "    Naturals.divides(a, p).implies(a.equals(1).or_(a.equals(p))),\n",
    ")\n",
    "\n",
    "def correct_premise(p):\n",
    "    return GreaterThan(p, 1).and_(\n",
    "            ForallInSet(\n",
    "                a,\n",
    "                Naturals,\n",
    "                Naturals.divides(a, p).implies(a.equals(1).or_(a.equals(p))),\n",
    "            ),\n",
    "        )"
   ]
  },
  {
   "cell_type": "code",
   "execution_count": 5,
   "id": "c5068eef",
   "metadata": {},
   "outputs": [
    {
     "data": {
      "text/latex": [
       "$$x^{-1} < 1$$"
      ],
      "text/plain": [
       "LessThan(x^-1, 1)"
      ]
     },
     "execution_count": 5,
     "metadata": {},
     "output_type": "execute_result"
    }
   ],
   "source": [
    "x = constants(\"x\", natural=True)\n",
    "premise = correct_premise(x).assume()\n",
    "goal = 1/x < 1\n",
    "goal"
   ]
  },
  {
   "cell_type": "code",
   "execution_count": 6,
   "id": "24da6700",
   "metadata": {},
   "outputs": [
    {
     "data": {
      "text/latex": [
       "$$x \\text{ is prime }$$"
      ],
      "text/plain": [
       "Prime(x)"
      ]
     },
     "metadata": {},
     "output_type": "display_data"
    },
    {
     "data": {
      "text/plain": [
       "True"
      ]
     },
     "metadata": {},
     "output_type": "display_data"
    }
   ],
   "source": [
    "x_is_prime = (Naturals.theorems.prime_theorems\n",
    "               .prime_irreducible_b(x)\n",
    "               .reverse_implication()(premise)\n",
    ")\n",
    "display(x_is_prime)\n",
    "x_gt_1 = Naturals.theorems.prime_theorems.prime_gt_1(x)(x_is_prime)\n",
    "result = (1 / x_gt_1).evaluate().to_less_than()\n",
    "\n",
    "display(has_been_proven(goal, result))"
   ]
  },
  {
   "cell_type": "code",
   "execution_count": 2,
   "id": "88d4aa0b",
   "metadata": {},
   "outputs": [
    {
     "data": {
      "text/latex": [
       "$$\\forall p \\in \\mathbb{N}: \\left(p \\text{ is prime } \\leftrightarrow p > 1\\wedge \\left(\\forall a \\in \\mathbb{N}: \\left(\\left. a \\middle|_\\mathbb{N} p \\right. \\rightarrow a = 1\\vee a = p\\right)\\right)\\right)$$"
      ],
      "text/plain": [
       "ForallInSet(Variable(p, deps=()), Set_Naturals, Iff(Prime(p), And(p > 1, ForallInSet(Variable(a, deps=()), Set_Naturals, Implies(Divides(a, p, Naturals), Or(Equals(a, 1), Equals(a, p)))))))"
      ]
     },
     "execution_count": 2,
     "metadata": {},
     "output_type": "execute_result"
    }
   ],
   "source": [
    "(Naturals.theorems.prime_theorems\n",
    "               .prime_irreducible_b\n",
    ")"
   ]
  },
  {
   "cell_type": "code",
   "execution_count": null,
   "id": "c89361d3",
   "metadata": {},
   "outputs": [],
   "source": []
  }
 ],
 "metadata": {
  "kernelspec": {
   "display_name": "Python 3",
   "language": "python",
   "name": "python3"
  },
  "language_info": {
   "codemirror_mode": {
    "name": "ipython",
    "version": 3
   },
   "file_extension": ".py",
   "mimetype": "text/x-python",
   "name": "python",
   "nbconvert_exporter": "python",
   "pygments_lexer": "ipython3",
   "version": "3.11.4"
  }
 },
 "nbformat": 4,
 "nbformat_minor": 5
}
