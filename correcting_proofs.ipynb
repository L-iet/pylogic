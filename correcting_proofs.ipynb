{
 "cells": [
  {
   "cell_type": "code",
   "execution_count": 1,
   "id": "e6f057e0",
   "metadata": {},
   "outputs": [],
   "source": [
    "from pylogic import *"
   ]
  },
  {
   "cell_type": "code",
   "execution_count": null,
   "id": "b264bc70",
   "metadata": {},
   "outputs": [],
   "source": [
    "settings[\"PYTHON_OPS_RETURN_PROPS\"] = True\n",
    "divides = Naturals.divides\n",
    "is_prime = Naturals.prime\n",
    "a, b = variables(\"a\", \"b\")\n",
    "def only_divisible_by_1_or_itself(p):\n",
    "    return ForallInSet(\n",
    "    a,\n",
    "    Naturals,\n",
    "    Naturals.divides(a, p).implies(a.equals(1).or_(a.equals(p))),\n",
    ")\n",
    "\n",
    "def correct_premise(p):\n",
    "    return GreaterThan(p, 1).and_(\n",
    "            ForallInSet(\n",
    "                a,\n",
    "                Naturals,\n",
    "                Naturals.divides(a, p).implies(a.equals(1).or_(a.equals(p))),\n",
    "            ),\n",
    "        )"
   ]
  },
  {
   "cell_type": "code",
   "execution_count": null,
   "id": "c5068eef",
   "metadata": {},
   "outputs": [
    {
     "data": {
      "text/latex": [
       "$$x^{-1} < 1$$"
      ],
      "text/plain": [
       "LessThan(x^-1, 1)"
      ]
     },
     "execution_count": 3,
     "metadata": {},
     "output_type": "execute_result"
    }
   ],
   "source": [
    "x = constants(\"x\", natural=True)\n",
    "premise = correct_premise(x).assume()\n",
    "goal = 1/x < 1\n",
    "goal"
   ]
  },
  {
   "cell_type": "code",
   "execution_count": null,
   "id": "24da6700",
   "metadata": {},
   "outputs": [
    {
     "data": {
      "text/latex": [
       "$$x > 1 \\rightarrow x \\text{ is prime }$$"
      ],
      "text/plain": [
       "Implies(x > 1, Prime(x))"
      ]
     },
     "metadata": {},
     "output_type": "display_data"
    },
    {
     "ename": "AssertionError",
     "evalue": "x is prime is not the same as x > 1 -> x is prime",
     "output_type": "error",
     "traceback": [
      "\u001b[1;31m---------------------------------------------------------------------------\u001b[0m",
      "\u001b[1;31mAssertionError\u001b[0m                            Traceback (most recent call last)",
      "Cell \u001b[1;32mIn[6], line 7\u001b[0m\n\u001b[0;32m      5\u001b[0m display(x_prime_def)\n\u001b[0;32m      6\u001b[0m x_is_prime \u001b[38;5;241m=\u001b[39m x_prime_def\n\u001b[1;32m----> 7\u001b[0m x_gt_1 \u001b[38;5;241m=\u001b[39m \u001b[43mNaturals\u001b[49m\u001b[38;5;241;43m.\u001b[39;49m\u001b[43mtheorems\u001b[49m\u001b[38;5;241;43m.\u001b[39;49m\u001b[43mprime_theorems\u001b[49m\u001b[38;5;241;43m.\u001b[39;49m\u001b[43mprime_gt_1\u001b[49m\u001b[43m(\u001b[49m\u001b[43mx\u001b[49m\u001b[43m)\u001b[49m\u001b[43m(\u001b[49m\u001b[43mx_is_prime\u001b[49m\u001b[43m)\u001b[49m\n\u001b[0;32m      8\u001b[0m (\u001b[38;5;241m1\u001b[39m \u001b[38;5;241m/\u001b[39m x_gt_1)\u001b[38;5;241m.\u001b[39mevaluate()\u001b[38;5;241m.\u001b[39mto_less_than()\n",
      "File \u001b[1;32md:\\Minerva\\courses\\CP\\pylogic\\pylogic\\proposition\\implies.py:90\u001b[0m, in \u001b[0;36mImplies.__call__\u001b[1;34m(self, *props)\u001b[0m\n\u001b[0;32m     89\u001b[0m \u001b[38;5;28;01mdef\u001b[39;00m\u001b[38;5;250m \u001b[39m\u001b[38;5;21m__call__\u001b[39m(\u001b[38;5;28mself\u001b[39m, \u001b[38;5;241m*\u001b[39mprops: Proposition):\n\u001b[1;32m---> 90\u001b[0m     \u001b[38;5;28;01mreturn\u001b[39;00m \u001b[38;5;28;43mself\u001b[39;49m\u001b[38;5;241;43m.\u001b[39;49m\u001b[43mdefinite_clause_resolve\u001b[49m\u001b[43m(\u001b[49m\u001b[43mprops\u001b[49m\u001b[43m)\u001b[49m\n",
      "File \u001b[1;32md:\\Minerva\\courses\\CP\\pylogic\\pylogic\\proposition\\implies.py:271\u001b[0m, in \u001b[0;36mImplies.definite_clause_resolve\u001b[1;34m(self, in_body, **kwargs)\u001b[0m\n\u001b[0;32m    267\u001b[0m \u001b[38;5;28;01mif\u001b[39;00m \u001b[38;5;129;01mnot\u001b[39;00m \u001b[38;5;28misinstance\u001b[39m(\u001b[38;5;28mself\u001b[39m\u001b[38;5;241m.\u001b[39mantecedent, And):\n\u001b[0;32m    268\u001b[0m     \u001b[38;5;28;01massert\u001b[39;00m \u001b[38;5;28misinstance\u001b[39m(\n\u001b[0;32m    269\u001b[0m         in_body, (\u001b[38;5;28mlist\u001b[39m, \u001b[38;5;28mtuple\u001b[39m)\n\u001b[0;32m    270\u001b[0m     ), \u001b[38;5;124mf\u001b[39m\u001b[38;5;124m\"\u001b[39m\u001b[38;5;132;01m{\u001b[39;00min_body\u001b[38;5;132;01m}\u001b[39;00m\u001b[38;5;124m should be a list/tuple since the antecedent is not an And\u001b[39m\u001b[38;5;124m\"\u001b[39m\n\u001b[1;32m--> 271\u001b[0m     \u001b[38;5;28;01mreturn\u001b[39;00m \u001b[43min_body\u001b[49m\u001b[43m[\u001b[49m\u001b[38;5;241;43m0\u001b[39;49m\u001b[43m]\u001b[49m\u001b[38;5;241;43m.\u001b[39;49m\u001b[43mmodus_ponens\u001b[49m\u001b[43m(\u001b[49m\u001b[38;5;28;43mself\u001b[39;49m\u001b[43m,\u001b[49m\u001b[43m \u001b[49m\u001b[38;5;241;43m*\u001b[39;49m\u001b[38;5;241;43m*\u001b[39;49m\u001b[43mkwargs\u001b[49m\u001b[43m)\u001b[49m  \u001b[38;5;66;03m# type: ignore\u001b[39;00m\n\u001b[0;32m    273\u001b[0m in_body_is_and \u001b[38;5;241m=\u001b[39m \u001b[38;5;28misinstance\u001b[39m(in_body, And)\n\u001b[0;32m    274\u001b[0m props \u001b[38;5;241m=\u001b[39m \u001b[38;5;28mset\u001b[39m(in_body\u001b[38;5;241m.\u001b[39mpropositions \u001b[38;5;28;01mif\u001b[39;00m in_body_is_and \u001b[38;5;28;01melse\u001b[39;00m in_body)\n",
      "File \u001b[1;32md:\\Minerva\\courses\\CP\\pylogic\\pylogic\\proposition\\proposition.py:1541\u001b[0m, in \u001b[0;36mProposition.modus_ponens\u001b[1;34m(self, other, **kwargs)\u001b[0m\n\u001b[0;32m   1538\u001b[0m \u001b[38;5;28;01mfrom\u001b[39;00m\u001b[38;5;250m \u001b[39m\u001b[38;5;21;01mpylogic\u001b[39;00m\u001b[38;5;21;01m.\u001b[39;00m\u001b[38;5;21;01mproposition\u001b[39;00m\u001b[38;5;21;01m.\u001b[39;00m\u001b[38;5;21;01mimplies\u001b[39;00m\u001b[38;5;250m \u001b[39m\u001b[38;5;28;01mimport\u001b[39;00m Implies\n\u001b[0;32m   1540\u001b[0m \u001b[38;5;28;01massert\u001b[39;00m \u001b[38;5;28misinstance\u001b[39m(other, (Implies, Iff)), \u001b[38;5;124mf\u001b[39m\u001b[38;5;124m\"\u001b[39m\u001b[38;5;132;01m{\u001b[39;00mother\u001b[38;5;132;01m}\u001b[39;00m\u001b[38;5;124m is not an implication\u001b[39m\u001b[38;5;124m\"\u001b[39m\n\u001b[1;32m-> 1541\u001b[0m \u001b[38;5;28;01massert\u001b[39;00m other\u001b[38;5;241m.\u001b[39mleft \u001b[38;5;241m==\u001b[39m \u001b[38;5;28mself\u001b[39m, \u001b[38;5;124mf\u001b[39m\u001b[38;5;124m\"\u001b[39m\u001b[38;5;132;01m{\u001b[39;00mother\u001b[38;5;241m.\u001b[39mleft\u001b[38;5;132;01m}\u001b[39;00m\u001b[38;5;124m is not the same as \u001b[39m\u001b[38;5;132;01m{\u001b[39;00m\u001b[38;5;28mself\u001b[39m\u001b[38;5;132;01m}\u001b[39;00m\u001b[38;5;124m\"\u001b[39m\n\u001b[0;32m   1542\u001b[0m new_p \u001b[38;5;241m=\u001b[39m other\u001b[38;5;241m.\u001b[39mright\u001b[38;5;241m.\u001b[39mcopy()\n\u001b[0;32m   1543\u001b[0m \u001b[38;5;28;01mif\u001b[39;00m kwargs\u001b[38;5;241m.\u001b[39mget(\u001b[38;5;124m\"\u001b[39m\u001b[38;5;124mprove\u001b[39m\u001b[38;5;124m\"\u001b[39m, \u001b[38;5;28;01mTrue\u001b[39;00m) \u001b[38;5;129;01mis\u001b[39;00m \u001b[38;5;28;01mFalse\u001b[39;00m:\n",
      "\u001b[1;31mAssertionError\u001b[0m: x is prime is not the same as x > 1 -> x is prime"
     ]
    }
   ],
   "source": [
    "x_is_prime = (Naturals.theorems.prime_theorems\n",
    "               .prime_irreducible_b(x)\n",
    "               .reverse_implication()(premise)\n",
    ")\n",
    "display(x_is_prime)\n",
    "x_gt_1 = Naturals.theorems.prime_theorems.prime_gt_1(x)(x_is_prime)\n",
    "(1 / x_gt_1).evaluate().to_less_than()"
   ]
  },
  {
   "cell_type": "code",
   "execution_count": null,
   "id": "9c490705",
   "metadata": {},
   "outputs": [],
   "source": []
  }
 ],
 "metadata": {
  "kernelspec": {
   "display_name": "Python 3",
   "language": "python",
   "name": "python3"
  },
  "language_info": {
   "codemirror_mode": {
    "name": "ipython",
    "version": 3
   },
   "file_extension": ".py",
   "mimetype": "text/x-python",
   "name": "python",
   "nbconvert_exporter": "python",
   "pygments_lexer": "ipython3",
   "version": "3.11.4"
  }
 },
 "nbformat": 4,
 "nbformat_minor": 5
}
