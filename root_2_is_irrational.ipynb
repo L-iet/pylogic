{
 "cells": [
  {
   "cell_type": "code",
   "execution_count": 1,
   "metadata": {},
   "outputs": [
    {
     "data": {
      "text/latex": [
       "$$2^{1/2}$$"
      ],
      "text/plain": [
       "Pow(Constant(2, deps=()), Constant(1/2, deps=()))"
      ]
     },
     "execution_count": 1,
     "metadata": {},
     "output_type": "execute_result"
    }
   ],
   "source": [
    "from pylogic.theories.numbers import Naturals, Rationals, Integers\n",
    "from pylogic.assumptions_context import AssumptionsContext, conclude\n",
    "from pylogic.expressions.expr import sqrt\n",
    "from pylogic.constant import Constant\n",
    "from pylogic.proposition.not_ import Not\n",
    "\n",
    "root_2 = rt2 = sqrt(2)\n",
    "root_2"
   ]
  },
  {
   "cell_type": "code",
   "execution_count": null,
   "metadata": {},
   "outputs": [
    {
     "name": "stdout",
     "output_type": "stream",
     "text": [
      "set()\n",
      "contradiction\n"
     ]
    },
    {
     "name": "stderr",
     "output_type": "stream",
     "text": [
      "d:\\Minerva\\courses\\CP\\pylogic\\pylogic\\proposition\\proposition.py:248: UserWarning: p^2 = 2 * q^2 is marked as TODO\n",
      "  warnings.warn(\n",
      "d:\\Minerva\\courses\\CP\\pylogic\\pylogic\\proposition\\proposition.py:248: UserWarning: q / 2 in Integers is marked as TODO\n",
      "  warnings.warn(\n"
     ]
    },
    {
     "data": {
      "text/latex": [
       "$$2^{1/2} \\not \\in \\mathbb{Q}$$"
      ],
      "text/plain": [
       "Not(IsContainedIn(2^1/2, Rationals))"
      ]
     },
     "execution_count": 2,
     "metadata": {},
     "output_type": "execute_result"
    }
   ],
   "source": [
    "with AssumptionsContext() as ctx:\n",
    "    rt2_rational = root_2.is_in(Rationals).assume()\n",
    "    rt2_ratio = Rationals.theorems.ratio_of_integers_lowest_terms(rt2)\n",
    "    p, (_, (q, (_, rt2_eq_p_over_q, gcd_p_q_eq_1))) = rt2_ratio\n",
    "    two_prime = Naturals.prime(2).by_inspection()\n",
    "    ...\n",
    "    psq_eq_2qsq = (p**2).equals(2*q**2).todo()\n",
    "    two_div_psq, _ = Integers.theorems.division_theorems.product(p**2, 2, q**2)(psq_eq_2qsq)\n",
    "    two_div_p = Integers.theorems.division_theorems.prime.prime_divides_power(2, p, 2)(two_prime, two_div_psq)\n",
    "    k, (_, p_eq_2k) = two_div_p.definition.rename_variable('k')\n",
    "    p2_eq_4k2 = p_eq_2k.apply(lambda t: t**2)\n",
    "    ...\n",
    "    two_div_q = Integers.divides(2, q).todo()\n",
    "    two_div_gcd_p_q = Integers.theorems.division_theorems.gcd(2, p, q)(two_div_p, two_div_q)\n",
    "    two_div_1 = two_div_gcd_p_q.substitute(\"right\", gcd_p_q_eq_1)\n",
    "    two_not_div_1 = Not(Integers.divides(2, 1)).by_inspection()\n",
    "\n",
    "    print(two_div_1.from_assumptions)\n",
    "\n",
    "    contra = two_div_1.contradicts(two_not_div_1)\n",
    "    \n",
    "    conclude(contra)\n",
    "    print(contra)\n",
    "\n",
    "ctx.get_proven()[0]"
   ]
  },
  {
   "cell_type": "code",
   "execution_count": 3,
   "metadata": {},
   "outputs": [
    {
     "data": {
      "text/latex": [
       "$$\\forall a \\in \\mathbb{Z}: \\forall b \\in \\mathbb{Z}: \\forall c \\in \\mathbb{Z}: \\left(a \\mid b\\wedge a \\mid c \\rightarrow a \\mid \\gcd\\left(b, c\\right)\\right)$$"
      ],
      "text/plain": [
       "ForallInSet(Variable(a, deps=()), Set_Integers, ForallInSet(Variable(b, deps=()), Set_Integers, ForallInSet(Variable(c, deps=()), Set_Integers, Implies(And(Divides(a, b), Divides(a, c)), Divides(a, gcd(b, c))))))"
      ]
     },
     "execution_count": 3,
     "metadata": {},
     "output_type": "execute_result"
    }
   ],
   "source": [
    "Integers.theorems.division_theorems.gcd"
   ]
  },
  {
   "cell_type": "code",
   "execution_count": 5,
   "metadata": {},
   "outputs": [
    {
     "data": {
      "text/latex": [
       "$$2^{1/2} > 1\\wedge \\forall a \\in \\mathbb{N}: \\forall b \\in \\mathbb{N}: \\left(2^{1/2} = a \\cdot b \\rightarrow a = 1\\oplus b = 1\\right)$$"
      ],
      "text/plain": [
       "And(2^1/2 > 1, ForallInSet(Variable(a, deps=()), Set_Naturals, ForallInSet(Variable(b, deps=()), Set_Naturals, Implies(Equals(2^1/2, a * b), ExOr(Equals(a, 1), Equals(b, 1))))))"
      ]
     },
     "execution_count": 5,
     "metadata": {},
     "output_type": "execute_result"
    }
   ],
   "source": [
    "Naturals.prime(rt2).definition"
   ]
  },
  {
   "cell_type": "code",
   "execution_count": 5,
   "metadata": {},
   "outputs": [
    {
     "data": {
      "text/latex": [
       "$$\\neg{2 \\mid 1}$$"
      ],
      "text/plain": [
       "Not(Divides(2, 1))"
      ]
     },
     "metadata": {},
     "output_type": "display_data"
    },
    {
     "name": "stdout",
     "output_type": "stream",
     "text": [
      "True\n"
     ]
    }
   ],
   "source": [
    "prop = Not(Naturals.divides(2, 1)).by_inspection()\n",
    "display(prop)\n",
    "print(prop.is_proven)"
   ]
  },
  {
   "cell_type": "code",
   "execution_count": 4,
   "metadata": {},
   "outputs": [
    {
     "data": {
      "text/latex": [
       "$$2 \\mid 4$$"
      ],
      "text/plain": [
       "Divides(2, 4)"
      ]
     },
     "metadata": {},
     "output_type": "display_data"
    },
    {
     "name": "stdout",
     "output_type": "stream",
     "text": [
      "True\n"
     ]
    }
   ],
   "source": [
    "prop = Naturals.divides(2, 4).by_inspection()\n",
    "display(prop)\n",
    "print(prop.is_proven)"
   ]
  },
  {
   "cell_type": "code",
   "execution_count": 8,
   "metadata": {},
   "outputs": [
    {
     "data": {
      "text/latex": [
       "$$\\neg{105 \\text{ is prime }}$$"
      ],
      "text/plain": [
       "Not(Prime(105))"
      ]
     },
     "execution_count": 8,
     "metadata": {},
     "output_type": "execute_result"
    }
   ],
   "source": [
    "Not(Naturals.prime(105)).by_inspection()"
   ]
  },
  {
   "cell_type": "code",
   "execution_count": null,
   "metadata": {},
   "outputs": [],
   "source": []
  }
 ],
 "metadata": {
  "kernelspec": {
   "display_name": "Python 3",
   "language": "python",
   "name": "python3"
  },
  "language_info": {
   "codemirror_mode": {
    "name": "ipython",
    "version": 3
   },
   "file_extension": ".py",
   "mimetype": "text/x-python",
   "name": "python",
   "nbconvert_exporter": "python",
   "pygments_lexer": "ipython3",
   "version": "3.11.4"
  }
 },
 "nbformat": 4,
 "nbformat_minor": 2
}
