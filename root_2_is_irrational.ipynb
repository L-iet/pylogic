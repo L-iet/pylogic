{
 "cells": [
  {
   "cell_type": "code",
   "execution_count": 1,
   "metadata": {},
   "outputs": [
    {
     "data": {
      "text/latex": [
       "$$2^{1/2}$$"
      ],
      "text/plain": [
       "Pow(Constant(2, deps=()), Constant(1/2, deps=()))"
      ]
     },
     "execution_count": 1,
     "metadata": {},
     "output_type": "execute_result"
    }
   ],
   "source": [
    "from pylogic.theories.numbers import Naturals, Rationals, Integers\n",
    "from pylogic.assumptions_context import AssumptionsContext, conclude\n",
    "from pylogic.expressions.expr import sqrt\n",
    "from pylogic.constant import Constant\n",
    "from pylogic.proposition.not_ import Not\n",
    "\n",
    "root_2 = rt2 = sqrt(2)\n",
    "root_2"
   ]
  },
  {
   "cell_type": "code",
   "execution_count": 2,
   "metadata": {},
   "outputs": [
    {
     "name": "stderr",
     "output_type": "stream",
     "text": [
      "d:\\Minerva\\courses\\CP\\pylogic\\pylogic\\proposition\\proposition.py:248: UserWarning: p^2 = 2 * q^2 is marked as TODO\n",
      "  warnings.warn(\n",
      "d:\\Minerva\\courses\\CP\\pylogic\\pylogic\\proposition\\proposition.py:248: UserWarning: 2 | q is marked as TODO\n",
      "  warnings.warn(\n"
     ]
    },
    {
     "name": "stdout",
     "output_type": "stream",
     "text": [
      "set()\n",
      "contradiction\n"
     ]
    },
    {
     "ename": "ValueError",
     "evalue": "Variable q is already bound in forall a: forall b: forall q: contradiction",
     "output_type": "error",
     "traceback": [
      "\u001b[1;31m---------------------------------------------------------------------------\u001b[0m",
      "\u001b[1;31mValueError\u001b[0m                                Traceback (most recent call last)",
      "Cell \u001b[1;32mIn[2], line 1\u001b[0m\n\u001b[1;32m----> 1\u001b[0m \u001b[38;5;28;43;01mwith\u001b[39;49;00m\u001b[43m \u001b[49m\u001b[43mAssumptionsContext\u001b[49m\u001b[43m(\u001b[49m\u001b[43m)\u001b[49m\u001b[43m \u001b[49m\u001b[38;5;28;43;01mas\u001b[39;49;00m\u001b[43m \u001b[49m\u001b[43mctx\u001b[49m\u001b[43m:\u001b[49m\n\u001b[0;32m      2\u001b[0m \u001b[43m    \u001b[49m\u001b[43mrt2_rational\u001b[49m\u001b[43m \u001b[49m\u001b[38;5;241;43m=\u001b[39;49m\u001b[43m \u001b[49m\u001b[43mroot_2\u001b[49m\u001b[38;5;241;43m.\u001b[39;49m\u001b[43mis_in\u001b[49m\u001b[43m(\u001b[49m\u001b[43mRationals\u001b[49m\u001b[43m)\u001b[49m\u001b[38;5;241;43m.\u001b[39;49m\u001b[43massume\u001b[49m\u001b[43m(\u001b[49m\u001b[43m)\u001b[49m\n\u001b[0;32m      3\u001b[0m \u001b[43m    \u001b[49m\u001b[43mrt2_ratio\u001b[49m\u001b[43m \u001b[49m\u001b[38;5;241;43m=\u001b[39;49m\u001b[43m \u001b[49m\u001b[43mRationals\u001b[49m\u001b[38;5;241;43m.\u001b[39;49m\u001b[43mtheorems\u001b[49m\u001b[38;5;241;43m.\u001b[39;49m\u001b[43mratio_of_integers_lowest_terms\u001b[49m\u001b[43m(\u001b[49m\u001b[43mrt2\u001b[49m\u001b[43m)\u001b[49m\n",
      "File \u001b[1;32md:\\Minerva\\courses\\CP\\pylogic\\pylogic\\assumptions_context.py:118\u001b[0m, in \u001b[0;36mAssumptionsContext.__exit__\u001b[1;34m(self, exc_type, exc_value, traceback)\u001b[0m\n\u001b[0;32m    115\u001b[0m         a\u001b[38;5;241m.\u001b[39m_set_is_assumption(\u001b[38;5;28;01mFalse\u001b[39;00m)\n\u001b[0;32m    117\u001b[0m \u001b[38;5;28;01mfor\u001b[39;00m p \u001b[38;5;129;01min\u001b[39;00m \u001b[38;5;28mself\u001b[39m\u001b[38;5;241m.\u001b[39m_interesting_conclusions:\n\u001b[1;32m--> 118\u001b[0m     \u001b[38;5;28mself\u001b[39m\u001b[38;5;241m.\u001b[39mproven_propositions\u001b[38;5;241m.\u001b[39mappend(\u001b[38;5;28;43mself\u001b[39;49m\u001b[38;5;241;43m.\u001b[39;49m\u001b[43m_build_proven\u001b[49m\u001b[43m(\u001b[49m\u001b[43mp\u001b[49m\u001b[43m)\u001b[49m)\n\u001b[0;32m    119\u001b[0m \u001b[38;5;28;01mdel\u001b[39;00m assumptions_contexts[\u001b[38;5;241m-\u001b[39m\u001b[38;5;241m1\u001b[39m]\n\u001b[0;32m    120\u001b[0m \u001b[38;5;28mself\u001b[39m\u001b[38;5;241m.\u001b[39mexited \u001b[38;5;241m=\u001b[39m \u001b[38;5;28;01mTrue\u001b[39;00m\n",
      "File \u001b[1;32md:\\Minerva\\courses\\CP\\pylogic\\pylogic\\assumptions_context.py:81\u001b[0m, in \u001b[0;36mAssumptionsContext._build_proven\u001b[1;34m(self, conclusion)\u001b[0m\n\u001b[0;32m     78\u001b[0m     \u001b[38;5;28;01melse\u001b[39;00m:\n\u001b[0;32m     79\u001b[0m         \u001b[38;5;66;03m# a is a free Variable, and we didn't skip so use Forall\u001b[39;00m\n\u001b[0;32m     80\u001b[0m         \u001b[38;5;28;01mif\u001b[39;00m a\u001b[38;5;241m.\u001b[39mis_bound \u001b[38;5;129;01mis\u001b[39;00m \u001b[38;5;28;01mFalse\u001b[39;00m \u001b[38;5;129;01mand\u001b[39;00m \u001b[38;5;28mlen\u001b[39m(a\u001b[38;5;241m.\u001b[39mdepends_on) \u001b[38;5;241m==\u001b[39m \u001b[38;5;241m0\u001b[39m:\n\u001b[1;32m---> 81\u001b[0m             cons \u001b[38;5;241m=\u001b[39m \u001b[43mForall\u001b[49m\u001b[43m(\u001b[49m\u001b[43ma\u001b[49m\u001b[43m,\u001b[49m\u001b[43m \u001b[49m\u001b[43mcons\u001b[49m\u001b[43m)\u001b[49m\n\u001b[0;32m     82\u001b[0m         i \u001b[38;5;241m+\u001b[39m\u001b[38;5;241m=\u001b[39m \u001b[38;5;241m1\u001b[39m\n\u001b[0;32m     83\u001b[0m cons\u001b[38;5;241m.\u001b[39m_set_is_proven(\u001b[38;5;28;01mTrue\u001b[39;00m)\n",
      "File \u001b[1;32md:\\Minerva\\courses\\CP\\pylogic\\pylogic\\proposition\\quantified\\forall.py:52\u001b[0m, in \u001b[0;36mForall.__init__\u001b[1;34m(self, variable, inner_proposition, is_assumption, description, **kwargs)\u001b[0m\n\u001b[0;32m     44\u001b[0m \u001b[38;5;28;01mdef\u001b[39;00m \u001b[38;5;21m__init__\u001b[39m(\n\u001b[0;32m     45\u001b[0m     \u001b[38;5;28mself\u001b[39m,\n\u001b[0;32m     46\u001b[0m     variable: Variable,\n\u001b[1;32m   (...)\u001b[0m\n\u001b[0;32m     50\u001b[0m     \u001b[38;5;241m*\u001b[39m\u001b[38;5;241m*\u001b[39mkwargs,\n\u001b[0;32m     51\u001b[0m ) \u001b[38;5;241m-\u001b[39m\u001b[38;5;241m>\u001b[39m \u001b[38;5;28;01mNone\u001b[39;00m:\n\u001b[1;32m---> 52\u001b[0m     \u001b[38;5;28;43msuper\u001b[39;49m\u001b[43m(\u001b[49m\u001b[43m)\u001b[49m\u001b[38;5;241;43m.\u001b[39;49m\u001b[38;5;21;43m__init__\u001b[39;49m\u001b[43m(\u001b[49m\n\u001b[0;32m     53\u001b[0m \u001b[43m        \u001b[49m\u001b[38;5;124;43m\"\u001b[39;49m\u001b[38;5;124;43mforall\u001b[39;49m\u001b[38;5;124;43m\"\u001b[39;49m\u001b[43m,\u001b[49m\n\u001b[0;32m     54\u001b[0m \u001b[43m        \u001b[49m\u001b[43mvariable\u001b[49m\u001b[43m,\u001b[49m\n\u001b[0;32m     55\u001b[0m \u001b[43m        \u001b[49m\u001b[43minner_proposition\u001b[49m\u001b[43m,\u001b[49m\n\u001b[0;32m     56\u001b[0m \u001b[43m        \u001b[49m\u001b[43mis_assumption\u001b[49m\u001b[43m,\u001b[49m\n\u001b[0;32m     57\u001b[0m \u001b[43m        \u001b[49m\u001b[43mdescription\u001b[49m\u001b[38;5;241;43m=\u001b[39;49m\u001b[43mdescription\u001b[49m\u001b[43m,\u001b[49m\n\u001b[0;32m     58\u001b[0m \u001b[43m        \u001b[49m\u001b[38;5;241;43m*\u001b[39;49m\u001b[38;5;241;43m*\u001b[39;49m\u001b[43mkwargs\u001b[49m\u001b[43m,\u001b[49m\n\u001b[0;32m     59\u001b[0m \u001b[43m    \u001b[49m\u001b[43m)\u001b[49m\n",
      "File \u001b[1;32md:\\Minerva\\courses\\CP\\pylogic\\pylogic\\proposition\\quantified\\quantified.py:31\u001b[0m, in \u001b[0;36m_Quantified.__init__\u001b[1;34m(self, _q, variable, inner_proposition, is_assumption, description, **kwargs)\u001b[0m\n\u001b[0;32m     29\u001b[0m     \u001b[38;5;28;01mraise\u001b[39;00m \u001b[38;5;167;01mTypeError\u001b[39;00m(\u001b[38;5;124mf\u001b[39m\u001b[38;5;124m\"\u001b[39m\u001b[38;5;132;01m{\u001b[39;00mvariable\u001b[38;5;132;01m}\u001b[39;00m\u001b[38;5;124m is not a variable\u001b[39m\u001b[38;5;124m\"\u001b[39m)\n\u001b[0;32m     30\u001b[0m \u001b[38;5;28;01mif\u001b[39;00m variable \u001b[38;5;129;01min\u001b[39;00m inner_proposition\u001b[38;5;241m.\u001b[39mbound_vars:\n\u001b[1;32m---> 31\u001b[0m     \u001b[38;5;28;01mraise\u001b[39;00m \u001b[38;5;167;01mValueError\u001b[39;00m(\n\u001b[0;32m     32\u001b[0m         \u001b[38;5;124mf\u001b[39m\u001b[38;5;124m\"\u001b[39m\u001b[38;5;124mVariable \u001b[39m\u001b[38;5;132;01m{\u001b[39;00mvariable\u001b[38;5;132;01m}\u001b[39;00m\u001b[38;5;124m is already bound in \u001b[39m\u001b[38;5;132;01m{\u001b[39;00minner_proposition\u001b[38;5;132;01m}\u001b[39;00m\u001b[38;5;124m\"\u001b[39m\n\u001b[0;32m     33\u001b[0m     )\n\u001b[0;32m     34\u001b[0m \u001b[38;5;28msuper\u001b[39m()\u001b[38;5;241m.\u001b[39m\u001b[38;5;21m__init__\u001b[39m(\n\u001b[0;32m     35\u001b[0m     \u001b[38;5;124mf\u001b[39m\u001b[38;5;124m\"\u001b[39m\u001b[38;5;132;01m{\u001b[39;00m_q\u001b[38;5;132;01m}\u001b[39;00m\u001b[38;5;124m \u001b[39m\u001b[38;5;132;01m{\u001b[39;00mvariable\u001b[38;5;132;01m}\u001b[39;00m\u001b[38;5;124m: \u001b[39m\u001b[38;5;132;01m{\u001b[39;00minner_proposition\u001b[38;5;241m.\u001b[39mname\u001b[38;5;132;01m}\u001b[39;00m\u001b[38;5;124m\"\u001b[39m,\n\u001b[0;32m     36\u001b[0m     is_assumption,\n\u001b[1;32m   (...)\u001b[0m\n\u001b[0;32m     39\u001b[0m     \u001b[38;5;241m*\u001b[39m\u001b[38;5;241m*\u001b[39mkwargs,\n\u001b[0;32m     40\u001b[0m )\n\u001b[0;32m     41\u001b[0m \u001b[38;5;28mself\u001b[39m\u001b[38;5;241m.\u001b[39minner_proposition: TProposition \u001b[38;5;241m=\u001b[39m inner_proposition\n",
      "\u001b[1;31mValueError\u001b[0m: Variable q is already bound in forall a: forall b: forall q: contradiction"
     ]
    }
   ],
   "source": [
    "with AssumptionsContext() as ctx:\n",
    "    rt2_rational = root_2.is_in(Rationals).assume()\n",
    "    rt2_ratio = Rationals.theorems.ratio_of_integers_lowest_terms(rt2)\n",
    "    p, (_, (q, (_, rt2_eq_p_over_q, gcd_p_q_eq_1))) = rt2_ratio\n",
    "    two_prime = Naturals.prime(2).by_inspection()\n",
    "\n",
    "    ...\n",
    "    psq_eq_2qsq = (p**2).equals(2*q**2).todo()\n",
    "    two_div_psq, _ = Integers.theorems.division_theorems.product(p**2, 2, q**2)(psq_eq_2qsq)\n",
    "    two_div_p = Integers.theorems.division_theorems.prime.prime_divides_power(2, p, 2)(two_prime, two_div_psq)\n",
    "    k, (_, p_eq_2k) = two_div_p.definition.rename_variable('k')\n",
    "    p2_eq_4k2 = p_eq_2k.apply(lambda t: t**2)\n",
    "    ...\n",
    "    two_div_q = Integers.divides(2, q).todo()\n",
    "    two_div_gcd_p_q = Integers.theorems.division_theorems.gcd(2, p, q)(two_div_p, two_div_q)\n",
    "    two_div_1 = two_div_gcd_p_q.substitute(\"right\", gcd_p_q_eq_1)\n",
    "    two_not_div_1 = Not(Integers.divides(2, 1)).by_inspection()\n",
    "\n",
    "    print(two_div_1.from_assumptions)\n",
    "\n",
    "    contra = two_div_1.contradicts(two_not_div_1)\n",
    "    \n",
    "    conclude(contra)\n",
    "    print(contra)\n",
    "\n",
    "#ctx.get_proven()    "
   ]
  },
  {
   "cell_type": "code",
   "execution_count": 3,
   "metadata": {},
   "outputs": [
    {
     "data": {
      "text/latex": [
       "$$\\forall a \\in \\mathbb{Z}: \\forall b \\in \\mathbb{Z}: \\forall c \\in \\mathbb{Z}: \\left(a \\mid b\\wedge a \\mid c \\rightarrow a \\mid \\gcd\\left(b, c\\right)\\right)$$"
      ],
      "text/plain": [
       "ForallInSet(Variable(a, deps=()), Set_Integers, ForallInSet(Variable(b, deps=()), Set_Integers, ForallInSet(Variable(c, deps=()), Set_Integers, Implies(And(Divides(a, b), Divides(a, c)), Divides(a, gcd(b, c))))))"
      ]
     },
     "execution_count": 3,
     "metadata": {},
     "output_type": "execute_result"
    }
   ],
   "source": [
    "Integers.theorems.division_theorems.gcd"
   ]
  },
  {
   "cell_type": "code",
   "execution_count": 5,
   "metadata": {},
   "outputs": [
    {
     "data": {
      "text/latex": [
       "$$2^{1/2} > 1\\wedge \\forall a \\in \\mathbb{N}: \\forall b \\in \\mathbb{N}: \\left(2^{1/2} = a \\cdot b \\rightarrow a = 1\\oplus b = 1\\right)$$"
      ],
      "text/plain": [
       "And(2^1/2 > 1, ForallInSet(Variable(a, deps=()), Set_Naturals, ForallInSet(Variable(b, deps=()), Set_Naturals, Implies(Equals(2^1/2, a * b), ExOr(Equals(a, 1), Equals(b, 1))))))"
      ]
     },
     "execution_count": 5,
     "metadata": {},
     "output_type": "execute_result"
    }
   ],
   "source": [
    "Naturals.prime(rt2).definition"
   ]
  },
  {
   "cell_type": "code",
   "execution_count": 5,
   "metadata": {},
   "outputs": [
    {
     "data": {
      "text/latex": [
       "$$\\neg{2 \\mid 1}$$"
      ],
      "text/plain": [
       "Not(Divides(2, 1))"
      ]
     },
     "metadata": {},
     "output_type": "display_data"
    },
    {
     "name": "stdout",
     "output_type": "stream",
     "text": [
      "True\n"
     ]
    }
   ],
   "source": [
    "prop = Not(Naturals.divides(2, 1)).by_inspection()\n",
    "display(prop)\n",
    "print(prop.is_proven)"
   ]
  },
  {
   "cell_type": "code",
   "execution_count": 4,
   "metadata": {},
   "outputs": [
    {
     "data": {
      "text/latex": [
       "$$2 \\mid 4$$"
      ],
      "text/plain": [
       "Divides(2, 4)"
      ]
     },
     "metadata": {},
     "output_type": "display_data"
    },
    {
     "name": "stdout",
     "output_type": "stream",
     "text": [
      "True\n"
     ]
    }
   ],
   "source": [
    "prop = Naturals.divides(2, 4).by_inspection()\n",
    "display(prop)\n",
    "print(prop.is_proven)"
   ]
  },
  {
   "cell_type": "code",
   "execution_count": 8,
   "metadata": {},
   "outputs": [
    {
     "data": {
      "text/latex": [
       "$$\\neg{105 \\text{ is prime }}$$"
      ],
      "text/plain": [
       "Not(Prime(105))"
      ]
     },
     "execution_count": 8,
     "metadata": {},
     "output_type": "execute_result"
    }
   ],
   "source": [
    "Not(Naturals.prime(105)).by_inspection()"
   ]
  },
  {
   "cell_type": "code",
   "execution_count": null,
   "metadata": {},
   "outputs": [],
   "source": []
  }
 ],
 "metadata": {
  "kernelspec": {
   "display_name": "Python 3",
   "language": "python",
   "name": "python3"
  },
  "language_info": {
   "codemirror_mode": {
    "name": "ipython",
    "version": 3
   },
   "file_extension": ".py",
   "mimetype": "text/x-python",
   "name": "python",
   "nbconvert_exporter": "python",
   "pygments_lexer": "ipython3",
   "version": "3.11.4"
  }
 },
 "nbformat": 4,
 "nbformat_minor": 2
}
