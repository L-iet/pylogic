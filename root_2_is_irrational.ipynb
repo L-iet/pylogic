{
 "cells": [
  {
   "cell_type": "code",
   "execution_count": 1,
   "metadata": {},
   "outputs": [
    {
     "data": {
      "text/latex": [
       "$$2^{1/2}$$"
      ],
      "text/plain": [
       "Pow(Constant(2, deps=()), Constant(1/2, deps=()))"
      ]
     },
     "execution_count": 1,
     "metadata": {},
     "output_type": "execute_result"
    }
   ],
   "source": [
    "from pylogic.theories.numbers import Naturals, Rationals, Integers\n",
    "from pylogic.assumptions_context import AssumptionsContext\n",
    "from pylogic.expressions.expr import sqrt\n",
    "from pylogic.constant import Constant\n",
    "from pylogic.proposition.not_ import Not\n",
    "\n",
    "root_2 = rt2 = sqrt(2)\n",
    "root_2"
   ]
  },
  {
   "cell_type": "code",
   "execution_count": 2,
   "metadata": {},
   "outputs": [
    {
     "data": {
      "text/latex": [
       "$$2^{1/2} = p \\cdot q^{-1}$$"
      ],
      "text/plain": [
       "Equals(2^1/2, p * q^-1)"
      ]
     },
     "execution_count": 2,
     "metadata": {},
     "output_type": "execute_result"
    }
   ],
   "source": [
    "with AssumptionsContext() as ctx:\n",
    "    rt2_rational = root_2.is_in(Rationals).assume()\n",
    "    rt2_ratio = Rationals.theorems.ratio_of_integers_lowest_terms(rt2)\n",
    "    p, (_, (q, (_, rt2_eq_p_over_q, gcd_p_q_eq_1))) = rt2_ratio\n",
    "\n",
    "rt2_eq_p_over_q\n",
    "    "
   ]
  },
  {
   "cell_type": "code",
   "execution_count": 3,
   "metadata": {},
   "outputs": [
    {
     "data": {
      "text/latex": [
       "$$\\forall p \\in \\mathbb{N}: \\forall a \\in \\mathbb{Z}: \\forall b \\in \\mathbb{Z}: \\left(p \\text{ is prime }\\wedge p \\mid a \\cdot b \\rightarrow p \\mid a\\vee p \\mid b\\right)$$"
      ],
      "text/plain": [
       "ForallInSet(Variable(p, deps=()), Set_Naturals, ForallInSet(Variable(a, deps=()), Set_Integers, ForallInSet(Variable(b, deps=()), Set_Integers, Implies(And(Prime(p), Divides(p, a * b)), Or(Divides(p, a), Divides(p, b))))))"
      ]
     },
     "execution_count": 3,
     "metadata": {},
     "output_type": "execute_result"
    }
   ],
   "source": [
    "Integers.theorems.division_theorems.prime.prime_divides_product"
   ]
  },
  {
   "cell_type": "code",
   "execution_count": 5,
   "metadata": {},
   "outputs": [
    {
     "data": {
      "text/latex": [
       "$$2^{1/2} > 1\\wedge \\forall a \\in \\mathbb{N}: \\forall b \\in \\mathbb{N}: \\left(2^{1/2} = a \\cdot b \\rightarrow a = 1\\oplus b = 1\\right)$$"
      ],
      "text/plain": [
       "And(2^1/2 > 1, ForallInSet(Variable(a, deps=()), Set_Naturals, ForallInSet(Variable(b, deps=()), Set_Naturals, Implies(Equals(2^1/2, a * b), ExOr(Equals(a, 1), Equals(b, 1))))))"
      ]
     },
     "execution_count": 5,
     "metadata": {},
     "output_type": "execute_result"
    }
   ],
   "source": [
    "Naturals.prime(rt2).definition"
   ]
  },
  {
   "cell_type": "code",
   "execution_count": 2,
   "metadata": {},
   "outputs": [
    {
     "data": {
      "text/latex": [
       "$$\\neg{2 \\mid 3}$$"
      ],
      "text/plain": [
       "Not(Divides(2, 3))"
      ]
     },
     "metadata": {},
     "output_type": "display_data"
    },
    {
     "name": "stdout",
     "output_type": "stream",
     "text": [
      "True\n"
     ]
    }
   ],
   "source": [
    "prop = Not(Naturals.divides(2, 3)).by_inspection()\n",
    "display(prop)\n",
    "print(prop.is_proven)"
   ]
  },
  {
   "cell_type": "code",
   "execution_count": null,
   "metadata": {},
   "outputs": [
    {
     "data": {
      "text/latex": [
       "$$2 \\mid 4$$"
      ],
      "text/plain": [
       "Divides(2, 4)"
      ]
     },
     "execution_count": 3,
     "metadata": {},
     "output_type": "execute_result"
    }
   ],
   "source": [
    "prop = Naturals.divides(2, 4).by_inspection()\n",
    "display(prop)\n",
    "print(prop.is_proven)"
   ]
  },
  {
   "cell_type": "code",
   "execution_count": null,
   "metadata": {},
   "outputs": [],
   "source": []
  }
 ],
 "metadata": {
  "kernelspec": {
   "display_name": "Python 3",
   "language": "python",
   "name": "python3"
  },
  "language_info": {
   "codemirror_mode": {
    "name": "ipython",
    "version": 3
   },
   "file_extension": ".py",
   "mimetype": "text/x-python",
   "name": "python",
   "nbconvert_exporter": "python",
   "pygments_lexer": "ipython3",
   "version": "3.11.4"
  }
 },
 "nbformat": 4,
 "nbformat_minor": 2
}
