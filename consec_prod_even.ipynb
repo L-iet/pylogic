{
 "cells": [
  {
   "cell_type": "markdown",
   "metadata": {},
   "source": [
    "**Warning: This notebook is not up-to-date and may not currently work as expected.**"
   ]
  },
  {
   "cell_type": "markdown",
   "metadata": {},
   "source": [
    "We prove that the product of consecutive natural numbers is even.\n",
    "\n",
    "Lean code: https://leanprover-community.github.io/lean-web-editor/#code=import%20data.nat.basic%0Aimport%20data.nat.parity%20--%20Import%20library%20for%20parity%20%28even%2Fodd%29%20operations%0Aimport%20tactic%0A%0A--%20Define%20what%20it%20means%20for%20a%20number%20to%20be%20even%0A--%20def%20even%20%28n%20%3A%20%E2%84%95%29%20%3A%20Prop%20%3A%3D%20%E2%88%83%20k%20%3A%20%E2%84%95%2C%20n%20%3D%202%20*%20k%0A%0A--%20The%20main%20theorem%3A%20for%20all%20n%2C%20n%20*%20%28n%20%2B%201%29%20is%20even.%0Atheorem%20n_mul_n_add_one_even%20%28n%20%3A%20%E2%84%95%29%20%3A%20even%20%28n%20*%20%28n%20%2B%201%29%29%20%3A%3D%0Abegin%0A%20%20--%20Use%20induction%20on%20n%0A%20%20induction%20n%20with%20d%20hd%2C%0A%20%20%7B%20--%20Base%20case%3A%20n%20%3D%200%0A%20%20%20%20--%20We%20need%20to%20show%200%20*%20%280%20%2B%201%29%20%3D%200%20is%20even.%0A%20%20%20%20use%200%2C%20--%200%20%3D%202%20*%200%0A%20%20%20%20refl%2C%20%7D%2C%0A%0A%20%20%7B%20--%20Inductive%20step%3A%20assume%20the%20statement%20holds%20for%20d%2C%20prove%20for%20d%20%2B%201.%0A%20%20%20%20--%20By%20the%20induction%20hypothesis%2C%20d%20*%20%28d%20%2B%201%29%20is%20even.%0A%20%20%20%20cases%20hd%20with%20k%20hk%2C%20--%20so%20d%20*%20%28d%20%2B%201%29%20%3D%202%20*%20k%20for%20some%20k.%0A%0A%20%20%20%20--%20Now%2C%20we%20need%20to%20show%20%28d%20%2B%201%29%20*%20%28d%20%2B%202%29%20is%20even.%0A%20%20%20%20have%20h%20%3A%20%28d%20%2B%201%29%20*%20%28d%20%2B%202%29%20%3D%20d%20*%20%28d%20%2B%201%29%20%2B%202%20*%20%28d%20%2B%201%29%2C%0A%20%20%20%20%7B%20ring%2C%20%7D%2C%20--%20Using%20distributive%20law.%0A%0A%20%20%20%20--%20Since%20both%20terms%20on%20the%20right%20are%20multiples%20of%202%2C%20the%20sum%20is%20even.%0A%20%20%20%20rw%20hk%20at%20h%2C%20--%20Replace%20d%20*%20%28d%20%2B%201%29%20with%202%20*%20k.%0A%20%20%20%20use%20%28k%20%2B%20d%20%2B%201%29%2C%20--%20%28k%20%2B%20d%20%2B%201%29%20works%20as%20the%20witness%20for%20evenness.%0A%20%20%20%20rw%20h%2C%20--%20Use%20the%20new%20equality.%0A%20%20%20%20ring%2C%20--%20Simplify%20to%20show%20equality%20holds.%0A%20%20%7D%0Aend%0A%0A%0A%0A%0A%0A%0A\n",
    "\n",
    "import data.nat.basic\n",
    "import data.nat.parity -- Import library for parity (even/odd) operations\n",
    "import tactic\n",
    "\n",
    "-- Define what it means for a number to be even\n",
    "-- def even (n : ℕ) : Prop := ∃ k : ℕ, n = 2 * k\n",
    "\n",
    "-- The main theorem: for all n, n * (n + 1) is even.\n",
    "theorem n_mul_n_add_one_even (n : ℕ) : even (n * (n + 1)) :=\n",
    "begin\n",
    "  -- Use induction on n\n",
    "  induction n with d hd,\n",
    "  { -- Base case: n = 0\n",
    "    -- We need to show 0 * (0 + 1) = 0 is even.\n",
    "    use 0, -- 0 = 2 * 0\n",
    "    refl, },\n",
    "\n",
    "  { -- Inductive step: assume the statement holds for d, prove for d + 1.\n",
    "    -- By the induction hypothesis, d * (d + 1) is even.\n",
    "    cases hd with k hk, -- so d * (d + 1) = 2 * k for some k.\n",
    "\n",
    "    -- Now, we need to show (d + 1) * (d + 2) is even.\n",
    "    have h : (d + 1) * (d + 2) = d * (d + 1) + 2 * (d + 1),\n",
    "    { ring, }, -- Using distributive law.\n",
    "\n",
    "    -- Since both terms on the right are multiples of 2, the sum is even.\n",
    "    rw hk at h, -- Replace d * (d + 1) with 2 * k.\n",
    "    use (k + d + 1), -- (k + d + 1) works as the witness for evenness.\n",
    "    rw h, -- Use the new equality.\n",
    "    ring, -- Simplify to show equality holds.\n",
    "  }\n",
    "end"
   ]
  },
  {
   "cell_type": "code",
   "execution_count": 23,
   "metadata": {},
   "outputs": [],
   "source": [
    "from pylogic.helpers import assume\n",
    "from pylogic.theories.natural_numbers import Naturals, zero\n",
    "from pylogic.variable import Variable\n",
    "\n",
    "n = Variable(\"n\", natural=True)\n",
    "\n",
    "\n"
   ]
  },
  {
   "cell_type": "code",
   "execution_count": 24,
   "metadata": {},
   "outputs": [
    {
     "data": {
      "text/latex": [
       "$$\\exists k \\in \\text{Naturals}: {0 \\cdot \\left({\\left(0 + 1\\right)}\\right)} = {2 \\cdot k}$$"
      ],
      "text/plain": [
       "exists k in Naturals: 0 * (0 + 1) = 2 * k"
      ]
     },
     "execution_count": 24,
     "metadata": {},
     "output_type": "execute_result"
    }
   ],
   "source": [
    "zero_is_even = (\n",
    "    (zero * (zero + 1))\n",
    "    .equals(2 * zero)\n",
    "    .by_simplification()\n",
    "    .thus_there_exists(\"k\", zero, Naturals, positions=[[1]])\n",
    ")\n",
    "\n",
    "zero_is_even\n"
   ]
  },
  {
   "cell_type": "code",
   "execution_count": 25,
   "metadata": {},
   "outputs": [],
   "source": [
    "induction_hypothesis = assume(Naturals.even(n * (n + 1)))\n"
   ]
  },
  {
   "cell_type": "code",
   "execution_count": 26,
   "metadata": {},
   "outputs": [
    {
     "data": {
      "text/latex": [
       "$$k$$"
      ],
      "text/plain": [
       "Variable(k, deps=(Variable(n, deps=()),))"
      ]
     },
     "metadata": {},
     "output_type": "display_data"
    },
    {
     "data": {
      "text/latex": [
       "$$\\left(k \\in \\text{Naturals}\\wedge {n \\cdot \\left({\\left(n + 1\\right)}\\right)} = {2 \\cdot k}\\right)$$"
      ],
      "text/plain": [
       "(k in Naturals /\\ n * (n + 1) = 2 * k)"
      ]
     },
     "metadata": {},
     "output_type": "display_data"
    }
   ],
   "source": [
    "factor, n_times_nplus_1_is_2_times_factor = induction_hypothesis.extract()\n",
    "display(factor)\n",
    "display(n_times_nplus_1_is_2_times_factor)"
   ]
  },
  {
   "cell_type": "code",
   "execution_count": 27,
   "metadata": {},
   "outputs": [
    {
     "data": {
      "text/latex": [
       "$${\\left({\\left(n + 1\\right)}\\right) \\cdot \\left({\\left(n + 2\\right)}\\right)} = {\\left({n \\cdot \\left({\\left(n + 1\\right)}\\right)} + {2 \\cdot \\left({\\left(n + 1\\right)}\\right)}\\right)}$$"
      ],
      "text/plain": [
       "(n + 1) * (n + 2) = n * (n + 1) + 2 * (n + 1)"
      ]
     },
     "execution_count": 27,
     "metadata": {},
     "output_type": "execute_result"
    }
   ],
   "source": [
    "step1 = ((n + 1) * (n + 2)).equals(n * (n + 1) + 2 * (n + 1)).by_simplification()\n",
    "step1"
   ]
  },
  {
   "cell_type": "code",
   "execution_count": 28,
   "metadata": {},
   "outputs": [],
   "source": [
    "step2 = step1.p_substitute(\"right\", n_times_nplus_1_is_2_times_factor[1])\n"
   ]
  },
  {
   "cell_type": "code",
   "execution_count": 29,
   "metadata": {},
   "outputs": [],
   "source": [
    "step3 = (2 * factor + 2 * (n + 1)).equals(2 * (factor + (n + 1))).by_simplification()\n"
   ]
  },
  {
   "cell_type": "code",
   "execution_count": 30,
   "metadata": {},
   "outputs": [],
   "source": [
    "step4 = step2.transitive(step3)\n"
   ]
  },
  {
   "cell_type": "code",
   "execution_count": 31,
   "metadata": {},
   "outputs": [],
   "source": [
    "n_plus_1__times__n_plus_2__is_even = step4.thus_there_exists(\n",
    "    \"k\", factor + (n + 1), Naturals\n",
    ")\n"
   ]
  },
  {
   "cell_type": "code",
   "execution_count": 32,
   "metadata": {},
   "outputs": [
    {
     "data": {
      "text/latex": [
       "$$\\forall n \\in \\text{Naturals}: \\left(\\exists k \\in \\text{Naturals}: {n \\cdot \\left({\\left(n + 1\\right)}\\right)} = {2 \\cdot k} \\rightarrow \\exists k \\in \\text{Naturals}: {\\left({\\left(n + 1\\right)}\\right) \\cdot \\left({\\left(n + 2\\right)}\\right)} = {2 \\cdot k}\\right)$$"
      ],
      "text/plain": [
       "forall n in Naturals: [exists k in Naturals: n * (n + 1) = 2 * k -> exists k in Naturals: (n + 1) * (n + 2) = 2 * k]"
      ]
     },
     "execution_count": 32,
     "metadata": {},
     "output_type": "execute_result"
    }
   ],
   "source": [
    "induction_step = n_plus_1__times__n_plus_2__is_even.followed_from(\n",
    "    induction_hypothesis\n",
    ").thus_forall(n, Naturals)\n",
    "induction_step\n",
    "\n",
    "\n"
   ]
  },
  {
   "cell_type": "code",
   "execution_count": null,
   "metadata": {},
   "outputs": [],
   "source": []
  },
  {
   "cell_type": "code",
   "execution_count": 33,
   "metadata": {},
   "outputs": [
    {
     "data": {
      "text/latex": [
       "$$\\forall n \\in \\text{Naturals}: \\exists k \\in \\text{Naturals}: {n \\cdot \\left({\\left(n + 1\\right)}\\right)} = {2 \\cdot k}$$"
      ],
      "text/plain": [
       "forall n in Naturals: exists k in Naturals: n * (n + 1) = 2 * k"
      ]
     },
     "execution_count": 33,
     "metadata": {},
     "output_type": "execute_result"
    }
   ],
   "source": [
    "Naturals.weak_induction(zero_is_even, induction_step)"
   ]
  }
 ],
 "metadata": {
  "kernelspec": {
   "display_name": "Python 3",
   "language": "python",
   "name": "python3"
  },
  "language_info": {
   "codemirror_mode": {
    "name": "ipython",
    "version": 3
   },
   "file_extension": ".py",
   "mimetype": "text/x-python",
   "name": "python",
   "nbconvert_exporter": "python",
   "pygments_lexer": "ipython3",
   "version": "3.11.4"
  }
 },
 "nbformat": 4,
 "nbformat_minor": 2
}
