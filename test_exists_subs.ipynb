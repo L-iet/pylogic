{
 "cells": [
  {
   "cell_type": "code",
   "execution_count": 1,
   "metadata": {},
   "outputs": [],
   "source": [
    "from pylogic.proposition.quantified.exists import ExistsInSet, Exists\n",
    "from pylogic.structures.set_ import Set\n",
    "from pylogic.variable import Variable\n",
    "from pylogic.constant import Constant\n",
    "from pylogic.proposition.proposition import prop"
   ]
  },
  {
   "cell_type": "code",
   "execution_count": 2,
   "metadata": {},
   "outputs": [],
   "source": [
    "A = Set(\"A\")\n",
    "x = Variable(\"x\")\n",
    "y = Variable(\"y\")\n",
    "z = Variable(\"z\")\n",
    "\n",
    "a = Constant(\"a\")\n",
    "b = Constant(\"b\")\n",
    "c = Constant(\"c\")\n",
    "\n"
   ]
  },
  {
   "cell_type": "code",
   "execution_count": 3,
   "metadata": {},
   "outputs": [],
   "source": [
    "a_in_A = a.is_in(A).assume()\n",
    "b_in_A = b.is_in(A).assume()\n",
    "\n",
    "pa = prop(\"p\", a).assume()\n",
    "pb = prop(\"p\", b).assume()\n",
    "pab = prop(\"p\", a, b).assume()"
   ]
  },
  {
   "cell_type": "code",
   "execution_count": 4,
   "metadata": {},
   "outputs": [
    {
     "data": {
      "text/latex": [
       "$$\\exists x \\in \\text{A}: \\exists y \\in \\text{A}: \\text{p}\\left(x, y\\right)$$"
      ],
      "text/plain": [
       "ExistsInSet(Variable(x, deps=()), Set_A, ExistsInSet(Variable(y, deps=()), Set_A, Proposition(p, x, y)))"
      ]
     },
     "execution_count": 4,
     "metadata": {},
     "output_type": "execute_result"
    }
   ],
   "source": [
    "ExistsInSet(x, A,ExistsInSet(y, A, prop(\"p\", x, y))).by_substitution(a, b, proven=pab)"
   ]
  },
  {
   "cell_type": "code",
   "execution_count": 5,
   "metadata": {},
   "outputs": [
    {
     "data": {
      "text/latex": [
       "$$\\exists x: \\exists y: \\text{p}\\left(x, y\\right)$$"
      ],
      "text/plain": [
       "Exists(Variable(x, deps=()), Exists(Variable(y, deps=()), Proposition(p, x, y)))"
      ]
     },
     "execution_count": 5,
     "metadata": {},
     "output_type": "execute_result"
    }
   ],
   "source": [
    "Exists(x, Exists(y, prop(\"p\", x, y))).by_substitution(a, b, proven=pab)"
   ]
  }
 ],
 "metadata": {
  "kernelspec": {
   "display_name": "Python 3",
   "language": "python",
   "name": "python3"
  },
  "language_info": {
   "codemirror_mode": {
    "name": "ipython",
    "version": 3
   },
   "file_extension": ".py",
   "mimetype": "text/x-python",
   "name": "python",
   "nbconvert_exporter": "python",
   "pygments_lexer": "ipython3",
   "version": "3.11.4"
  }
 },
 "nbformat": 4,
 "nbformat_minor": 2
}
