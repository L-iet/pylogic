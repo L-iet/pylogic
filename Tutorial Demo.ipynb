{
 "cells": [
  {
   "cell_type": "markdown",
   "metadata": {},
   "source": [
    "## Introduction\n",
    "In this demo, I'll be showing you how to write some basic proofs using Pylogic. First, a brief description of Pylogic.\n",
    "\n",
    "Pylogic is a proof assistant written entirely in Python. It uses structural pattern matching to check whether inference rules\n",
    "are correctly applied, in which case an inference can be derived.\n",
    "\n",
    "This is not an automated theorem prover, and cannot prove most complex statements by itself. How to use it is to write out the proof\n",
    "steps as you would by hand, but using Pylogic methods instead.\n",
    "\n",
    "Pylogic is still in early development, and there are still many bugs to be fixed. However, the inference rules themselves are\n",
    "logically valid.\n",
    "\n",
    "In this demo, if you encounter any errors or seemingly wrong outputs, try running all cells from the top again to ensure everything is initialized correctly. \n",
    "\n",
    "This demo might seem long, but it's not meant to be. There's a lot of explanatory text and code. Feel free to skip some parts if you are familiar with the concepts.\n",
    "\n",
    "Feel free to play around with the code, such as checking the `.inference_rules` attribute to see the list of inference rule methods a proposition or class supports. For each inference rule, if you call the `help` function on it, you should get a little (hopefully helpful but may not currently be)\n",
    "docstring explaining it.\n",
    "\n",
    "An example is shown in at the end of the demo.\n",
    "\n",
    "## Pylogic\n",
    "There are two main types of objects in Pylogic: `Proposition`s and `Term`s. A `Proposition` represents a mathematical sentence that\n",
    "can be proven, or its negation can be proven. This is similar to saying the `Proposition` is true or false, but is slightly different.\n",
    "\n",
    "A `Proposition` that is not proven is not necessarily False, we just have not shown if it (or its negation) is True.\n",
    "\n",
    "`Terms` are objects that can serve as arguments to `Proposition`s. A `Term` is something like a set, a number, a sequence, etc. For example,\n",
    "in the code\n",
    "\n",
    "```python\n",
    "x.is_in(S)\n",
    "```\n",
    "which represents a sentence like $x \\in S$ where $x$ is a number and $S$ is a set, $x$ and $S$ are `Term`s, and $x \\in S$ is a `Proposition`.\n",
    "\n",
    "Typically, all the terms in a `Proposition` are visible as its arguments under the `.args` attribute.\n",
    "\n",
    "In Pylogic, there are `Variable`, `Constant`, `Set`, `Sequence`, and expressions like `Add`, `Mul`, etc representing different types of `Term`s.\n",
    "\n",
    "## Proofs\n",
    "In a proof, you typically start with some assumptions and derive some conclusion. Let's first create a proposition. We can create an atomic\n",
    "proposition named P as follows"
   ]
  },
  {
   "cell_type": "code",
   "execution_count": 1,
   "metadata": {},
   "outputs": [],
   "source": [
    "from pylogic.proposition.proposition import Proposition\n",
    "\n",
    "P = Proposition('P')"
   ]
  },
  {
   "cell_type": "markdown",
   "metadata": {},
   "source": [
    "`P` has no arguments, which we see when we access `P.args`"
   ]
  },
  {
   "cell_type": "code",
   "execution_count": 2,
   "metadata": {},
   "outputs": [
    {
     "data": {
      "text/plain": [
       "[]"
      ]
     },
     "execution_count": 2,
     "metadata": {},
     "output_type": "execute_result"
    }
   ],
   "source": [
    "P.args"
   ]
  },
  {
   "cell_type": "markdown",
   "metadata": {},
   "source": [
    "This could represent something like \"It rains today\", if we assume that has no arguments.\n",
    "\n",
    "Let's create another proposition with an argument,\n",
    "called `Qx`."
   ]
  },
  {
   "cell_type": "code",
   "execution_count": 3,
   "metadata": {},
   "outputs": [
    {
     "data": {
      "text/latex": [
       "$$\\text{Q}\\left(x\\right)$$"
      ],
      "text/plain": [
       "Proposition(Q, x)"
      ]
     },
     "execution_count": 3,
     "metadata": {},
     "output_type": "execute_result"
    }
   ],
   "source": [
    "from pylogic.proposition.proposition import Proposition\n",
    "from pylogic.constant import Constant\n",
    "x = Constant('x')\n",
    "Qx = Proposition('Q', args=[x])\n",
    "Qx"
   ]
  },
  {
   "cell_type": "markdown",
   "metadata": {},
   "source": [
    "Here, `x` is the argument. We had to create a `Constant` term as the argument. In future iterations, this will be simplified.\n",
    "\n",
    "`x` represents some term, such as \"the ground\" in the sentence \"the ground is wet\". We can imagine the `Q` to be a 'predicate', something\n",
    "that needs an argument `x` to become a Proposition. Just like \"__ is wet\" needs an argument to make sense.\n",
    "\n",
    "Of course, we could have named the propositions anything, and this will show up when we view it in the notebook. Note: if you type a value\n",
    "(without printing) or use the `display` function, the Ipython (Jupyter) notebook shows a latex representation of the object if available.\n",
    "\n",
    "Now what if we want the statement \"If it rains today, the ground is wet\"? We can create such as statement using `.implies`:"
   ]
  },
  {
   "cell_type": "code",
   "execution_count": 4,
   "metadata": {},
   "outputs": [
    {
     "data": {
      "text/latex": [
       "$$\\text{P} \\rightarrow \\text{Q}\\left(x\\right)$$"
      ],
      "text/plain": [
       "Implies(Proposition(P), Proposition(Q, x))"
      ]
     },
     "execution_count": 4,
     "metadata": {},
     "output_type": "execute_result"
    }
   ],
   "source": [
    "P.implies(Qx)"
   ]
  },
  {
   "cell_type": "markdown",
   "metadata": {},
   "source": [
    "The implication is displayed as antecedent $\\rightarrow$ consequent. We just created these 3 propositions `P`, `Qx` and `P -> Qx`, which we did not yet save to a variable. Let's do that, so we can refer to it."
   ]
  },
  {
   "cell_type": "code",
   "execution_count": 5,
   "metadata": {},
   "outputs": [
    {
     "data": {
      "text/latex": [
       "$$\\text{P} \\rightarrow \\text{Q}\\left(x\\right)$$"
      ],
      "text/plain": [
       "Implies(Proposition(P), Proposition(Q, x))"
      ]
     },
     "execution_count": 5,
     "metadata": {},
     "output_type": "execute_result"
    }
   ],
   "source": [
    "P_implies_Qx = P.implies(Qx)\n",
    "P_implies_Qx"
   ]
  },
  {
   "cell_type": "markdown",
   "metadata": {},
   "source": [
    "Now, each of these are just statements, but we're not doing anything with them. We haven't assumed anything, and we can't prove anything.\n",
    "\n",
    "Let's make some assumptions. Suppose we know that \"If it rains today, the ground is wet\" to be true, and we also know \"It rains today\" to be true.\n",
    "Since we already created these propositions, we can simply assume them, and they are marked as assumptions.\n",
    "\n",
    "Before we assume them, let's take a look at the `.is_assumption` and `.is_proven` attributes"
   ]
  },
  {
   "cell_type": "code",
   "execution_count": 6,
   "metadata": {},
   "outputs": [
    {
     "name": "stdout",
     "output_type": "stream",
     "text": [
      "False\n",
      "False\n",
      "False\n",
      "False\n"
     ]
    }
   ],
   "source": [
    "print(P.is_assumption)\n",
    "print(P_implies_Qx.is_assumption)\n",
    "\n",
    "print(P.is_proven)\n",
    "print(P_implies_Qx.is_proven)"
   ]
  },
  {
   "cell_type": "code",
   "execution_count": 7,
   "metadata": {},
   "outputs": [
    {
     "name": "stdout",
     "output_type": "stream",
     "text": [
      "True\n",
      "True\n",
      "True\n",
      "True\n"
     ]
    }
   ],
   "source": [
    "P.assume()\n",
    "P_implies_Qx.assume()\n",
    "\n",
    "print(P.is_assumption)\n",
    "print(P_implies_Qx.is_assumption)\n",
    "print(P.is_proven)\n",
    "print(P_implies_Qx.is_proven)"
   ]
  },
  {
   "cell_type": "markdown",
   "metadata": {},
   "source": [
    "Now these are assumed to be true. Because they are assumed, they have automatically been proven.\n",
    "\n",
    "The goal of a proof is to get the precise sentence you want to prove, with the `.is_proven` attribute as `True`.\n",
    "\n",
    "Of course, just assuming what you want to prove is trivial and not helpful. Here, we can try to prove something new.\n",
    "Let's prove that the ground is wet, using our assumptions.\n",
    "\n",
    "We can use the _Modus ponens_ inference rule to do this. _Modus ponens_ says that given \"A\" and \"A implies B\" as premises, we can conclude \"B\".\n",
    "\n",
    "There are a couple of ways to use _modus ponens_ here, but the straight-forward way is to call it on the first premise, the \"A\" in (\"A\" and \"A implies B\"), passing the second premise (\"A implies B\") which is an implication, as an argument.\n",
    "\n",
    "In this case, we do the following:"
   ]
  },
  {
   "cell_type": "code",
   "execution_count": 8,
   "metadata": {},
   "outputs": [
    {
     "data": {
      "text/latex": [
       "$$\\text{Q}\\left(x\\right)$$"
      ],
      "text/plain": [
       "Proposition(Q, x)"
      ]
     },
     "execution_count": 8,
     "metadata": {},
     "output_type": "execute_result"
    }
   ],
   "source": [
    "P.modus_ponens(P_implies_Qx)"
   ]
  },
  {
   "cell_type": "markdown",
   "metadata": {},
   "source": [
    "We see that we get Qx. Whenever we use an inference rule method, it typically produces a proven proposition if all the premises and argument\n",
    "are logically valid, and the structures match appropriately.\n",
    "\n",
    "Let's save the result of modus_ponens in a variable and inspect it."
   ]
  },
  {
   "cell_type": "code",
   "execution_count": 9,
   "metadata": {},
   "outputs": [
    {
     "data": {
      "text/latex": [
       "$$\\text{Q}\\left(x\\right)$$"
      ],
      "text/plain": [
       "Proposition(Q, x)"
      ]
     },
     "metadata": {},
     "output_type": "display_data"
    },
    {
     "name": "stdout",
     "output_type": "stream",
     "text": [
      "True\n"
     ]
    }
   ],
   "source": [
    "conclusion = P.modus_ponens(P_implies_Qx)\n",
    "display(conclusion)\n",
    "print(conclusion.is_proven)"
   ]
  },
  {
   "cell_type": "markdown",
   "metadata": {},
   "source": [
    "We see that the conclusion is indeed `Qx` and it is proven. Here is the same proof but in more natural language:"
   ]
  },
  {
   "cell_type": "code",
   "execution_count": 10,
   "metadata": {},
   "outputs": [
    {
     "data": {
      "text/latex": [
       "$$\\text{is wet}\\left(the ground\\right)$$"
      ],
      "text/plain": [
       "Proposition(is wet, the ground)"
      ]
     },
     "metadata": {},
     "output_type": "display_data"
    },
    {
     "name": "stdout",
     "output_type": "stream",
     "text": [
      "True\n"
     ]
    }
   ],
   "source": [
    "It_is_raining = Proposition('It is raining')\n",
    "the_ground = Constant('the ground')\n",
    "the_ground_is_wet = Proposition('is wet', args=[the_ground])\n",
    "\n",
    "It_is_raining.assume()\n",
    "If_it_is_raining_then_the_ground_is_wet = It_is_raining.implies(the_ground_is_wet).assume()\n",
    "conclusion = It_is_raining.modus_ponens(If_it_is_raining_then_the_ground_is_wet)\n",
    "display(conclusion)\n",
    "print(conclusion.is_proven)"
   ]
  },
  {
   "cell_type": "markdown",
   "metadata": {},
   "source": [
    "Let's do another proof at at faster pace. We will prove a conjunction by proving each of its conjuncts, the sentences that make it up.\n",
    "\n",
    "First, we will assume a universally quantified sentence \"for all x, P(x)\" is true. Then we assume \"Q(2)\", and \"Q(2) implies R(2)\" are true.\n",
    "\n",
    "We want to prove that \"P(2) and R(2)\" is true.\n",
    "\n",
    "For quantification, we need to use variables."
   ]
  },
  {
   "cell_type": "code",
   "execution_count": 11,
   "metadata": {},
   "outputs": [
    {
     "data": {
      "text/latex": [
       "$$\\forall x: \\text{P}\\left(x\\right)$$"
      ],
      "text/plain": [
       "Forall(Variable(x, deps=()), Proposition(P, x))"
      ]
     },
     "execution_count": 11,
     "metadata": {},
     "output_type": "execute_result"
    }
   ],
   "source": [
    "from pylogic.variable import Variable\n",
    "from pylogic.proposition.quantified.forall import Forall\n",
    "\n",
    "x = Variable('x')\n",
    "forall_x_px = Forall(x, Proposition('P', args=[x]), is_assumption=True)\n",
    "forall_x_px"
   ]
  },
  {
   "cell_type": "markdown",
   "metadata": {},
   "source": [
    "`Forall` is a subclass of `Proposition`, used to represent a universally quantified sentence such as the one above. It means,\n",
    "\"P(x) is true for every x\".\n",
    "\n",
    "Above, I have made `forall_x_px` an assumption directly when I created it by setting `is_assumption=True`. Note that `is_assumption=True` is set on the outermost proposition, the `Forall`, not the inner proposition, `P(x)`.\n",
    "\n",
    "We can do similarly for our other assumptions."
   ]
  },
  {
   "cell_type": "code",
   "execution_count": 12,
   "metadata": {},
   "outputs": [],
   "source": [
    "from pylogic.constant import Constant\n",
    "two = Constant(2)\n",
    "Q2 = Proposition('Q', args=[two], is_assumption=True)\n",
    "R2 = Proposition('R', args=[two])\n",
    "\n",
    "Q2_implies_R2 = Q2.implies(R2, is_assumption=True)"
   ]
  },
  {
   "cell_type": "markdown",
   "metadata": {},
   "source": [
    "Now we have three assumptions. Observe how they are made assumptions by using the `is_assumption` keyword argument directly on the outermost proposition.\n",
    "In the case of `Q2_implies_R2`, the `.implies` method creates an implication, and we can pass other keyword arguments such as `is_assumption`\n",
    "to build the resulting proposition.\n",
    "\n",
    "Another way to create the implication is below:"
   ]
  },
  {
   "cell_type": "code",
   "execution_count": 13,
   "metadata": {},
   "outputs": [
    {
     "data": {
      "text/latex": [
       "$$\\text{Q}\\left(2\\right) \\rightarrow \\text{R}\\left(2\\right)$$"
      ],
      "text/plain": [
       "Implies(Proposition(Q, 2), Proposition(R, 2))"
      ]
     },
     "execution_count": 13,
     "metadata": {},
     "output_type": "execute_result"
    }
   ],
   "source": [
    "from pylogic.proposition.implies import Implies\n",
    "Q2_implies_R2 = Implies(Q2, R2, is_assumption=True)\n",
    "Q2_implies_R2"
   ]
  },
  {
   "cell_type": "markdown",
   "metadata": {},
   "source": [
    "Also note that we created proposition `R2` above, but we did not assume it. We also haven't proven it yet. It was simply created\n",
    "to help us subsequently create the proposition `Q2_implies_R2`, which we did assume. If you were to inspect the `.is_proven` method\n",
    "on `R2` above, you would get False:"
   ]
  },
  {
   "cell_type": "code",
   "execution_count": 14,
   "metadata": {},
   "outputs": [
    {
     "data": {
      "text/plain": [
       "False"
      ]
     },
     "execution_count": 14,
     "metadata": {},
     "output_type": "execute_result"
    }
   ],
   "source": [
    "R2.is_proven"
   ]
  },
  {
   "cell_type": "markdown",
   "metadata": {},
   "source": [
    "Now we can use _modus ponens_ and our assumption `Q2` to prove `R2`:"
   ]
  },
  {
   "cell_type": "code",
   "execution_count": 15,
   "metadata": {},
   "outputs": [
    {
     "data": {
      "text/latex": [
       "$$\\text{R}\\left(2\\right)$$"
      ],
      "text/plain": [
       "Proposition(R, 2)"
      ]
     },
     "metadata": {},
     "output_type": "display_data"
    },
    {
     "name": "stdout",
     "output_type": "stream",
     "text": [
      "True\n"
     ]
    }
   ],
   "source": [
    "R2 = Q2.modus_ponens(Q2_implies_R2)\n",
    "display(R2)\n",
    "print(R2.is_proven)"
   ]
  },
  {
   "cell_type": "markdown",
   "metadata": {},
   "source": [
    "Remember that we wanted to prove that \"P(2) and R(2)\" is true. We're halfway; let's prove \"P(2)\" using the universally quantified sentence.\n",
    "\n",
    "Since \"for all x, P(x)\" is true, P should be true in particular for 2, since 2 is an object in our universe.\n",
    "We use an `.in_particular` method to achieve this:"
   ]
  },
  {
   "cell_type": "code",
   "execution_count": 16,
   "metadata": {},
   "outputs": [
    {
     "data": {
      "text/latex": [
       "$$\\text{P}\\left(2\\right)$$"
      ],
      "text/plain": [
       "Proposition(P, 2)"
      ]
     },
     "metadata": {},
     "output_type": "display_data"
    },
    {
     "name": "stdout",
     "output_type": "stream",
     "text": [
      "True\n"
     ]
    }
   ],
   "source": [
    "P2 = forall_x_px.in_particular(two)\n",
    "display(P2)\n",
    "print(P2.is_proven)"
   ]
  },
  {
   "cell_type": "markdown",
   "metadata": {},
   "source": [
    "Compare the universally quantified sentence `forall_x_px` above to `P2`. The term `2` was substituted for every appearance of variable `x` in the `Forall` sentence.\n",
    "\n",
    "Now that we have `P2` and `R2` individually, we can prove the conjunction `P2 and R2`:"
   ]
  },
  {
   "cell_type": "code",
   "execution_count": 17,
   "metadata": {},
   "outputs": [
    {
     "data": {
      "text/latex": [
       "$$\\text{P}\\left(2\\right)\\wedge \\text{R}\\left(2\\right)$$"
      ],
      "text/plain": [
       "And(Proposition(P, 2), Proposition(R, 2))"
      ]
     },
     "metadata": {},
     "output_type": "display_data"
    },
    {
     "name": "stdout",
     "output_type": "stream",
     "text": [
      "True\n"
     ]
    }
   ],
   "source": [
    "P2_and_R2 = P2.and_(R2)\n",
    "display(P2_and_R2)\n",
    "print(P2_and_R2.is_proven)"
   ]
  },
  {
   "cell_type": "markdown",
   "metadata": {},
   "source": [
    "`.and_` is also an inference rule: if we have proven each individual part, we can prove a conjunction made of these parts.\n",
    "\n",
    "We reached our goal, and we're happy 🎉\n",
    "\n",
    "## Outro\n",
    "\n",
    "A few things to note. There is an underscore at the end of `.and_`. This is because Python already uses `and` as a keyword. If you have suggestions\n",
    "for better names for some of these inference rules, I'd be happy to hear them.\n",
    "\n",
    "Also, you don't have to inspect the `.is_proven` attribute every time; it was done here to show how the propositions behave\n",
    "with this attribute when assumed, proven or neither. If you are sure the inference worked, which is when there are no errors,\n",
    "you can move on to your next goal.\n",
    "\n",
    "You can take a look at all the inference rules available on a proposition by looking at the `.inference_rules` attribute. For each inference rule, call the `help` function to get its docstring."
   ]
  },
  {
   "cell_type": "code",
   "execution_count": 18,
   "metadata": {},
   "outputs": [
    {
     "data": {
      "text/plain": [
       "['hypothetical_syllogism',\n",
       " 'impl_elim',\n",
       " 'definite_clause_resolve',\n",
       " 'unit_definite_clause_resolve',\n",
       " 'first_unit_definite_clause_resolve',\n",
       " 'contrapositive']"
      ]
     },
     "execution_count": 18,
     "metadata": {},
     "output_type": "execute_result"
    }
   ],
   "source": [
    "Q2_implies_R2.inference_rules"
   ]
  },
  {
   "cell_type": "code",
   "execution_count": 19,
   "metadata": {},
   "outputs": [
    {
     "name": "stdout",
     "output_type": "stream",
     "text": [
      "Help on method unit_definite_clause_resolve in module pylogic.proposition.implies:\n",
      "\n",
      "unit_definite_clause_resolve(in_body: 'Proposition') -> 'Self | Implies[Proposition, UProposition] | UProposition' method of pylogic.proposition.implies.Implies instance\n",
      "    Logical inference rule. Given self `(A /\\ B /\\ C...) -> D` is proven, and\n",
      "    given one of the props (say B) in the antecedent is proven,\n",
      "    return a proof of the new definite clause `(A /\\ C /\\ ...) -> D`\n",
      "    or `A -> D` if only A is left in the body, or D if the antecedent is\n",
      "    left empty.\n",
      "\n"
     ]
    }
   ],
   "source": [
    "help(Q2_implies_R2.unit_definite_clause_resolve)"
   ]
  },
  {
   "cell_type": "markdown",
   "metadata": {},
   "source": [
    "For most inference rules, you will need **proven** propositions (either by assuming them or proving them from other assumptions) to work.\n",
    "The structures of the inference rules must match as specified.\n",
    "\n",
    "If the docstrings are not helpful, as they are still a work in progress, you can look-up some of the inference rule names online."
   ]
  },
  {
   "cell_type": "markdown",
   "metadata": {},
   "source": [
    "## Conclusion\n",
    "\n",
    "This was a brief introduction to Pylogic, a mathematical proof assistant in Python.\n",
    "Much work remains to be done, such as simplifying import statements and adding convenience functions.\n",
    "\n",
    "For now, the following imports are needed if you want to work with the corresponding classes and terms below."
   ]
  },
  {
   "cell_type": "code",
   "execution_count": 20,
   "metadata": {},
   "outputs": [],
   "source": [
    "from pylogic.proposition.proposition import Proposition\n",
    "from pylogic.proposition.and_ import And\n",
    "from pylogic.proposition.or_ import Or\n",
    "from pylogic.proposition.not_ import Not\n",
    "from pylogic.proposition.implies import Implies\n",
    "from pylogic.constant import Constant\n",
    "from pylogic.variable import Variable\n",
    "from pylogic.structures.set_ import Set\n",
    "from pylogic.proposition.quantified.forall import Forall, ForallInSet, ForallSubsets\n",
    "from pylogic.proposition.quantified.exists import Exists, ExistsInSet, ExistsSubset, ExistsUnique, ExistsUniqueInSet, ExistsUniqueSubset\n",
    "from pylogic.structures.grouplike.group import Group, AbelianGroup\n",
    "from pylogic.structures.ringlike.ring import RIng\n",
    "from pylogic.structures.ringlike.rng import Rng\n",
    "from pylogic.structures.ringlike.field import Field\n",
    "from pylogic.theories.real_analysis import Reals\n",
    "from pylogic.theories.natural_numbers import Naturals\n",
    "from pylogic.abc import x, y, z # variables\n",
    "from pylogic.abc import cx, cy, cz # constants\n",
    "from pylogic.assumptions_context import AssumptionsContext\n",
    "from pylogic.expressions.abs import Abs\n",
    "from pylogic.proposition.ordering.lessthan import LessThan\n",
    "from pylogic.proposition.ordering.greaterorequal import GreaterOrEqual\n",
    "from pylogic.proposition.relation.equals import Equals\n",
    "from pylogic.proposition.relation.contains import IsContainedIn"
   ]
  },
  {
   "cell_type": "code",
   "execution_count": 21,
   "metadata": {},
   "outputs": [
    {
     "data": {
      "text/latex": [
       "$$\\mathbb{R}$$"
      ],
      "text/plain": [
       "Set_Reals"
      ]
     },
     "execution_count": 21,
     "metadata": {},
     "output_type": "execute_result"
    }
   ],
   "source": [
    "Reals"
   ]
  },
  {
   "cell_type": "code",
   "execution_count": 22,
   "metadata": {},
   "outputs": [
    {
     "data": {
      "text/latex": [
       "$$x \\in \\mathbb{N}$$"
      ],
      "text/plain": [
       "IsContainedIn(x, Naturals)"
      ]
     },
     "execution_count": 22,
     "metadata": {},
     "output_type": "execute_result"
    }
   ],
   "source": [
    "x.is_in(Naturals)"
   ]
  },
  {
   "cell_type": "markdown",
   "metadata": {},
   "source": [
    "Thanks for your attention!"
   ]
  },
  {
   "cell_type": "code",
   "execution_count": null,
   "metadata": {},
   "outputs": [],
   "source": []
  }
 ],
 "metadata": {
  "kernelspec": {
   "display_name": "Python 3 (ipykernel)",
   "language": "python",
   "name": "python3"
  },
  "language_info": {
   "codemirror_mode": {
    "name": "ipython",
    "version": 3
   },
   "file_extension": ".py",
   "mimetype": "text/x-python",
   "name": "python",
   "nbconvert_exporter": "python",
   "pygments_lexer": "ipython3",
   "version": "3.11.5"
  }
 },
 "nbformat": 4,
 "nbformat_minor": 2
}
